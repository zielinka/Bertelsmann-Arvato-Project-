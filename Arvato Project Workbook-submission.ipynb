{
 "cells": [
  {
   "cell_type": "markdown",
   "metadata": {},
   "source": [
    "# Capstone Project: Create a Customer Segmentation Report for Arvato Financial Services\n",
    "\n",
    "In this project, you will analyze demographics data for customers of a mail-order sales company in Germany, comparing it against demographics information for the general population. You'll use unsupervised learning techniques to perform customer segmentation, identifying the parts of the population that best describe the core customer base of the company. Then, you'll apply what you've learned on a third dataset with demographics information for targets of a marketing campaign for the company, and use a model to predict which individuals are most likely to convert into becoming customers for the company. The data that you will use has been provided by our partners at Bertelsmann Arvato Analytics, and represents a real-life data science task.\n",
    "\n",
    "If you completed the first term of this program, you will be familiar with the first part of this project, from the unsupervised learning project. The versions of those two datasets used in this project will include many more features and has not been pre-cleaned. You are also free to choose whatever approach you'd like to analyzing the data rather than follow pre-determined steps. In your work on this project, make sure that you carefully document your steps and decisions, since your main deliverable for this project will be a blog post reporting your findings."
   ]
  },
  {
   "cell_type": "code",
   "execution_count": null,
   "metadata": {},
   "outputs": [],
   "source": [
    "# import libraries here; add more as necessary\n",
    "import numpy as np\n",
    "import pandas as pd\n",
    "import matplotlib.pyplot as plt\n",
    "import seaborn as sns\n",
    "import pickle\n",
    "import skopt\n",
    "from sklearn import preprocessing\n",
    "from sklearn.cluster import KMeans\n",
    "from sklearn.decomposition import PCA\n",
    "from sklearn.preprocessing import MinMaxScaler, LabelEncoder\n",
    "from sklearn.ensemble import  RandomForestClassifier, GradientBoostingClassifier\n",
    "from sklearn.model_selection import train_test_split\n",
    "from sklearn.metrics import accuracy_score, roc_auc_score\n",
    "from sklearn.model_selection import GridSearchCV\n",
    "from skopt import BayesSearchCV\n",
    "import xgboost as xgbc\n",
    "from sklearn.model_selection import cross_val_predict\n",
    "from sklearn.metrics import precision_score, f1_score, roc_auc_score\n",
    "# magic word for producing visualizations in notebook\n",
    "%matplotlib inline\n"
   ]
  },
  {
   "cell_type": "markdown",
   "metadata": {},
   "source": [
    "## Part 0: Get to Know the Data\n",
    "\n",
    "There are four data files associated with this project:\n",
    "\n",
    "- `Udacity_AZDIAS_052018.csv`: Demographics data for the general population of Germany; 891 211 persons (rows) x 366 features (columns).\n",
    "- `Udacity_CUSTOMERS_052018.csv`: Demographics data for customers of a mail-order company; 191 652 persons (rows) x 369 features (columns).\n",
    "- `Udacity_MAILOUT_052018_TRAIN.csv`: Demographics data for individuals who were targets of a marketing campaign; 42 982 persons (rows) x 367 (columns).\n",
    "- `Udacity_MAILOUT_052018_TEST.csv`: Demographics data for individuals who were targets of a marketing campaign; 42 833 persons (rows) x 366 (columns).\n",
    "\n",
    "Each row of the demographics files represents a single person, but also includes information outside of individuals, including information about their household, building, and neighborhood. Use the information from the first two files to figure out how customers (\"CUSTOMERS\") are similar to or differ from the general population at large (\"AZDIAS\"), then use your analysis to make predictions on the other two files (\"MAILOUT\"), predicting which recipients are most likely to become a customer for the mail-order company.\n",
    "\n",
    "The \"CUSTOMERS\" file contains three extra columns ('CUSTOMER_GROUP', 'ONLINE_PURCHASE', and 'PRODUCT_GROUP'), which provide broad information about the customers depicted in the file. The original \"MAILOUT\" file included one additional column, \"RESPONSE\", which indicated whether or not each recipient became a customer of the company. For the \"TRAIN\" subset, this column has been retained, but in the \"TEST\" subset it has been removed; it is against that withheld column that your final predictions will be assessed in the Kaggle competition.\n",
    "\n",
    "Otherwise, all of the remaining columns are the same between the three data files. For more information about the columns depicted in the files, you can refer to two Excel spreadsheets provided in the workspace. [One of them](./DIAS Information Levels - Attributes 2017.xlsx) is a top-level list of attributes and descriptions, organized by informational category. [The other](./DIAS Attributes - Values 2017.xlsx) is a detailed mapping of data values for each feature in alphabetical order.\n",
    "\n",
    "In the below cell, we've provided some initial code to load in the first two datasets. Note for all of the `.csv` data files in this project that they're semicolon (`;`) delimited, so an additional argument in the [`read_csv()`](https://pandas.pydata.org/pandas-docs/stable/generated/pandas.read_csv.html) call has been included to read in the data properly. Also, considering the size of the datasets, it may take some time for them to load completely.\n",
    "\n",
    "You'll notice when the data is loaded in that a warning message will immediately pop up. Before you really start digging into the modeling and analysis, you're going to need to perform some cleaning. Take some time to browse the structure of the data and look over the informational spreadsheets to understand the data values. Make some decisions on which features to keep, which features to drop, and if any revisions need to be made on data formats. It'll be a good idea to create a function with pre-processing steps, since you'll need to clean all of the datasets before you work with them."
   ]
  },
  {
   "cell_type": "code",
   "execution_count": 1,
   "metadata": {},
   "outputs": [],
   "source": [
    "# load in the data\n",
    "azdias = pd.read_csv('../../data/Term2/capstone/arvato_data/Udacity_AZDIAS_052018.csv', sep=';')\n"
   ]
  },
  {
   "cell_type": "code",
   "execution_count": 2,
   "metadata": {},
   "outputs": [],
   "source": [
    "customers = pd.read_csv('../../data/Term2/capstone/arvato_data/Udacity_CUSTOMERS_052018.csv', sep=';')"
   ]
  },
  {
   "cell_type": "code",
   "execution_count": 7,
   "metadata": {},
   "outputs": [
    {
     "data": {
      "text/html": [
       "<div>\n",
       "<style scoped>\n",
       "    .dataframe tbody tr th:only-of-type {\n",
       "        vertical-align: middle;\n",
       "    }\n",
       "\n",
       "    .dataframe tbody tr th {\n",
       "        vertical-align: top;\n",
       "    }\n",
       "\n",
       "    .dataframe thead th {\n",
       "        text-align: right;\n",
       "    }\n",
       "</style>\n",
       "<table border=\"1\" class=\"dataframe\">\n",
       "  <thead>\n",
       "    <tr style=\"text-align: right;\">\n",
       "      <th></th>\n",
       "      <th>LNR</th>\n",
       "      <th>AGER_TYP</th>\n",
       "      <th>AKT_DAT_KL</th>\n",
       "      <th>ALTER_HH</th>\n",
       "      <th>ALTER_KIND1</th>\n",
       "      <th>ALTER_KIND2</th>\n",
       "      <th>ALTER_KIND3</th>\n",
       "      <th>ALTER_KIND4</th>\n",
       "      <th>ALTERSKATEGORIE_FEIN</th>\n",
       "      <th>ANZ_HAUSHALTE_AKTIV</th>\n",
       "      <th>...</th>\n",
       "      <th>VHN</th>\n",
       "      <th>VK_DHT4A</th>\n",
       "      <th>VK_DISTANZ</th>\n",
       "      <th>VK_ZG11</th>\n",
       "      <th>W_KEIT_KIND_HH</th>\n",
       "      <th>WOHNDAUER_2008</th>\n",
       "      <th>WOHNLAGE</th>\n",
       "      <th>ZABEOTYP</th>\n",
       "      <th>ANREDE_KZ</th>\n",
       "      <th>ALTERSKATEGORIE_GROB</th>\n",
       "    </tr>\n",
       "  </thead>\n",
       "  <tbody>\n",
       "    <tr>\n",
       "      <th>0</th>\n",
       "      <td>910215</td>\n",
       "      <td>-1</td>\n",
       "      <td>NaN</td>\n",
       "      <td>NaN</td>\n",
       "      <td>NaN</td>\n",
       "      <td>NaN</td>\n",
       "      <td>NaN</td>\n",
       "      <td>NaN</td>\n",
       "      <td>NaN</td>\n",
       "      <td>NaN</td>\n",
       "      <td>...</td>\n",
       "      <td>NaN</td>\n",
       "      <td>NaN</td>\n",
       "      <td>NaN</td>\n",
       "      <td>NaN</td>\n",
       "      <td>NaN</td>\n",
       "      <td>NaN</td>\n",
       "      <td>NaN</td>\n",
       "      <td>3</td>\n",
       "      <td>1</td>\n",
       "      <td>2</td>\n",
       "    </tr>\n",
       "    <tr>\n",
       "      <th>1</th>\n",
       "      <td>910220</td>\n",
       "      <td>-1</td>\n",
       "      <td>9.0</td>\n",
       "      <td>0.0</td>\n",
       "      <td>NaN</td>\n",
       "      <td>NaN</td>\n",
       "      <td>NaN</td>\n",
       "      <td>NaN</td>\n",
       "      <td>21.0</td>\n",
       "      <td>11.0</td>\n",
       "      <td>...</td>\n",
       "      <td>4.0</td>\n",
       "      <td>8.0</td>\n",
       "      <td>11.0</td>\n",
       "      <td>10.0</td>\n",
       "      <td>3.0</td>\n",
       "      <td>9.0</td>\n",
       "      <td>4.0</td>\n",
       "      <td>5</td>\n",
       "      <td>2</td>\n",
       "      <td>1</td>\n",
       "    </tr>\n",
       "    <tr>\n",
       "      <th>2</th>\n",
       "      <td>910225</td>\n",
       "      <td>-1</td>\n",
       "      <td>9.0</td>\n",
       "      <td>17.0</td>\n",
       "      <td>NaN</td>\n",
       "      <td>NaN</td>\n",
       "      <td>NaN</td>\n",
       "      <td>NaN</td>\n",
       "      <td>17.0</td>\n",
       "      <td>10.0</td>\n",
       "      <td>...</td>\n",
       "      <td>2.0</td>\n",
       "      <td>9.0</td>\n",
       "      <td>9.0</td>\n",
       "      <td>6.0</td>\n",
       "      <td>3.0</td>\n",
       "      <td>9.0</td>\n",
       "      <td>2.0</td>\n",
       "      <td>5</td>\n",
       "      <td>2</td>\n",
       "      <td>3</td>\n",
       "    </tr>\n",
       "    <tr>\n",
       "      <th>3</th>\n",
       "      <td>910226</td>\n",
       "      <td>2</td>\n",
       "      <td>1.0</td>\n",
       "      <td>13.0</td>\n",
       "      <td>NaN</td>\n",
       "      <td>NaN</td>\n",
       "      <td>NaN</td>\n",
       "      <td>NaN</td>\n",
       "      <td>13.0</td>\n",
       "      <td>1.0</td>\n",
       "      <td>...</td>\n",
       "      <td>0.0</td>\n",
       "      <td>7.0</td>\n",
       "      <td>10.0</td>\n",
       "      <td>11.0</td>\n",
       "      <td>NaN</td>\n",
       "      <td>9.0</td>\n",
       "      <td>7.0</td>\n",
       "      <td>3</td>\n",
       "      <td>2</td>\n",
       "      <td>4</td>\n",
       "    </tr>\n",
       "    <tr>\n",
       "      <th>4</th>\n",
       "      <td>910241</td>\n",
       "      <td>-1</td>\n",
       "      <td>1.0</td>\n",
       "      <td>20.0</td>\n",
       "      <td>NaN</td>\n",
       "      <td>NaN</td>\n",
       "      <td>NaN</td>\n",
       "      <td>NaN</td>\n",
       "      <td>14.0</td>\n",
       "      <td>3.0</td>\n",
       "      <td>...</td>\n",
       "      <td>2.0</td>\n",
       "      <td>3.0</td>\n",
       "      <td>5.0</td>\n",
       "      <td>4.0</td>\n",
       "      <td>2.0</td>\n",
       "      <td>9.0</td>\n",
       "      <td>3.0</td>\n",
       "      <td>4</td>\n",
       "      <td>1</td>\n",
       "      <td>3</td>\n",
       "    </tr>\n",
       "  </tbody>\n",
       "</table>\n",
       "<p>5 rows × 366 columns</p>\n",
       "</div>"
      ],
      "text/plain": [
       "      LNR  AGER_TYP  AKT_DAT_KL  ALTER_HH  ALTER_KIND1  ALTER_KIND2  \\\n",
       "0  910215        -1         NaN       NaN          NaN          NaN   \n",
       "1  910220        -1         9.0       0.0          NaN          NaN   \n",
       "2  910225        -1         9.0      17.0          NaN          NaN   \n",
       "3  910226         2         1.0      13.0          NaN          NaN   \n",
       "4  910241        -1         1.0      20.0          NaN          NaN   \n",
       "\n",
       "   ALTER_KIND3  ALTER_KIND4  ALTERSKATEGORIE_FEIN  ANZ_HAUSHALTE_AKTIV  ...  \\\n",
       "0          NaN          NaN                   NaN                  NaN  ...   \n",
       "1          NaN          NaN                  21.0                 11.0  ...   \n",
       "2          NaN          NaN                  17.0                 10.0  ...   \n",
       "3          NaN          NaN                  13.0                  1.0  ...   \n",
       "4          NaN          NaN                  14.0                  3.0  ...   \n",
       "\n",
       "   VHN  VK_DHT4A  VK_DISTANZ  VK_ZG11  W_KEIT_KIND_HH  WOHNDAUER_2008  \\\n",
       "0  NaN       NaN         NaN      NaN             NaN             NaN   \n",
       "1  4.0       8.0        11.0     10.0             3.0             9.0   \n",
       "2  2.0       9.0         9.0      6.0             3.0             9.0   \n",
       "3  0.0       7.0        10.0     11.0             NaN             9.0   \n",
       "4  2.0       3.0         5.0      4.0             2.0             9.0   \n",
       "\n",
       "   WOHNLAGE ZABEOTYP ANREDE_KZ ALTERSKATEGORIE_GROB  \n",
       "0       NaN        3         1                    2  \n",
       "1       4.0        5         2                    1  \n",
       "2       2.0        5         2                    3  \n",
       "3       7.0        3         2                    4  \n",
       "4       3.0        4         1                    3  \n",
       "\n",
       "[5 rows x 366 columns]"
      ]
     },
     "execution_count": 7,
     "metadata": {},
     "output_type": "execute_result"
    }
   ],
   "source": [
    "azdias.head()"
   ]
  },
  {
   "cell_type": "code",
   "execution_count": 8,
   "metadata": {},
   "outputs": [
    {
     "data": {
      "text/plain": [
       "(891221, 366)"
      ]
     },
     "execution_count": 8,
     "metadata": {},
     "output_type": "execute_result"
    }
   ],
   "source": [
    "azdias.shape"
   ]
  },
  {
   "cell_type": "code",
   "execution_count": 9,
   "metadata": {},
   "outputs": [
    {
     "data": {
      "text/plain": [
       "Index(['CAMEO_DEUG_2015', 'CAMEO_INTL_2015'], dtype='object')"
      ]
     },
     "execution_count": 9,
     "metadata": {},
     "output_type": "execute_result"
    }
   ],
   "source": [
    "#check column names for columns having mixed types\n",
    "azdias.iloc[:,18:20].columns"
   ]
  },
  {
   "cell_type": "code",
   "execution_count": 10,
   "metadata": {},
   "outputs": [
    {
     "data": {
      "text/plain": [
       "array([nan, 8.0, 4.0, 2.0, 6.0, 1.0, 9.0, 5.0, 7.0, 3.0, '4', '3', '7',\n",
       "       '2', '8', '9', '6', '5', '1', 'X'], dtype=object)"
      ]
     },
     "execution_count": 10,
     "metadata": {},
     "output_type": "execute_result"
    }
   ],
   "source": [
    "#display unique values for CAMEO_DEUG_2015\n",
    "azdias.CAMEO_DEUG_2015.unique()"
   ]
  },
  {
   "cell_type": "code",
   "execution_count": 11,
   "metadata": {
    "scrolled": false
   },
   "outputs": [
    {
     "data": {
      "text/plain": [
       "array([nan, 51.0, 24.0, 12.0, 43.0, 54.0, 22.0, 14.0, 13.0, 15.0, 33.0,\n",
       "       41.0, 34.0, 55.0, 25.0, 23.0, 31.0, 52.0, 35.0, 45.0, 44.0, 32.0,\n",
       "       '22', '24', '41', '12', '54', '51', '44', '35', '23', '25', '14',\n",
       "       '34', '52', '55', '31', '32', '15', '13', '43', '33', '45', 'XX'],\n",
       "      dtype=object)"
      ]
     },
     "execution_count": 11,
     "metadata": {},
     "output_type": "execute_result"
    }
   ],
   "source": [
    "#display unique values for CAMEO_INTL_2015\n",
    "azdias.CAMEO_INTL_2015.unique()"
   ]
  },
  {
   "cell_type": "code",
   "execution_count": 12,
   "metadata": {},
   "outputs": [
    {
     "data": {
      "text/plain": [
       "array([1.0, nan, 5.0, 4.0, 7.0, 3.0, 9.0, 2.0, 6.0, 8.0, '6', '3', '8',\n",
       "       '9', '2', '4', '1', '7', '5', 'X'], dtype=object)"
      ]
     },
     "execution_count": 12,
     "metadata": {},
     "output_type": "execute_result"
    }
   ],
   "source": [
    "#display unique values for CAMEO_DEUG_2015\n",
    "customers.CAMEO_DEUG_2015.unique()"
   ]
  },
  {
   "cell_type": "code",
   "execution_count": 13,
   "metadata": {},
   "outputs": [
    {
     "data": {
      "text/plain": [
       "array([13.0, nan, 34.0, 24.0, 41.0, 23.0, 15.0, 55.0, 14.0, 22.0, 43.0,\n",
       "       51.0, 33.0, 25.0, 44.0, 54.0, 32.0, 12.0, 35.0, 31.0, 45.0, 52.0,\n",
       "       '45', '25', '55', '51', '14', '54', '43', '22', '15', '24', '35',\n",
       "       '23', '12', '44', '41', '52', '31', '13', '34', '32', '33', 'XX'],\n",
       "      dtype=object)"
      ]
     },
     "execution_count": 13,
     "metadata": {},
     "output_type": "execute_result"
    }
   ],
   "source": [
    "#display unique values for CAMEO_INTL_2015\n",
    "customers.CAMEO_INTL_2015.unique()"
   ]
  },
  {
   "cell_type": "markdown",
   "metadata": {},
   "source": [
    "We can see that there are different types of values in columns CAMEO_INTL_2015 and CAMEO_DEUG_2015: float and string. There are also some values: 'X' and 'XX' which should be replaced with nulls."
   ]
  },
  {
   "cell_type": "markdown",
   "metadata": {},
   "source": [
    "\n",
    "\n",
    "The main bulk of your analysis will come in this part of the project. Here, you should use unsupervised learning techniques to describe the relationship between the demographics of the company's existing customers and the general population of Germany. By the end of this part, you should be able to describe parts of the general population that are more likely to be part of the mail-order company's main customer base, and which parts of the general population are less so."
   ]
  },
  {
   "cell_type": "code",
   "execution_count": 10,
   "metadata": {},
   "outputs": [],
   "source": [
    "# replace 'X' with null and set column type as float for all CAMEO_DEUG_2015 column values\n",
    "azdias['CAMEO_DEUG_2015'] = azdias['CAMEO_DEUG_2015'].replace({'X':np.nan}).astype(float)\n",
    "    "
   ]
  },
  {
   "cell_type": "code",
   "execution_count": 11,
   "metadata": {},
   "outputs": [
    {
     "data": {
      "text/plain": [
       "array([nan,  8.,  4.,  2.,  6.,  1.,  9.,  5.,  7.,  3.])"
      ]
     },
     "execution_count": 11,
     "metadata": {},
     "output_type": "execute_result"
    }
   ],
   "source": [
    "#display unique values for CAMEO_DEUG_2015 after fixing data\n",
    "azdias.CAMEO_DEUG_2015.unique()"
   ]
  },
  {
   "cell_type": "code",
   "execution_count": 12,
   "metadata": {},
   "outputs": [],
   "source": [
    "# replace 'XX' with null and set column type as float for all CAMEO_INTL_2015 column values\n",
    "azdias['CAMEO_INTL_2015'] = azdias['CAMEO_INTL_2015'].replace({'XX':np.nan}).astype(float)"
   ]
  },
  {
   "cell_type": "code",
   "execution_count": 17,
   "metadata": {},
   "outputs": [
    {
     "data": {
      "text/plain": [
       "array([nan, 51., 24., 12., 43., 54., 22., 14., 13., 15., 33., 41., 34.,\n",
       "       55., 25., 23., 31., 52., 35., 45., 44., 32.])"
      ]
     },
     "execution_count": 17,
     "metadata": {},
     "output_type": "execute_result"
    }
   ],
   "source": [
    "#display unique values for CAMEO_INTL_2015 after fixing data\n",
    "azdias.CAMEO_INTL_2015.unique()"
   ]
  },
  {
   "cell_type": "code",
   "execution_count": 18,
   "metadata": {},
   "outputs": [
    {
     "data": {
      "text/plain": [
       "(891221, 366)"
      ]
     },
     "execution_count": 18,
     "metadata": {},
     "output_type": "execute_result"
    }
   ],
   "source": [
    "# check number of columns and rows for azdias dataset\n",
    "azdias.shape"
   ]
  },
  {
   "cell_type": "code",
   "execution_count": 19,
   "metadata": {},
   "outputs": [
    {
     "data": {
      "text/plain": [
       "array([13.0, nan, 34.0, 24.0, 41.0, 23.0, 15.0, 55.0, 14.0, 22.0, 43.0,\n",
       "       51.0, 33.0, 25.0, 44.0, 54.0, 32.0, 12.0, 35.0, 31.0, 45.0, 52.0,\n",
       "       '45', '25', '55', '51', '14', '54', '43', '22', '15', '24', '35',\n",
       "       '23', '12', '44', '41', '52', '31', '13', '34', '32', '33', 'XX'],\n",
       "      dtype=object)"
      ]
     },
     "execution_count": 19,
     "metadata": {},
     "output_type": "execute_result"
    }
   ],
   "source": [
    "customers.CAMEO_INTL_2015.unique()"
   ]
  },
  {
   "cell_type": "code",
   "execution_count": 20,
   "metadata": {},
   "outputs": [
    {
     "data": {
      "text/plain": [
       "array([1.0, nan, 5.0, 4.0, 7.0, 3.0, 9.0, 2.0, 6.0, 8.0, '6', '3', '8',\n",
       "       '9', '2', '4', '1', '7', '5', 'X'], dtype=object)"
      ]
     },
     "execution_count": 20,
     "metadata": {},
     "output_type": "execute_result"
    }
   ],
   "source": [
    "customers.CAMEO_DEUG_2015.unique()"
   ]
  },
  {
   "cell_type": "code",
   "execution_count": 13,
   "metadata": {},
   "outputs": [],
   "source": [
    "# replace 'X' with null and set column type as float for all CAMEO_DEUG_2015 column values\n",
    "customers['CAMEO_DEUG_2015'] = customers['CAMEO_DEUG_2015'].replace({'X':np.nan}).astype(float)\n",
    " "
   ]
  },
  {
   "cell_type": "code",
   "execution_count": 22,
   "metadata": {},
   "outputs": [
    {
     "data": {
      "text/plain": [
       "array([ 1., nan,  5.,  4.,  7.,  3.,  9.,  2.,  6.,  8.])"
      ]
     },
     "execution_count": 22,
     "metadata": {},
     "output_type": "execute_result"
    }
   ],
   "source": [
    "customers.CAMEO_DEUG_2015.unique()"
   ]
  },
  {
   "cell_type": "code",
   "execution_count": 14,
   "metadata": {},
   "outputs": [],
   "source": [
    "# replace 'XX' with null and set column type as float for all CAMEO_INTL_2015 column values\n",
    "customers['CAMEO_INTL_2015'] = customers['CAMEO_INTL_2015'].replace({'XX':np.nan}).astype(float)"
   ]
  },
  {
   "cell_type": "code",
   "execution_count": 24,
   "metadata": {},
   "outputs": [
    {
     "data": {
      "text/plain": [
       "array([13., nan, 34., 24., 41., 23., 15., 55., 14., 22., 43., 51., 33.,\n",
       "       25., 44., 54., 32., 12., 35., 31., 45., 52.])"
      ]
     },
     "execution_count": 24,
     "metadata": {},
     "output_type": "execute_result"
    }
   ],
   "source": [
    "customers.CAMEO_INTL_2015.unique()"
   ]
  },
  {
   "cell_type": "code",
   "execution_count": 25,
   "metadata": {},
   "outputs": [
    {
     "data": {
      "text/plain": [
       "(191652, 369)"
      ]
     },
     "execution_count": 25,
     "metadata": {},
     "output_type": "execute_result"
    }
   ],
   "source": [
    "# check number of columns and rows for customers dataset\n",
    "customers.shape"
   ]
  },
  {
   "cell_type": "code",
   "execution_count": 15,
   "metadata": {},
   "outputs": [],
   "source": [
    "#drop additional 3 columns from customers dataset which are not available in azdias dataset\n",
    "customers.drop(columns=['CUSTOMER_GROUP', 'ONLINE_PURCHASE', 'PRODUCT_GROUP'], inplace=True)"
   ]
  },
  {
   "cell_type": "code",
   "execution_count": 27,
   "metadata": {},
   "outputs": [
    {
     "data": {
      "text/plain": [
       "(191652, 366)"
      ]
     },
     "execution_count": 27,
     "metadata": {},
     "output_type": "execute_result"
    }
   ],
   "source": [
    "# check number of columns and rows for customers dataset after removing columns\n",
    "customers.shape"
   ]
  },
  {
   "cell_type": "code",
   "execution_count": 28,
   "metadata": {},
   "outputs": [
    {
     "data": {
      "text/plain": [
       "['LNR',\n",
       " 'AGER_TYP',\n",
       " 'AKT_DAT_KL',\n",
       " 'ALTER_HH',\n",
       " 'ALTER_KIND1',\n",
       " 'ALTER_KIND2',\n",
       " 'ALTER_KIND3',\n",
       " 'ALTER_KIND4',\n",
       " 'ALTERSKATEGORIE_FEIN',\n",
       " 'ANZ_HAUSHALTE_AKTIV',\n",
       " 'ANZ_HH_TITEL',\n",
       " 'ANZ_KINDER',\n",
       " 'ANZ_PERSONEN',\n",
       " 'ANZ_STATISTISCHE_HAUSHALTE',\n",
       " 'ANZ_TITEL',\n",
       " 'ARBEIT',\n",
       " 'BALLRAUM',\n",
       " 'CAMEO_DEU_2015',\n",
       " 'CAMEO_DEUG_2015',\n",
       " 'CAMEO_INTL_2015',\n",
       " 'CJT_GESAMTTYP',\n",
       " 'CJT_KATALOGNUTZER',\n",
       " 'CJT_TYP_1',\n",
       " 'CJT_TYP_2',\n",
       " 'CJT_TYP_3',\n",
       " 'CJT_TYP_4',\n",
       " 'CJT_TYP_5',\n",
       " 'CJT_TYP_6',\n",
       " 'D19_BANKEN_ANZ_12',\n",
       " 'D19_BANKEN_ANZ_24',\n",
       " 'D19_BANKEN_DATUM',\n",
       " 'D19_BANKEN_DIREKT',\n",
       " 'D19_BANKEN_GROSS',\n",
       " 'D19_BANKEN_LOKAL',\n",
       " 'D19_BANKEN_OFFLINE_DATUM',\n",
       " 'D19_BANKEN_ONLINE_DATUM',\n",
       " 'D19_BANKEN_ONLINE_QUOTE_12',\n",
       " 'D19_BANKEN_REST',\n",
       " 'D19_BEKLEIDUNG_GEH',\n",
       " 'D19_BEKLEIDUNG_REST',\n",
       " 'D19_BILDUNG',\n",
       " 'D19_BIO_OEKO',\n",
       " 'D19_BUCH_CD',\n",
       " 'D19_DIGIT_SERV',\n",
       " 'D19_DROGERIEARTIKEL',\n",
       " 'D19_ENERGIE',\n",
       " 'D19_FREIZEIT',\n",
       " 'D19_GARTEN',\n",
       " 'D19_GESAMT_ANZ_12',\n",
       " 'D19_GESAMT_ANZ_24',\n",
       " 'D19_GESAMT_DATUM',\n",
       " 'D19_GESAMT_OFFLINE_DATUM',\n",
       " 'D19_GESAMT_ONLINE_DATUM',\n",
       " 'D19_GESAMT_ONLINE_QUOTE_12',\n",
       " 'D19_HANDWERK',\n",
       " 'D19_HAUS_DEKO',\n",
       " 'D19_KINDERARTIKEL',\n",
       " 'D19_KONSUMTYP',\n",
       " 'D19_KONSUMTYP_MAX',\n",
       " 'D19_KOSMETIK',\n",
       " 'D19_LEBENSMITTEL',\n",
       " 'D19_LETZTER_KAUF_BRANCHE',\n",
       " 'D19_LOTTO',\n",
       " 'D19_NAHRUNGSERGAENZUNG',\n",
       " 'D19_RATGEBER',\n",
       " 'D19_REISEN',\n",
       " 'D19_SAMMELARTIKEL',\n",
       " 'D19_SCHUHE',\n",
       " 'D19_SONSTIGE',\n",
       " 'D19_SOZIALES',\n",
       " 'D19_TECHNIK',\n",
       " 'D19_TELKO_ANZ_12',\n",
       " 'D19_TELKO_ANZ_24',\n",
       " 'D19_TELKO_DATUM',\n",
       " 'D19_TELKO_MOBILE',\n",
       " 'D19_TELKO_OFFLINE_DATUM',\n",
       " 'D19_TELKO_ONLINE_DATUM',\n",
       " 'D19_TELKO_ONLINE_QUOTE_12',\n",
       " 'D19_TELKO_REST',\n",
       " 'D19_TIERARTIKEL',\n",
       " 'D19_VERSAND_ANZ_12',\n",
       " 'D19_VERSAND_ANZ_24',\n",
       " 'D19_VERSAND_DATUM',\n",
       " 'D19_VERSAND_OFFLINE_DATUM',\n",
       " 'D19_VERSAND_ONLINE_DATUM',\n",
       " 'D19_VERSAND_ONLINE_QUOTE_12',\n",
       " 'D19_VERSAND_REST',\n",
       " 'D19_VERSI_ANZ_12',\n",
       " 'D19_VERSI_ANZ_24',\n",
       " 'D19_VERSI_DATUM',\n",
       " 'D19_VERSI_OFFLINE_DATUM',\n",
       " 'D19_VERSI_ONLINE_DATUM',\n",
       " 'D19_VERSI_ONLINE_QUOTE_12',\n",
       " 'D19_VERSICHERUNGEN',\n",
       " 'D19_VOLLSORTIMENT',\n",
       " 'D19_WEIN_FEINKOST',\n",
       " 'DSL_FLAG',\n",
       " 'EINGEFUEGT_AM',\n",
       " 'EINGEZOGENAM_HH_JAHR',\n",
       " 'EWDICHTE',\n",
       " 'EXTSEL992',\n",
       " 'FINANZ_ANLEGER',\n",
       " 'FINANZ_HAUSBAUER',\n",
       " 'FINANZ_MINIMALIST',\n",
       " 'FINANZ_SPARER',\n",
       " 'FINANZ_UNAUFFAELLIGER',\n",
       " 'FINANZ_VORSORGER',\n",
       " 'FINANZTYP',\n",
       " 'FIRMENDICHTE',\n",
       " 'GEBAEUDETYP',\n",
       " 'GEBAEUDETYP_RASTER',\n",
       " 'GEBURTSJAHR',\n",
       " 'GEMEINDETYP',\n",
       " 'GFK_URLAUBERTYP',\n",
       " 'GREEN_AVANTGARDE',\n",
       " 'HEALTH_TYP',\n",
       " 'HH_DELTA_FLAG',\n",
       " 'HH_EINKOMMEN_SCORE',\n",
       " 'INNENSTADT',\n",
       " 'KBA05_ALTER1',\n",
       " 'KBA05_ALTER2',\n",
       " 'KBA05_ALTER3',\n",
       " 'KBA05_ALTER4',\n",
       " 'KBA05_ANHANG',\n",
       " 'KBA05_ANTG1',\n",
       " 'KBA05_ANTG2',\n",
       " 'KBA05_ANTG3',\n",
       " 'KBA05_ANTG4',\n",
       " 'KBA05_AUTOQUOT',\n",
       " 'KBA05_BAUMAX',\n",
       " 'KBA05_CCM1',\n",
       " 'KBA05_CCM2',\n",
       " 'KBA05_CCM3',\n",
       " 'KBA05_CCM4',\n",
       " 'KBA05_DIESEL',\n",
       " 'KBA05_FRAU',\n",
       " 'KBA05_GBZ',\n",
       " 'KBA05_HERST1',\n",
       " 'KBA05_HERST2',\n",
       " 'KBA05_HERST3',\n",
       " 'KBA05_HERST4',\n",
       " 'KBA05_HERST5',\n",
       " 'KBA05_HERSTTEMP',\n",
       " 'KBA05_KRSAQUOT',\n",
       " 'KBA05_KRSHERST1',\n",
       " 'KBA05_KRSHERST2',\n",
       " 'KBA05_KRSHERST3',\n",
       " 'KBA05_KRSKLEIN',\n",
       " 'KBA05_KRSOBER',\n",
       " 'KBA05_KRSVAN',\n",
       " 'KBA05_KRSZUL',\n",
       " 'KBA05_KW1',\n",
       " 'KBA05_KW2',\n",
       " 'KBA05_KW3',\n",
       " 'KBA05_MAXAH',\n",
       " 'KBA05_MAXBJ',\n",
       " 'KBA05_MAXHERST',\n",
       " 'KBA05_MAXSEG',\n",
       " 'KBA05_MAXVORB',\n",
       " 'KBA05_MOD1',\n",
       " 'KBA05_MOD2',\n",
       " 'KBA05_MOD3',\n",
       " 'KBA05_MOD4',\n",
       " 'KBA05_MOD8',\n",
       " 'KBA05_MODTEMP',\n",
       " 'KBA05_MOTOR',\n",
       " 'KBA05_MOTRAD',\n",
       " 'KBA05_SEG1',\n",
       " 'KBA05_SEG10',\n",
       " 'KBA05_SEG2',\n",
       " 'KBA05_SEG3',\n",
       " 'KBA05_SEG4',\n",
       " 'KBA05_SEG5',\n",
       " 'KBA05_SEG6',\n",
       " 'KBA05_SEG7',\n",
       " 'KBA05_SEG8',\n",
       " 'KBA05_SEG9',\n",
       " 'KBA05_VORB0',\n",
       " 'KBA05_VORB1',\n",
       " 'KBA05_VORB2',\n",
       " 'KBA05_ZUL1',\n",
       " 'KBA05_ZUL2',\n",
       " 'KBA05_ZUL3',\n",
       " 'KBA05_ZUL4',\n",
       " 'KBA13_ALTERHALTER_30',\n",
       " 'KBA13_ALTERHALTER_45',\n",
       " 'KBA13_ALTERHALTER_60',\n",
       " 'KBA13_ALTERHALTER_61',\n",
       " 'KBA13_ANTG1',\n",
       " 'KBA13_ANTG2',\n",
       " 'KBA13_ANTG3',\n",
       " 'KBA13_ANTG4',\n",
       " 'KBA13_ANZAHL_PKW',\n",
       " 'KBA13_AUDI',\n",
       " 'KBA13_AUTOQUOTE',\n",
       " 'KBA13_BAUMAX',\n",
       " 'KBA13_BJ_1999',\n",
       " 'KBA13_BJ_2000',\n",
       " 'KBA13_BJ_2004',\n",
       " 'KBA13_BJ_2006',\n",
       " 'KBA13_BJ_2008',\n",
       " 'KBA13_BJ_2009',\n",
       " 'KBA13_BMW',\n",
       " 'KBA13_CCM_0_1400',\n",
       " 'KBA13_CCM_1000',\n",
       " 'KBA13_CCM_1200',\n",
       " 'KBA13_CCM_1400',\n",
       " 'KBA13_CCM_1401_2500',\n",
       " 'KBA13_CCM_1500',\n",
       " 'KBA13_CCM_1600',\n",
       " 'KBA13_CCM_1800',\n",
       " 'KBA13_CCM_2000',\n",
       " 'KBA13_CCM_2500',\n",
       " 'KBA13_CCM_2501',\n",
       " 'KBA13_CCM_3000',\n",
       " 'KBA13_CCM_3001',\n",
       " 'KBA13_FAB_ASIEN',\n",
       " 'KBA13_FAB_SONSTIGE',\n",
       " 'KBA13_FIAT',\n",
       " 'KBA13_FORD',\n",
       " 'KBA13_GBZ',\n",
       " 'KBA13_HALTER_20',\n",
       " 'KBA13_HALTER_25',\n",
       " 'KBA13_HALTER_30',\n",
       " 'KBA13_HALTER_35',\n",
       " 'KBA13_HALTER_40',\n",
       " 'KBA13_HALTER_45',\n",
       " 'KBA13_HALTER_50',\n",
       " 'KBA13_HALTER_55',\n",
       " 'KBA13_HALTER_60',\n",
       " 'KBA13_HALTER_65',\n",
       " 'KBA13_HALTER_66',\n",
       " 'KBA13_HERST_ASIEN',\n",
       " 'KBA13_HERST_AUDI_VW',\n",
       " 'KBA13_HERST_BMW_BENZ',\n",
       " 'KBA13_HERST_EUROPA',\n",
       " 'KBA13_HERST_FORD_OPEL',\n",
       " 'KBA13_HERST_SONST',\n",
       " 'KBA13_HHZ',\n",
       " 'KBA13_KMH_0_140',\n",
       " 'KBA13_KMH_110',\n",
       " 'KBA13_KMH_140',\n",
       " 'KBA13_KMH_140_210',\n",
       " 'KBA13_KMH_180',\n",
       " 'KBA13_KMH_210',\n",
       " 'KBA13_KMH_211',\n",
       " 'KBA13_KMH_250',\n",
       " 'KBA13_KMH_251',\n",
       " 'KBA13_KRSAQUOT',\n",
       " 'KBA13_KRSHERST_AUDI_VW',\n",
       " 'KBA13_KRSHERST_BMW_BENZ',\n",
       " 'KBA13_KRSHERST_FORD_OPEL',\n",
       " 'KBA13_KRSSEG_KLEIN',\n",
       " 'KBA13_KRSSEG_OBER',\n",
       " 'KBA13_KRSSEG_VAN',\n",
       " 'KBA13_KRSZUL_NEU',\n",
       " 'KBA13_KW_0_60',\n",
       " 'KBA13_KW_110',\n",
       " 'KBA13_KW_120',\n",
       " 'KBA13_KW_121',\n",
       " 'KBA13_KW_30',\n",
       " 'KBA13_KW_40',\n",
       " 'KBA13_KW_50',\n",
       " 'KBA13_KW_60',\n",
       " 'KBA13_KW_61_120',\n",
       " 'KBA13_KW_70',\n",
       " 'KBA13_KW_80',\n",
       " 'KBA13_KW_90',\n",
       " 'KBA13_MAZDA',\n",
       " 'KBA13_MERCEDES',\n",
       " 'KBA13_MOTOR',\n",
       " 'KBA13_NISSAN',\n",
       " 'KBA13_OPEL',\n",
       " 'KBA13_PEUGEOT',\n",
       " 'KBA13_RENAULT',\n",
       " 'KBA13_SEG_GELAENDEWAGEN',\n",
       " 'KBA13_SEG_GROSSRAUMVANS',\n",
       " 'KBA13_SEG_KLEINST',\n",
       " 'KBA13_SEG_KLEINWAGEN',\n",
       " 'KBA13_SEG_KOMPAKTKLASSE',\n",
       " 'KBA13_SEG_MINIVANS',\n",
       " 'KBA13_SEG_MINIWAGEN',\n",
       " 'KBA13_SEG_MITTELKLASSE',\n",
       " 'KBA13_SEG_OBEREMITTELKLASSE',\n",
       " 'KBA13_SEG_OBERKLASSE',\n",
       " 'KBA13_SEG_SONSTIGE',\n",
       " 'KBA13_SEG_SPORTWAGEN',\n",
       " 'KBA13_SEG_UTILITIES',\n",
       " 'KBA13_SEG_VAN',\n",
       " 'KBA13_SEG_WOHNMOBILE',\n",
       " 'KBA13_SITZE_4',\n",
       " 'KBA13_SITZE_5',\n",
       " 'KBA13_SITZE_6',\n",
       " 'KBA13_TOYOTA',\n",
       " 'KBA13_VORB_0',\n",
       " 'KBA13_VORB_1',\n",
       " 'KBA13_VORB_1_2',\n",
       " 'KBA13_VORB_2',\n",
       " 'KBA13_VORB_3',\n",
       " 'KBA13_VW',\n",
       " 'KK_KUNDENTYP',\n",
       " 'KKK',\n",
       " 'KOMBIALTER',\n",
       " 'KONSUMNAEHE',\n",
       " 'KONSUMZELLE',\n",
       " 'LP_FAMILIE_FEIN',\n",
       " 'LP_FAMILIE_GROB',\n",
       " 'LP_LEBENSPHASE_FEIN',\n",
       " 'LP_LEBENSPHASE_GROB',\n",
       " 'LP_STATUS_FEIN',\n",
       " 'LP_STATUS_GROB',\n",
       " 'MIN_GEBAEUDEJAHR',\n",
       " 'MOBI_RASTER',\n",
       " 'MOBI_REGIO',\n",
       " 'NATIONALITAET_KZ',\n",
       " 'ONLINE_AFFINITAET',\n",
       " 'ORTSGR_KLS9',\n",
       " 'OST_WEST_KZ',\n",
       " 'PLZ8_ANTG1',\n",
       " 'PLZ8_ANTG2',\n",
       " 'PLZ8_ANTG3',\n",
       " 'PLZ8_ANTG4',\n",
       " 'PLZ8_BAUMAX',\n",
       " 'PLZ8_GBZ',\n",
       " 'PLZ8_HHZ',\n",
       " 'PRAEGENDE_JUGENDJAHRE',\n",
       " 'REGIOTYP',\n",
       " 'RELAT_AB',\n",
       " 'RETOURTYP_BK_S',\n",
       " 'RT_KEIN_ANREIZ',\n",
       " 'RT_SCHNAEPPCHEN',\n",
       " 'RT_UEBERGROESSE',\n",
       " 'SEMIO_DOM',\n",
       " 'SEMIO_ERL',\n",
       " 'SEMIO_FAM',\n",
       " 'SEMIO_KAEM',\n",
       " 'SEMIO_KRIT',\n",
       " 'SEMIO_KULT',\n",
       " 'SEMIO_LUST',\n",
       " 'SEMIO_MAT',\n",
       " 'SEMIO_PFLICHT',\n",
       " 'SEMIO_RAT',\n",
       " 'SEMIO_REL',\n",
       " 'SEMIO_SOZ',\n",
       " 'SEMIO_TRADV',\n",
       " 'SEMIO_VERT',\n",
       " 'SHOPPER_TYP',\n",
       " 'SOHO_KZ',\n",
       " 'STRUKTURTYP',\n",
       " 'TITEL_KZ',\n",
       " 'UMFELD_ALT',\n",
       " 'UMFELD_JUNG',\n",
       " 'UNGLEICHENN_FLAG',\n",
       " 'VERDICHTUNGSRAUM',\n",
       " 'VERS_TYP',\n",
       " 'VHA',\n",
       " 'VHN',\n",
       " 'VK_DHT4A',\n",
       " 'VK_DISTANZ',\n",
       " 'VK_ZG11',\n",
       " 'W_KEIT_KIND_HH',\n",
       " 'WOHNDAUER_2008',\n",
       " 'WOHNLAGE',\n",
       " 'ZABEOTYP',\n",
       " 'ANREDE_KZ',\n",
       " 'ALTERSKATEGORIE_GROB']"
      ]
     },
     "execution_count": 28,
     "metadata": {},
     "output_type": "execute_result"
    }
   ],
   "source": [
    "# display column names of azdias dataset\n",
    "list(azdias.columns)"
   ]
  },
  {
   "cell_type": "code",
   "execution_count": 16,
   "metadata": {
    "scrolled": true
   },
   "outputs": [
    {
     "data": {
      "text/plain": [
       "True"
      ]
     },
     "execution_count": 16,
     "metadata": {},
     "output_type": "execute_result"
    }
   ],
   "source": [
    "#checking if the set of columns is the same in both datasets (azdias and customers)\n",
    "set(azdias.columns) == set(customers.columns)"
   ]
  },
  {
   "cell_type": "code",
   "execution_count": 17,
   "metadata": {},
   "outputs": [
    {
     "data": {
      "text/plain": [
       "set()"
      ]
     },
     "execution_count": 17,
     "metadata": {},
     "output_type": "execute_result"
    }
   ],
   "source": [
    "#checking if the set of columns is the same in both datasets (azdias and customers) - second method\n",
    "set(azdias.columns) - set(customers.columns)"
   ]
  },
  {
   "cell_type": "markdown",
   "metadata": {},
   "source": [
    "In both datasets there is the same set of columns."
   ]
  },
  {
   "cell_type": "code",
   "execution_count": 31,
   "metadata": {},
   "outputs": [],
   "source": [
    "# count of nulls\n",
    "azdias_nan_count = azdias.isnull().sum()"
   ]
  },
  {
   "cell_type": "code",
   "execution_count": 32,
   "metadata": {},
   "outputs": [
    {
     "data": {
      "text/plain": [
       "LNR                                0\n",
       "AGER_TYP                           0\n",
       "AKT_DAT_KL                     73499\n",
       "ALTER_HH                       73499\n",
       "ALTER_KIND1                   810163\n",
       "ALTER_KIND2                   861722\n",
       "ALTER_KIND3                   885051\n",
       "ALTER_KIND4                   890016\n",
       "ALTERSKATEGORIE_FEIN          262947\n",
       "ANZ_HAUSHALTE_AKTIV            93148\n",
       "ANZ_HH_TITEL                   97008\n",
       "ANZ_KINDER                     73499\n",
       "ANZ_PERSONEN                   73499\n",
       "ANZ_STATISTISCHE_HAUSHALTE     93148\n",
       "ANZ_TITEL                      73499\n",
       "ARBEIT                         97216\n",
       "BALLRAUM                       93740\n",
       "CAMEO_DEU_2015                 98979\n",
       "CAMEO_DEUG_2015                99352\n",
       "CAMEO_INTL_2015                99352\n",
       "CJT_GESAMTTYP                   4854\n",
       "CJT_KATALOGNUTZER               4854\n",
       "CJT_TYP_1                       4854\n",
       "CJT_TYP_2                       4854\n",
       "CJT_TYP_3                       4854\n",
       "CJT_TYP_4                       4854\n",
       "CJT_TYP_5                       4854\n",
       "CJT_TYP_6                       4854\n",
       "D19_BANKEN_ANZ_12                  0\n",
       "D19_BANKEN_ANZ_24                  0\n",
       "                               ...  \n",
       "SEMIO_KRIT                         0\n",
       "SEMIO_KULT                         0\n",
       "SEMIO_LUST                         0\n",
       "SEMIO_MAT                          0\n",
       "SEMIO_PFLICHT                      0\n",
       "SEMIO_RAT                          0\n",
       "SEMIO_REL                          0\n",
       "SEMIO_SOZ                          0\n",
       "SEMIO_TRADV                        0\n",
       "SEMIO_VERT                         0\n",
       "SHOPPER_TYP                        0\n",
       "SOHO_KZ                        73499\n",
       "STRUKTURTYP                    97274\n",
       "TITEL_KZ                       73499\n",
       "UMFELD_ALT                     97786\n",
       "UMFELD_JUNG                    97786\n",
       "UNGLEICHENN_FLAG               73499\n",
       "VERDICHTUNGSRAUM               97274\n",
       "VERS_TYP                           0\n",
       "VHA                            73499\n",
       "VHN                           121196\n",
       "VK_DHT4A                       75917\n",
       "VK_DISTANZ                     75917\n",
       "VK_ZG11                        75917\n",
       "W_KEIT_KIND_HH                107602\n",
       "WOHNDAUER_2008                 73499\n",
       "WOHNLAGE                       93148\n",
       "ZABEOTYP                           0\n",
       "ANREDE_KZ                          0\n",
       "ALTERSKATEGORIE_GROB               0\n",
       "Length: 366, dtype: int64"
      ]
     },
     "execution_count": 32,
     "metadata": {},
     "output_type": "execute_result"
    }
   ],
   "source": [
    "azdias_nan_count"
   ]
  },
  {
   "cell_type": "code",
   "execution_count": 279,
   "metadata": {},
   "outputs": [],
   "source": [
    "# count of nulls\n",
    "customers_nan_count = customers.isnull().sum()"
   ]
  },
  {
   "cell_type": "code",
   "execution_count": 12,
   "metadata": {
    "scrolled": true
   },
   "outputs": [],
   "source": [
    "def percent_nulls(df):\n",
    "    '''\n",
    "    function to calculate percentage of missing values per column\n",
    "    INPUT: df - pandas dataframe\n",
    "    OUTPUT: df_nan_perc - table with percentage of nulls per column\n",
    "    '''\n",
    "    df_nan = df.isnull().mean()*100\n",
    "    df_nan_perc = pd.DataFrame({'col_name': df.columns,'percent_nulls': df_nan})\n",
    "\n",
    "    return df_nan_perc"
   ]
  },
  {
   "cell_type": "code",
   "execution_count": 34,
   "metadata": {},
   "outputs": [],
   "source": [
    "azdias_percent_nulls = percent_nulls(azdias)"
   ]
  },
  {
   "cell_type": "code",
   "execution_count": 35,
   "metadata": {},
   "outputs": [
    {
     "data": {
      "text/html": [
       "<div>\n",
       "<style scoped>\n",
       "    .dataframe tbody tr th:only-of-type {\n",
       "        vertical-align: middle;\n",
       "    }\n",
       "\n",
       "    .dataframe tbody tr th {\n",
       "        vertical-align: top;\n",
       "    }\n",
       "\n",
       "    .dataframe thead th {\n",
       "        text-align: right;\n",
       "    }\n",
       "</style>\n",
       "<table border=\"1\" class=\"dataframe\">\n",
       "  <thead>\n",
       "    <tr style=\"text-align: right;\">\n",
       "      <th></th>\n",
       "      <th>col_name</th>\n",
       "      <th>percent_nulls</th>\n",
       "    </tr>\n",
       "  </thead>\n",
       "  <tbody>\n",
       "    <tr>\n",
       "      <th>ALTER_KIND4</th>\n",
       "      <td>ALTER_KIND4</td>\n",
       "      <td>99.864792</td>\n",
       "    </tr>\n",
       "    <tr>\n",
       "      <th>ALTER_KIND3</th>\n",
       "      <td>ALTER_KIND3</td>\n",
       "      <td>99.307691</td>\n",
       "    </tr>\n",
       "    <tr>\n",
       "      <th>ALTER_KIND2</th>\n",
       "      <td>ALTER_KIND2</td>\n",
       "      <td>96.690047</td>\n",
       "    </tr>\n",
       "    <tr>\n",
       "      <th>ALTER_KIND1</th>\n",
       "      <td>ALTER_KIND1</td>\n",
       "      <td>90.904837</td>\n",
       "    </tr>\n",
       "    <tr>\n",
       "      <th>EXTSEL992</th>\n",
       "      <td>EXTSEL992</td>\n",
       "      <td>73.399639</td>\n",
       "    </tr>\n",
       "    <tr>\n",
       "      <th>KK_KUNDENTYP</th>\n",
       "      <td>KK_KUNDENTYP</td>\n",
       "      <td>65.596749</td>\n",
       "    </tr>\n",
       "    <tr>\n",
       "      <th>ALTERSKATEGORIE_FEIN</th>\n",
       "      <td>ALTERSKATEGORIE_FEIN</td>\n",
       "      <td>29.504130</td>\n",
       "    </tr>\n",
       "    <tr>\n",
       "      <th>D19_VERSAND_ONLINE_QUOTE_12</th>\n",
       "      <td>D19_VERSAND_ONLINE_QUOTE_12</td>\n",
       "      <td>28.849522</td>\n",
       "    </tr>\n",
       "    <tr>\n",
       "      <th>D19_LOTTO</th>\n",
       "      <td>D19_LOTTO</td>\n",
       "      <td>28.849522</td>\n",
       "    </tr>\n",
       "    <tr>\n",
       "      <th>D19_BANKEN_ONLINE_QUOTE_12</th>\n",
       "      <td>D19_BANKEN_ONLINE_QUOTE_12</td>\n",
       "      <td>28.849522</td>\n",
       "    </tr>\n",
       "    <tr>\n",
       "      <th>D19_LETZTER_KAUF_BRANCHE</th>\n",
       "      <td>D19_LETZTER_KAUF_BRANCHE</td>\n",
       "      <td>28.849522</td>\n",
       "    </tr>\n",
       "    <tr>\n",
       "      <th>D19_SOZIALES</th>\n",
       "      <td>D19_SOZIALES</td>\n",
       "      <td>28.849522</td>\n",
       "    </tr>\n",
       "    <tr>\n",
       "      <th>D19_GESAMT_ONLINE_QUOTE_12</th>\n",
       "      <td>D19_GESAMT_ONLINE_QUOTE_12</td>\n",
       "      <td>28.849522</td>\n",
       "    </tr>\n",
       "    <tr>\n",
       "      <th>D19_KONSUMTYP</th>\n",
       "      <td>D19_KONSUMTYP</td>\n",
       "      <td>28.849522</td>\n",
       "    </tr>\n",
       "    <tr>\n",
       "      <th>D19_VERSI_ONLINE_QUOTE_12</th>\n",
       "      <td>D19_VERSI_ONLINE_QUOTE_12</td>\n",
       "      <td>28.849522</td>\n",
       "    </tr>\n",
       "    <tr>\n",
       "      <th>D19_TELKO_ONLINE_QUOTE_12</th>\n",
       "      <td>D19_TELKO_ONLINE_QUOTE_12</td>\n",
       "      <td>28.849522</td>\n",
       "    </tr>\n",
       "    <tr>\n",
       "      <th>KBA05_DIESEL</th>\n",
       "      <td>KBA05_DIESEL</td>\n",
       "      <td>14.959701</td>\n",
       "    </tr>\n",
       "    <tr>\n",
       "      <th>KBA05_CCM4</th>\n",
       "      <td>KBA05_CCM4</td>\n",
       "      <td>14.959701</td>\n",
       "    </tr>\n",
       "    <tr>\n",
       "      <th>KBA05_GBZ</th>\n",
       "      <td>KBA05_GBZ</td>\n",
       "      <td>14.959701</td>\n",
       "    </tr>\n",
       "    <tr>\n",
       "      <th>KBA05_FRAU</th>\n",
       "      <td>KBA05_FRAU</td>\n",
       "      <td>14.959701</td>\n",
       "    </tr>\n",
       "    <tr>\n",
       "      <th>KBA05_ZUL4</th>\n",
       "      <td>KBA05_ZUL4</td>\n",
       "      <td>14.959701</td>\n",
       "    </tr>\n",
       "    <tr>\n",
       "      <th>KBA05_HERST1</th>\n",
       "      <td>KBA05_HERST1</td>\n",
       "      <td>14.959701</td>\n",
       "    </tr>\n",
       "    <tr>\n",
       "      <th>KBA05_HERST2</th>\n",
       "      <td>KBA05_HERST2</td>\n",
       "      <td>14.959701</td>\n",
       "    </tr>\n",
       "    <tr>\n",
       "      <th>KBA05_HERST3</th>\n",
       "      <td>KBA05_HERST3</td>\n",
       "      <td>14.959701</td>\n",
       "    </tr>\n",
       "    <tr>\n",
       "      <th>KBA05_CCM3</th>\n",
       "      <td>KBA05_CCM3</td>\n",
       "      <td>14.959701</td>\n",
       "    </tr>\n",
       "    <tr>\n",
       "      <th>KBA05_HERST5</th>\n",
       "      <td>KBA05_HERST5</td>\n",
       "      <td>14.959701</td>\n",
       "    </tr>\n",
       "    <tr>\n",
       "      <th>KBA05_KRSAQUOT</th>\n",
       "      <td>KBA05_KRSAQUOT</td>\n",
       "      <td>14.959701</td>\n",
       "    </tr>\n",
       "    <tr>\n",
       "      <th>KBA05_HERST4</th>\n",
       "      <td>KBA05_HERST4</td>\n",
       "      <td>14.959701</td>\n",
       "    </tr>\n",
       "    <tr>\n",
       "      <th>KBA05_AUTOQUOT</th>\n",
       "      <td>KBA05_AUTOQUOT</td>\n",
       "      <td>14.959701</td>\n",
       "    </tr>\n",
       "    <tr>\n",
       "      <th>KBA05_CCM2</th>\n",
       "      <td>KBA05_CCM2</td>\n",
       "      <td>14.959701</td>\n",
       "    </tr>\n",
       "    <tr>\n",
       "      <th>...</th>\n",
       "      <td>...</td>\n",
       "      <td>...</td>\n",
       "    </tr>\n",
       "    <tr>\n",
       "      <th>D19_VOLLSORTIMENT</th>\n",
       "      <td>D19_VOLLSORTIMENT</td>\n",
       "      <td>0.000000</td>\n",
       "    </tr>\n",
       "    <tr>\n",
       "      <th>D19_WEIN_FEINKOST</th>\n",
       "      <td>D19_WEIN_FEINKOST</td>\n",
       "      <td>0.000000</td>\n",
       "    </tr>\n",
       "    <tr>\n",
       "      <th>FINANZ_ANLEGER</th>\n",
       "      <td>FINANZ_ANLEGER</td>\n",
       "      <td>0.000000</td>\n",
       "    </tr>\n",
       "    <tr>\n",
       "      <th>FINANZ_MINIMALIST</th>\n",
       "      <td>FINANZ_MINIMALIST</td>\n",
       "      <td>0.000000</td>\n",
       "    </tr>\n",
       "    <tr>\n",
       "      <th>D19_VERSI_ANZ_24</th>\n",
       "      <td>D19_VERSI_ANZ_24</td>\n",
       "      <td>0.000000</td>\n",
       "    </tr>\n",
       "    <tr>\n",
       "      <th>FINANZ_SPARER</th>\n",
       "      <td>FINANZ_SPARER</td>\n",
       "      <td>0.000000</td>\n",
       "    </tr>\n",
       "    <tr>\n",
       "      <th>FINANZ_UNAUFFAELLIGER</th>\n",
       "      <td>FINANZ_UNAUFFAELLIGER</td>\n",
       "      <td>0.000000</td>\n",
       "    </tr>\n",
       "    <tr>\n",
       "      <th>FINANZ_VORSORGER</th>\n",
       "      <td>FINANZ_VORSORGER</td>\n",
       "      <td>0.000000</td>\n",
       "    </tr>\n",
       "    <tr>\n",
       "      <th>FINANZTYP</th>\n",
       "      <td>FINANZTYP</td>\n",
       "      <td>0.000000</td>\n",
       "    </tr>\n",
       "    <tr>\n",
       "      <th>GEBURTSJAHR</th>\n",
       "      <td>GEBURTSJAHR</td>\n",
       "      <td>0.000000</td>\n",
       "    </tr>\n",
       "    <tr>\n",
       "      <th>GREEN_AVANTGARDE</th>\n",
       "      <td>GREEN_AVANTGARDE</td>\n",
       "      <td>0.000000</td>\n",
       "    </tr>\n",
       "    <tr>\n",
       "      <th>D19_VERSI_DATUM</th>\n",
       "      <td>D19_VERSI_DATUM</td>\n",
       "      <td>0.000000</td>\n",
       "    </tr>\n",
       "    <tr>\n",
       "      <th>D19_VERSI_ANZ_12</th>\n",
       "      <td>D19_VERSI_ANZ_12</td>\n",
       "      <td>0.000000</td>\n",
       "    </tr>\n",
       "    <tr>\n",
       "      <th>D19_SONSTIGE</th>\n",
       "      <td>D19_SONSTIGE</td>\n",
       "      <td>0.000000</td>\n",
       "    </tr>\n",
       "    <tr>\n",
       "      <th>D19_TELKO_ONLINE_DATUM</th>\n",
       "      <td>D19_TELKO_ONLINE_DATUM</td>\n",
       "      <td>0.000000</td>\n",
       "    </tr>\n",
       "    <tr>\n",
       "      <th>D19_TECHNIK</th>\n",
       "      <td>D19_TECHNIK</td>\n",
       "      <td>0.000000</td>\n",
       "    </tr>\n",
       "    <tr>\n",
       "      <th>D19_TELKO_ANZ_12</th>\n",
       "      <td>D19_TELKO_ANZ_12</td>\n",
       "      <td>0.000000</td>\n",
       "    </tr>\n",
       "    <tr>\n",
       "      <th>D19_TELKO_ANZ_24</th>\n",
       "      <td>D19_TELKO_ANZ_24</td>\n",
       "      <td>0.000000</td>\n",
       "    </tr>\n",
       "    <tr>\n",
       "      <th>D19_TELKO_DATUM</th>\n",
       "      <td>D19_TELKO_DATUM</td>\n",
       "      <td>0.000000</td>\n",
       "    </tr>\n",
       "    <tr>\n",
       "      <th>D19_TELKO_MOBILE</th>\n",
       "      <td>D19_TELKO_MOBILE</td>\n",
       "      <td>0.000000</td>\n",
       "    </tr>\n",
       "    <tr>\n",
       "      <th>D19_TELKO_OFFLINE_DATUM</th>\n",
       "      <td>D19_TELKO_OFFLINE_DATUM</td>\n",
       "      <td>0.000000</td>\n",
       "    </tr>\n",
       "    <tr>\n",
       "      <th>D19_TELKO_REST</th>\n",
       "      <td>D19_TELKO_REST</td>\n",
       "      <td>0.000000</td>\n",
       "    </tr>\n",
       "    <tr>\n",
       "      <th>D19_VERSAND_REST</th>\n",
       "      <td>D19_VERSAND_REST</td>\n",
       "      <td>0.000000</td>\n",
       "    </tr>\n",
       "    <tr>\n",
       "      <th>D19_TIERARTIKEL</th>\n",
       "      <td>D19_TIERARTIKEL</td>\n",
       "      <td>0.000000</td>\n",
       "    </tr>\n",
       "    <tr>\n",
       "      <th>D19_VERSAND_ANZ_12</th>\n",
       "      <td>D19_VERSAND_ANZ_12</td>\n",
       "      <td>0.000000</td>\n",
       "    </tr>\n",
       "    <tr>\n",
       "      <th>D19_VERSAND_ANZ_24</th>\n",
       "      <td>D19_VERSAND_ANZ_24</td>\n",
       "      <td>0.000000</td>\n",
       "    </tr>\n",
       "    <tr>\n",
       "      <th>D19_VERSAND_DATUM</th>\n",
       "      <td>D19_VERSAND_DATUM</td>\n",
       "      <td>0.000000</td>\n",
       "    </tr>\n",
       "    <tr>\n",
       "      <th>D19_VERSAND_OFFLINE_DATUM</th>\n",
       "      <td>D19_VERSAND_OFFLINE_DATUM</td>\n",
       "      <td>0.000000</td>\n",
       "    </tr>\n",
       "    <tr>\n",
       "      <th>D19_VERSAND_ONLINE_DATUM</th>\n",
       "      <td>D19_VERSAND_ONLINE_DATUM</td>\n",
       "      <td>0.000000</td>\n",
       "    </tr>\n",
       "    <tr>\n",
       "      <th>ALTERSKATEGORIE_GROB</th>\n",
       "      <td>ALTERSKATEGORIE_GROB</td>\n",
       "      <td>0.000000</td>\n",
       "    </tr>\n",
       "  </tbody>\n",
       "</table>\n",
       "<p>366 rows × 2 columns</p>\n",
       "</div>"
      ],
      "text/plain": [
       "                                                col_name  percent_nulls\n",
       "ALTER_KIND4                                  ALTER_KIND4      99.864792\n",
       "ALTER_KIND3                                  ALTER_KIND3      99.307691\n",
       "ALTER_KIND2                                  ALTER_KIND2      96.690047\n",
       "ALTER_KIND1                                  ALTER_KIND1      90.904837\n",
       "EXTSEL992                                      EXTSEL992      73.399639\n",
       "KK_KUNDENTYP                                KK_KUNDENTYP      65.596749\n",
       "ALTERSKATEGORIE_FEIN                ALTERSKATEGORIE_FEIN      29.504130\n",
       "D19_VERSAND_ONLINE_QUOTE_12  D19_VERSAND_ONLINE_QUOTE_12      28.849522\n",
       "D19_LOTTO                                      D19_LOTTO      28.849522\n",
       "D19_BANKEN_ONLINE_QUOTE_12    D19_BANKEN_ONLINE_QUOTE_12      28.849522\n",
       "D19_LETZTER_KAUF_BRANCHE        D19_LETZTER_KAUF_BRANCHE      28.849522\n",
       "D19_SOZIALES                                D19_SOZIALES      28.849522\n",
       "D19_GESAMT_ONLINE_QUOTE_12    D19_GESAMT_ONLINE_QUOTE_12      28.849522\n",
       "D19_KONSUMTYP                              D19_KONSUMTYP      28.849522\n",
       "D19_VERSI_ONLINE_QUOTE_12      D19_VERSI_ONLINE_QUOTE_12      28.849522\n",
       "D19_TELKO_ONLINE_QUOTE_12      D19_TELKO_ONLINE_QUOTE_12      28.849522\n",
       "KBA05_DIESEL                                KBA05_DIESEL      14.959701\n",
       "KBA05_CCM4                                    KBA05_CCM4      14.959701\n",
       "KBA05_GBZ                                      KBA05_GBZ      14.959701\n",
       "KBA05_FRAU                                    KBA05_FRAU      14.959701\n",
       "KBA05_ZUL4                                    KBA05_ZUL4      14.959701\n",
       "KBA05_HERST1                                KBA05_HERST1      14.959701\n",
       "KBA05_HERST2                                KBA05_HERST2      14.959701\n",
       "KBA05_HERST3                                KBA05_HERST3      14.959701\n",
       "KBA05_CCM3                                    KBA05_CCM3      14.959701\n",
       "KBA05_HERST5                                KBA05_HERST5      14.959701\n",
       "KBA05_KRSAQUOT                            KBA05_KRSAQUOT      14.959701\n",
       "KBA05_HERST4                                KBA05_HERST4      14.959701\n",
       "KBA05_AUTOQUOT                            KBA05_AUTOQUOT      14.959701\n",
       "KBA05_CCM2                                    KBA05_CCM2      14.959701\n",
       "...                                                  ...            ...\n",
       "D19_VOLLSORTIMENT                      D19_VOLLSORTIMENT       0.000000\n",
       "D19_WEIN_FEINKOST                      D19_WEIN_FEINKOST       0.000000\n",
       "FINANZ_ANLEGER                            FINANZ_ANLEGER       0.000000\n",
       "FINANZ_MINIMALIST                      FINANZ_MINIMALIST       0.000000\n",
       "D19_VERSI_ANZ_24                        D19_VERSI_ANZ_24       0.000000\n",
       "FINANZ_SPARER                              FINANZ_SPARER       0.000000\n",
       "FINANZ_UNAUFFAELLIGER              FINANZ_UNAUFFAELLIGER       0.000000\n",
       "FINANZ_VORSORGER                        FINANZ_VORSORGER       0.000000\n",
       "FINANZTYP                                      FINANZTYP       0.000000\n",
       "GEBURTSJAHR                                  GEBURTSJAHR       0.000000\n",
       "GREEN_AVANTGARDE                        GREEN_AVANTGARDE       0.000000\n",
       "D19_VERSI_DATUM                          D19_VERSI_DATUM       0.000000\n",
       "D19_VERSI_ANZ_12                        D19_VERSI_ANZ_12       0.000000\n",
       "D19_SONSTIGE                                D19_SONSTIGE       0.000000\n",
       "D19_TELKO_ONLINE_DATUM            D19_TELKO_ONLINE_DATUM       0.000000\n",
       "D19_TECHNIK                                  D19_TECHNIK       0.000000\n",
       "D19_TELKO_ANZ_12                        D19_TELKO_ANZ_12       0.000000\n",
       "D19_TELKO_ANZ_24                        D19_TELKO_ANZ_24       0.000000\n",
       "D19_TELKO_DATUM                          D19_TELKO_DATUM       0.000000\n",
       "D19_TELKO_MOBILE                        D19_TELKO_MOBILE       0.000000\n",
       "D19_TELKO_OFFLINE_DATUM          D19_TELKO_OFFLINE_DATUM       0.000000\n",
       "D19_TELKO_REST                            D19_TELKO_REST       0.000000\n",
       "D19_VERSAND_REST                        D19_VERSAND_REST       0.000000\n",
       "D19_TIERARTIKEL                          D19_TIERARTIKEL       0.000000\n",
       "D19_VERSAND_ANZ_12                    D19_VERSAND_ANZ_12       0.000000\n",
       "D19_VERSAND_ANZ_24                    D19_VERSAND_ANZ_24       0.000000\n",
       "D19_VERSAND_DATUM                      D19_VERSAND_DATUM       0.000000\n",
       "D19_VERSAND_OFFLINE_DATUM      D19_VERSAND_OFFLINE_DATUM       0.000000\n",
       "D19_VERSAND_ONLINE_DATUM        D19_VERSAND_ONLINE_DATUM       0.000000\n",
       "ALTERSKATEGORIE_GROB                ALTERSKATEGORIE_GROB       0.000000\n",
       "\n",
       "[366 rows x 2 columns]"
      ]
     },
     "execution_count": 35,
     "metadata": {},
     "output_type": "execute_result"
    }
   ],
   "source": [
    "azdias_percent_nulls.sort_values('percent_nulls', ascending=False)"
   ]
  },
  {
   "cell_type": "code",
   "execution_count": 36,
   "metadata": {},
   "outputs": [],
   "source": [
    "# percentage of nulls for customers\n",
    "customers_percent_nulls = percent_nulls(customers)"
   ]
  },
  {
   "cell_type": "code",
   "execution_count": 37,
   "metadata": {},
   "outputs": [
    {
     "data": {
      "text/html": [
       "<div>\n",
       "<style scoped>\n",
       "    .dataframe tbody tr th:only-of-type {\n",
       "        vertical-align: middle;\n",
       "    }\n",
       "\n",
       "    .dataframe tbody tr th {\n",
       "        vertical-align: top;\n",
       "    }\n",
       "\n",
       "    .dataframe thead th {\n",
       "        text-align: right;\n",
       "    }\n",
       "</style>\n",
       "<table border=\"1\" class=\"dataframe\">\n",
       "  <thead>\n",
       "    <tr style=\"text-align: right;\">\n",
       "      <th></th>\n",
       "      <th>col_name</th>\n",
       "      <th>percent_nulls</th>\n",
       "    </tr>\n",
       "  </thead>\n",
       "  <tbody>\n",
       "    <tr>\n",
       "      <th>ALTER_KIND4</th>\n",
       "      <td>ALTER_KIND4</td>\n",
       "      <td>99.876860</td>\n",
       "    </tr>\n",
       "    <tr>\n",
       "      <th>ALTER_KIND3</th>\n",
       "      <td>ALTER_KIND3</td>\n",
       "      <td>99.334732</td>\n",
       "    </tr>\n",
       "    <tr>\n",
       "      <th>ALTER_KIND2</th>\n",
       "      <td>ALTER_KIND2</td>\n",
       "      <td>97.338927</td>\n",
       "    </tr>\n",
       "    <tr>\n",
       "      <th>ALTER_KIND1</th>\n",
       "      <td>ALTER_KIND1</td>\n",
       "      <td>93.860748</td>\n",
       "    </tr>\n",
       "    <tr>\n",
       "      <th>KK_KUNDENTYP</th>\n",
       "      <td>KK_KUNDENTYP</td>\n",
       "      <td>58.406382</td>\n",
       "    </tr>\n",
       "    <tr>\n",
       "      <th>EXTSEL992</th>\n",
       "      <td>EXTSEL992</td>\n",
       "      <td>44.498883</td>\n",
       "    </tr>\n",
       "    <tr>\n",
       "      <th>KBA05_HERST4</th>\n",
       "      <td>KBA05_HERST4</td>\n",
       "      <td>29.209192</td>\n",
       "    </tr>\n",
       "    <tr>\n",
       "      <th>KBA05_FRAU</th>\n",
       "      <td>KBA05_FRAU</td>\n",
       "      <td>29.209192</td>\n",
       "    </tr>\n",
       "    <tr>\n",
       "      <th>KBA05_GBZ</th>\n",
       "      <td>KBA05_GBZ</td>\n",
       "      <td>29.209192</td>\n",
       "    </tr>\n",
       "    <tr>\n",
       "      <th>KBA05_HERST1</th>\n",
       "      <td>KBA05_HERST1</td>\n",
       "      <td>29.209192</td>\n",
       "    </tr>\n",
       "    <tr>\n",
       "      <th>KBA05_HERST2</th>\n",
       "      <td>KBA05_HERST2</td>\n",
       "      <td>29.209192</td>\n",
       "    </tr>\n",
       "    <tr>\n",
       "      <th>KBA05_HERST3</th>\n",
       "      <td>KBA05_HERST3</td>\n",
       "      <td>29.209192</td>\n",
       "    </tr>\n",
       "    <tr>\n",
       "      <th>KBA05_KRSHERST1</th>\n",
       "      <td>KBA05_KRSHERST1</td>\n",
       "      <td>29.209192</td>\n",
       "    </tr>\n",
       "    <tr>\n",
       "      <th>KBA05_HERST5</th>\n",
       "      <td>KBA05_HERST5</td>\n",
       "      <td>29.209192</td>\n",
       "    </tr>\n",
       "    <tr>\n",
       "      <th>KBA05_KRSAQUOT</th>\n",
       "      <td>KBA05_KRSAQUOT</td>\n",
       "      <td>29.209192</td>\n",
       "    </tr>\n",
       "    <tr>\n",
       "      <th>KBA05_CCM4</th>\n",
       "      <td>KBA05_CCM4</td>\n",
       "      <td>29.209192</td>\n",
       "    </tr>\n",
       "    <tr>\n",
       "      <th>KBA05_KRSHERST2</th>\n",
       "      <td>KBA05_KRSHERST2</td>\n",
       "      <td>29.209192</td>\n",
       "    </tr>\n",
       "    <tr>\n",
       "      <th>KBA05_KRSHERST3</th>\n",
       "      <td>KBA05_KRSHERST3</td>\n",
       "      <td>29.209192</td>\n",
       "    </tr>\n",
       "    <tr>\n",
       "      <th>KBA05_KRSOBER</th>\n",
       "      <td>KBA05_KRSOBER</td>\n",
       "      <td>29.209192</td>\n",
       "    </tr>\n",
       "    <tr>\n",
       "      <th>KBA05_DIESEL</th>\n",
       "      <td>KBA05_DIESEL</td>\n",
       "      <td>29.209192</td>\n",
       "    </tr>\n",
       "    <tr>\n",
       "      <th>KBA05_CCM1</th>\n",
       "      <td>KBA05_CCM1</td>\n",
       "      <td>29.209192</td>\n",
       "    </tr>\n",
       "    <tr>\n",
       "      <th>KBA05_CCM3</th>\n",
       "      <td>KBA05_CCM3</td>\n",
       "      <td>29.209192</td>\n",
       "    </tr>\n",
       "    <tr>\n",
       "      <th>KBA05_CCM2</th>\n",
       "      <td>KBA05_CCM2</td>\n",
       "      <td>29.209192</td>\n",
       "    </tr>\n",
       "    <tr>\n",
       "      <th>KBA05_KRSZUL</th>\n",
       "      <td>KBA05_KRSZUL</td>\n",
       "      <td>29.209192</td>\n",
       "    </tr>\n",
       "    <tr>\n",
       "      <th>KBA05_BAUMAX</th>\n",
       "      <td>KBA05_BAUMAX</td>\n",
       "      <td>29.209192</td>\n",
       "    </tr>\n",
       "    <tr>\n",
       "      <th>KBA05_AUTOQUOT</th>\n",
       "      <td>KBA05_AUTOQUOT</td>\n",
       "      <td>29.209192</td>\n",
       "    </tr>\n",
       "    <tr>\n",
       "      <th>KBA05_ANTG4</th>\n",
       "      <td>KBA05_ANTG4</td>\n",
       "      <td>29.209192</td>\n",
       "    </tr>\n",
       "    <tr>\n",
       "      <th>KBA05_ANTG3</th>\n",
       "      <td>KBA05_ANTG3</td>\n",
       "      <td>29.209192</td>\n",
       "    </tr>\n",
       "    <tr>\n",
       "      <th>KBA05_ANTG2</th>\n",
       "      <td>KBA05_ANTG2</td>\n",
       "      <td>29.209192</td>\n",
       "    </tr>\n",
       "    <tr>\n",
       "      <th>KBA05_ANTG1</th>\n",
       "      <td>KBA05_ANTG1</td>\n",
       "      <td>29.209192</td>\n",
       "    </tr>\n",
       "    <tr>\n",
       "      <th>...</th>\n",
       "      <td>...</td>\n",
       "      <td>...</td>\n",
       "    </tr>\n",
       "    <tr>\n",
       "      <th>D19_VOLLSORTIMENT</th>\n",
       "      <td>D19_VOLLSORTIMENT</td>\n",
       "      <td>0.000000</td>\n",
       "    </tr>\n",
       "    <tr>\n",
       "      <th>D19_WEIN_FEINKOST</th>\n",
       "      <td>D19_WEIN_FEINKOST</td>\n",
       "      <td>0.000000</td>\n",
       "    </tr>\n",
       "    <tr>\n",
       "      <th>FINANZ_ANLEGER</th>\n",
       "      <td>FINANZ_ANLEGER</td>\n",
       "      <td>0.000000</td>\n",
       "    </tr>\n",
       "    <tr>\n",
       "      <th>FINANZ_MINIMALIST</th>\n",
       "      <td>FINANZ_MINIMALIST</td>\n",
       "      <td>0.000000</td>\n",
       "    </tr>\n",
       "    <tr>\n",
       "      <th>D19_VERSI_ANZ_24</th>\n",
       "      <td>D19_VERSI_ANZ_24</td>\n",
       "      <td>0.000000</td>\n",
       "    </tr>\n",
       "    <tr>\n",
       "      <th>FINANZ_SPARER</th>\n",
       "      <td>FINANZ_SPARER</td>\n",
       "      <td>0.000000</td>\n",
       "    </tr>\n",
       "    <tr>\n",
       "      <th>FINANZ_UNAUFFAELLIGER</th>\n",
       "      <td>FINANZ_UNAUFFAELLIGER</td>\n",
       "      <td>0.000000</td>\n",
       "    </tr>\n",
       "    <tr>\n",
       "      <th>FINANZ_VORSORGER</th>\n",
       "      <td>FINANZ_VORSORGER</td>\n",
       "      <td>0.000000</td>\n",
       "    </tr>\n",
       "    <tr>\n",
       "      <th>FINANZTYP</th>\n",
       "      <td>FINANZTYP</td>\n",
       "      <td>0.000000</td>\n",
       "    </tr>\n",
       "    <tr>\n",
       "      <th>GEBURTSJAHR</th>\n",
       "      <td>GEBURTSJAHR</td>\n",
       "      <td>0.000000</td>\n",
       "    </tr>\n",
       "    <tr>\n",
       "      <th>GREEN_AVANTGARDE</th>\n",
       "      <td>GREEN_AVANTGARDE</td>\n",
       "      <td>0.000000</td>\n",
       "    </tr>\n",
       "    <tr>\n",
       "      <th>D19_VERSI_DATUM</th>\n",
       "      <td>D19_VERSI_DATUM</td>\n",
       "      <td>0.000000</td>\n",
       "    </tr>\n",
       "    <tr>\n",
       "      <th>D19_VERSI_ANZ_12</th>\n",
       "      <td>D19_VERSI_ANZ_12</td>\n",
       "      <td>0.000000</td>\n",
       "    </tr>\n",
       "    <tr>\n",
       "      <th>D19_SONSTIGE</th>\n",
       "      <td>D19_SONSTIGE</td>\n",
       "      <td>0.000000</td>\n",
       "    </tr>\n",
       "    <tr>\n",
       "      <th>D19_TELKO_ONLINE_DATUM</th>\n",
       "      <td>D19_TELKO_ONLINE_DATUM</td>\n",
       "      <td>0.000000</td>\n",
       "    </tr>\n",
       "    <tr>\n",
       "      <th>D19_TECHNIK</th>\n",
       "      <td>D19_TECHNIK</td>\n",
       "      <td>0.000000</td>\n",
       "    </tr>\n",
       "    <tr>\n",
       "      <th>D19_TELKO_ANZ_12</th>\n",
       "      <td>D19_TELKO_ANZ_12</td>\n",
       "      <td>0.000000</td>\n",
       "    </tr>\n",
       "    <tr>\n",
       "      <th>D19_TELKO_ANZ_24</th>\n",
       "      <td>D19_TELKO_ANZ_24</td>\n",
       "      <td>0.000000</td>\n",
       "    </tr>\n",
       "    <tr>\n",
       "      <th>D19_TELKO_DATUM</th>\n",
       "      <td>D19_TELKO_DATUM</td>\n",
       "      <td>0.000000</td>\n",
       "    </tr>\n",
       "    <tr>\n",
       "      <th>D19_TELKO_MOBILE</th>\n",
       "      <td>D19_TELKO_MOBILE</td>\n",
       "      <td>0.000000</td>\n",
       "    </tr>\n",
       "    <tr>\n",
       "      <th>D19_TELKO_OFFLINE_DATUM</th>\n",
       "      <td>D19_TELKO_OFFLINE_DATUM</td>\n",
       "      <td>0.000000</td>\n",
       "    </tr>\n",
       "    <tr>\n",
       "      <th>D19_TELKO_REST</th>\n",
       "      <td>D19_TELKO_REST</td>\n",
       "      <td>0.000000</td>\n",
       "    </tr>\n",
       "    <tr>\n",
       "      <th>D19_VERSAND_REST</th>\n",
       "      <td>D19_VERSAND_REST</td>\n",
       "      <td>0.000000</td>\n",
       "    </tr>\n",
       "    <tr>\n",
       "      <th>D19_TIERARTIKEL</th>\n",
       "      <td>D19_TIERARTIKEL</td>\n",
       "      <td>0.000000</td>\n",
       "    </tr>\n",
       "    <tr>\n",
       "      <th>D19_VERSAND_ANZ_12</th>\n",
       "      <td>D19_VERSAND_ANZ_12</td>\n",
       "      <td>0.000000</td>\n",
       "    </tr>\n",
       "    <tr>\n",
       "      <th>D19_VERSAND_ANZ_24</th>\n",
       "      <td>D19_VERSAND_ANZ_24</td>\n",
       "      <td>0.000000</td>\n",
       "    </tr>\n",
       "    <tr>\n",
       "      <th>D19_VERSAND_DATUM</th>\n",
       "      <td>D19_VERSAND_DATUM</td>\n",
       "      <td>0.000000</td>\n",
       "    </tr>\n",
       "    <tr>\n",
       "      <th>D19_VERSAND_OFFLINE_DATUM</th>\n",
       "      <td>D19_VERSAND_OFFLINE_DATUM</td>\n",
       "      <td>0.000000</td>\n",
       "    </tr>\n",
       "    <tr>\n",
       "      <th>D19_VERSAND_ONLINE_DATUM</th>\n",
       "      <td>D19_VERSAND_ONLINE_DATUM</td>\n",
       "      <td>0.000000</td>\n",
       "    </tr>\n",
       "    <tr>\n",
       "      <th>ALTERSKATEGORIE_GROB</th>\n",
       "      <td>ALTERSKATEGORIE_GROB</td>\n",
       "      <td>0.000000</td>\n",
       "    </tr>\n",
       "  </tbody>\n",
       "</table>\n",
       "<p>366 rows × 2 columns</p>\n",
       "</div>"
      ],
      "text/plain": [
       "                                            col_name  percent_nulls\n",
       "ALTER_KIND4                              ALTER_KIND4      99.876860\n",
       "ALTER_KIND3                              ALTER_KIND3      99.334732\n",
       "ALTER_KIND2                              ALTER_KIND2      97.338927\n",
       "ALTER_KIND1                              ALTER_KIND1      93.860748\n",
       "KK_KUNDENTYP                            KK_KUNDENTYP      58.406382\n",
       "EXTSEL992                                  EXTSEL992      44.498883\n",
       "KBA05_HERST4                            KBA05_HERST4      29.209192\n",
       "KBA05_FRAU                                KBA05_FRAU      29.209192\n",
       "KBA05_GBZ                                  KBA05_GBZ      29.209192\n",
       "KBA05_HERST1                            KBA05_HERST1      29.209192\n",
       "KBA05_HERST2                            KBA05_HERST2      29.209192\n",
       "KBA05_HERST3                            KBA05_HERST3      29.209192\n",
       "KBA05_KRSHERST1                      KBA05_KRSHERST1      29.209192\n",
       "KBA05_HERST5                            KBA05_HERST5      29.209192\n",
       "KBA05_KRSAQUOT                        KBA05_KRSAQUOT      29.209192\n",
       "KBA05_CCM4                                KBA05_CCM4      29.209192\n",
       "KBA05_KRSHERST2                      KBA05_KRSHERST2      29.209192\n",
       "KBA05_KRSHERST3                      KBA05_KRSHERST3      29.209192\n",
       "KBA05_KRSOBER                          KBA05_KRSOBER      29.209192\n",
       "KBA05_DIESEL                            KBA05_DIESEL      29.209192\n",
       "KBA05_CCM1                                KBA05_CCM1      29.209192\n",
       "KBA05_CCM3                                KBA05_CCM3      29.209192\n",
       "KBA05_CCM2                                KBA05_CCM2      29.209192\n",
       "KBA05_KRSZUL                            KBA05_KRSZUL      29.209192\n",
       "KBA05_BAUMAX                            KBA05_BAUMAX      29.209192\n",
       "KBA05_AUTOQUOT                        KBA05_AUTOQUOT      29.209192\n",
       "KBA05_ANTG4                              KBA05_ANTG4      29.209192\n",
       "KBA05_ANTG3                              KBA05_ANTG3      29.209192\n",
       "KBA05_ANTG2                              KBA05_ANTG2      29.209192\n",
       "KBA05_ANTG1                              KBA05_ANTG1      29.209192\n",
       "...                                              ...            ...\n",
       "D19_VOLLSORTIMENT                  D19_VOLLSORTIMENT       0.000000\n",
       "D19_WEIN_FEINKOST                  D19_WEIN_FEINKOST       0.000000\n",
       "FINANZ_ANLEGER                        FINANZ_ANLEGER       0.000000\n",
       "FINANZ_MINIMALIST                  FINANZ_MINIMALIST       0.000000\n",
       "D19_VERSI_ANZ_24                    D19_VERSI_ANZ_24       0.000000\n",
       "FINANZ_SPARER                          FINANZ_SPARER       0.000000\n",
       "FINANZ_UNAUFFAELLIGER          FINANZ_UNAUFFAELLIGER       0.000000\n",
       "FINANZ_VORSORGER                    FINANZ_VORSORGER       0.000000\n",
       "FINANZTYP                                  FINANZTYP       0.000000\n",
       "GEBURTSJAHR                              GEBURTSJAHR       0.000000\n",
       "GREEN_AVANTGARDE                    GREEN_AVANTGARDE       0.000000\n",
       "D19_VERSI_DATUM                      D19_VERSI_DATUM       0.000000\n",
       "D19_VERSI_ANZ_12                    D19_VERSI_ANZ_12       0.000000\n",
       "D19_SONSTIGE                            D19_SONSTIGE       0.000000\n",
       "D19_TELKO_ONLINE_DATUM        D19_TELKO_ONLINE_DATUM       0.000000\n",
       "D19_TECHNIK                              D19_TECHNIK       0.000000\n",
       "D19_TELKO_ANZ_12                    D19_TELKO_ANZ_12       0.000000\n",
       "D19_TELKO_ANZ_24                    D19_TELKO_ANZ_24       0.000000\n",
       "D19_TELKO_DATUM                      D19_TELKO_DATUM       0.000000\n",
       "D19_TELKO_MOBILE                    D19_TELKO_MOBILE       0.000000\n",
       "D19_TELKO_OFFLINE_DATUM      D19_TELKO_OFFLINE_DATUM       0.000000\n",
       "D19_TELKO_REST                        D19_TELKO_REST       0.000000\n",
       "D19_VERSAND_REST                    D19_VERSAND_REST       0.000000\n",
       "D19_TIERARTIKEL                      D19_TIERARTIKEL       0.000000\n",
       "D19_VERSAND_ANZ_12                D19_VERSAND_ANZ_12       0.000000\n",
       "D19_VERSAND_ANZ_24                D19_VERSAND_ANZ_24       0.000000\n",
       "D19_VERSAND_DATUM                  D19_VERSAND_DATUM       0.000000\n",
       "D19_VERSAND_OFFLINE_DATUM  D19_VERSAND_OFFLINE_DATUM       0.000000\n",
       "D19_VERSAND_ONLINE_DATUM    D19_VERSAND_ONLINE_DATUM       0.000000\n",
       "ALTERSKATEGORIE_GROB            ALTERSKATEGORIE_GROB       0.000000\n",
       "\n",
       "[366 rows x 2 columns]"
      ]
     },
     "execution_count": 37,
     "metadata": {},
     "output_type": "execute_result"
    }
   ],
   "source": [
    "# sort percentage of nulls dataframe\n",
    "customers_percent_nulls.sort_values('percent_nulls', ascending=False)"
   ]
  },
  {
   "cell_type": "code",
   "execution_count": 38,
   "metadata": {},
   "outputs": [
    {
     "data": {
      "text/plain": [
       "(891221, 366)"
      ]
     },
     "execution_count": 38,
     "metadata": {},
     "output_type": "execute_result"
    }
   ],
   "source": [
    "azdias.shape"
   ]
  },
  {
   "cell_type": "code",
   "execution_count": 40,
   "metadata": {},
   "outputs": [],
   "source": [
    " # drop columns if All the Values are Null - these columns are not useful and do not provide any insights\n",
    "azdias = azdias.dropna(how='all', axis=1)"
   ]
  },
  {
   "cell_type": "code",
   "execution_count": 58,
   "metadata": {},
   "outputs": [
    {
     "data": {
      "text/plain": [
       "(891221, 366)"
      ]
     },
     "execution_count": 58,
     "metadata": {},
     "output_type": "execute_result"
    }
   ],
   "source": [
    "azdias.shape"
   ]
  },
  {
   "cell_type": "code",
   "execution_count": 62,
   "metadata": {},
   "outputs": [
    {
     "data": {
      "text/plain": [
       "(191652, 366)"
      ]
     },
     "execution_count": 62,
     "metadata": {},
     "output_type": "execute_result"
    }
   ],
   "source": [
    "customers.shape"
   ]
  },
  {
   "cell_type": "code",
   "execution_count": 61,
   "metadata": {},
   "outputs": [],
   "source": [
    "# drop columns if All the Values are Null - these columns are not useful and do not provide any insights\n",
    "customers = customers.dropna(how='all', axis=1)"
   ]
  },
  {
   "cell_type": "code",
   "execution_count": null,
   "metadata": {},
   "outputs": [],
   "source": [
    "customers.shape"
   ]
  },
  {
   "cell_type": "code",
   "execution_count": 63,
   "metadata": {},
   "outputs": [
    {
     "data": {
      "text/plain": [
       "0"
      ]
     },
     "execution_count": 63,
     "metadata": {},
     "output_type": "execute_result"
    }
   ],
   "source": [
    "#check duplicates\n",
    "azdias.duplicated(keep='first').sum()"
   ]
  },
  {
   "cell_type": "code",
   "execution_count": null,
   "metadata": {},
   "outputs": [],
   "source": [
    "# check number of duplicates\n",
    "customers.duplicated(keep='first').sum()"
   ]
  },
  {
   "cell_type": "code",
   "execution_count": 29,
   "metadata": {},
   "outputs": [
    {
     "data": {
      "text/html": [
       "<div>\n",
       "<style scoped>\n",
       "    .dataframe tbody tr th:only-of-type {\n",
       "        vertical-align: middle;\n",
       "    }\n",
       "\n",
       "    .dataframe tbody tr th {\n",
       "        vertical-align: top;\n",
       "    }\n",
       "\n",
       "    .dataframe thead th {\n",
       "        text-align: right;\n",
       "    }\n",
       "</style>\n",
       "<table border=\"1\" class=\"dataframe\">\n",
       "  <thead>\n",
       "    <tr style=\"text-align: right;\">\n",
       "      <th></th>\n",
       "      <th>CAMEO_DEU_2015</th>\n",
       "      <th>D19_LETZTER_KAUF_BRANCHE</th>\n",
       "      <th>EINGEFUEGT_AM</th>\n",
       "      <th>OST_WEST_KZ</th>\n",
       "    </tr>\n",
       "  </thead>\n",
       "  <tbody>\n",
       "    <tr>\n",
       "      <th>0</th>\n",
       "      <td>NaN</td>\n",
       "      <td>NaN</td>\n",
       "      <td>NaN</td>\n",
       "      <td>NaN</td>\n",
       "    </tr>\n",
       "    <tr>\n",
       "      <th>1</th>\n",
       "      <td>8A</td>\n",
       "      <td>NaN</td>\n",
       "      <td>1992-02-10 00:00:00</td>\n",
       "      <td>W</td>\n",
       "    </tr>\n",
       "    <tr>\n",
       "      <th>2</th>\n",
       "      <td>4C</td>\n",
       "      <td>D19_UNBEKANNT</td>\n",
       "      <td>1992-02-12 00:00:00</td>\n",
       "      <td>W</td>\n",
       "    </tr>\n",
       "    <tr>\n",
       "      <th>3</th>\n",
       "      <td>2A</td>\n",
       "      <td>D19_UNBEKANNT</td>\n",
       "      <td>1997-04-21 00:00:00</td>\n",
       "      <td>W</td>\n",
       "    </tr>\n",
       "    <tr>\n",
       "      <th>4</th>\n",
       "      <td>6B</td>\n",
       "      <td>D19_SCHUHE</td>\n",
       "      <td>1992-02-12 00:00:00</td>\n",
       "      <td>W</td>\n",
       "    </tr>\n",
       "  </tbody>\n",
       "</table>\n",
       "</div>"
      ],
      "text/plain": [
       "  CAMEO_DEU_2015 D19_LETZTER_KAUF_BRANCHE        EINGEFUEGT_AM OST_WEST_KZ\n",
       "0            NaN                      NaN                  NaN         NaN\n",
       "1             8A                      NaN  1992-02-10 00:00:00           W\n",
       "2             4C            D19_UNBEKANNT  1992-02-12 00:00:00           W\n",
       "3             2A            D19_UNBEKANNT  1997-04-21 00:00:00           W\n",
       "4             6B               D19_SCHUHE  1992-02-12 00:00:00           W"
      ]
     },
     "execution_count": 29,
     "metadata": {},
     "output_type": "execute_result"
    }
   ],
   "source": [
    "#find objcets in azdias dataset\n",
    "azdias.select_dtypes(include='object').head()"
   ]
  },
  {
   "cell_type": "code",
   "execution_count": 13,
   "metadata": {
    "scrolled": true
   },
   "outputs": [],
   "source": [
    "#load dias attributes data from excel file\n",
    "\n",
    "dias_attr = pd.read_excel('DIAS Attributes - Values 2017.xlsx', skiprows=[0])"
   ]
  },
  {
   "cell_type": "code",
   "execution_count": 14,
   "metadata": {},
   "outputs": [
    {
     "data": {
      "text/html": [
       "<div>\n",
       "<style scoped>\n",
       "    .dataframe tbody tr th:only-of-type {\n",
       "        vertical-align: middle;\n",
       "    }\n",
       "\n",
       "    .dataframe tbody tr th {\n",
       "        vertical-align: top;\n",
       "    }\n",
       "\n",
       "    .dataframe thead th {\n",
       "        text-align: right;\n",
       "    }\n",
       "</style>\n",
       "<table border=\"1\" class=\"dataframe\">\n",
       "  <thead>\n",
       "    <tr style=\"text-align: right;\">\n",
       "      <th></th>\n",
       "      <th>Unnamed: 0</th>\n",
       "      <th>Attribute</th>\n",
       "      <th>Description</th>\n",
       "      <th>Value</th>\n",
       "      <th>Meaning</th>\n",
       "    </tr>\n",
       "  </thead>\n",
       "  <tbody>\n",
       "    <tr>\n",
       "      <th>0</th>\n",
       "      <td>NaN</td>\n",
       "      <td>AGER_TYP</td>\n",
       "      <td>best-ager typology</td>\n",
       "      <td>-1</td>\n",
       "      <td>unknown</td>\n",
       "    </tr>\n",
       "    <tr>\n",
       "      <th>1</th>\n",
       "      <td>NaN</td>\n",
       "      <td>NaN</td>\n",
       "      <td>NaN</td>\n",
       "      <td>0</td>\n",
       "      <td>no classification possible</td>\n",
       "    </tr>\n",
       "    <tr>\n",
       "      <th>2</th>\n",
       "      <td>NaN</td>\n",
       "      <td>NaN</td>\n",
       "      <td>NaN</td>\n",
       "      <td>1</td>\n",
       "      <td>passive elderly</td>\n",
       "    </tr>\n",
       "    <tr>\n",
       "      <th>3</th>\n",
       "      <td>NaN</td>\n",
       "      <td>NaN</td>\n",
       "      <td>NaN</td>\n",
       "      <td>2</td>\n",
       "      <td>cultural elderly</td>\n",
       "    </tr>\n",
       "    <tr>\n",
       "      <th>4</th>\n",
       "      <td>NaN</td>\n",
       "      <td>NaN</td>\n",
       "      <td>NaN</td>\n",
       "      <td>3</td>\n",
       "      <td>experience-driven elderly</td>\n",
       "    </tr>\n",
       "  </tbody>\n",
       "</table>\n",
       "</div>"
      ],
      "text/plain": [
       "   Unnamed: 0 Attribute         Description Value                     Meaning\n",
       "0         NaN  AGER_TYP  best-ager typology    -1                     unknown\n",
       "1         NaN       NaN                 NaN     0  no classification possible\n",
       "2         NaN       NaN                 NaN     1             passive elderly\n",
       "3         NaN       NaN                 NaN     2            cultural elderly\n",
       "4         NaN       NaN                 NaN     3   experience-driven elderly"
      ]
     },
     "execution_count": 14,
     "metadata": {},
     "output_type": "execute_result"
    }
   ],
   "source": [
    "dias_attr.head()"
   ]
  },
  {
   "cell_type": "code",
   "execution_count": 15,
   "metadata": {},
   "outputs": [],
   "source": [
    "# delete Unnamed column\n",
    "del dias_attr['Unnamed: 0']"
   ]
  },
  {
   "cell_type": "code",
   "execution_count": 16,
   "metadata": {
    "scrolled": false
   },
   "outputs": [
    {
     "data": {
      "text/html": [
       "<div>\n",
       "<style scoped>\n",
       "    .dataframe tbody tr th:only-of-type {\n",
       "        vertical-align: middle;\n",
       "    }\n",
       "\n",
       "    .dataframe tbody tr th {\n",
       "        vertical-align: top;\n",
       "    }\n",
       "\n",
       "    .dataframe thead th {\n",
       "        text-align: right;\n",
       "    }\n",
       "</style>\n",
       "<table border=\"1\" class=\"dataframe\">\n",
       "  <thead>\n",
       "    <tr style=\"text-align: right;\">\n",
       "      <th></th>\n",
       "      <th>Attribute</th>\n",
       "      <th>Description</th>\n",
       "      <th>Value</th>\n",
       "      <th>Meaning</th>\n",
       "    </tr>\n",
       "  </thead>\n",
       "  <tbody>\n",
       "    <tr>\n",
       "      <th>0</th>\n",
       "      <td>AGER_TYP</td>\n",
       "      <td>best-ager typology</td>\n",
       "      <td>-1</td>\n",
       "      <td>unknown</td>\n",
       "    </tr>\n",
       "    <tr>\n",
       "      <th>1</th>\n",
       "      <td>NaN</td>\n",
       "      <td>NaN</td>\n",
       "      <td>0</td>\n",
       "      <td>no classification possible</td>\n",
       "    </tr>\n",
       "    <tr>\n",
       "      <th>2</th>\n",
       "      <td>NaN</td>\n",
       "      <td>NaN</td>\n",
       "      <td>1</td>\n",
       "      <td>passive elderly</td>\n",
       "    </tr>\n",
       "    <tr>\n",
       "      <th>3</th>\n",
       "      <td>NaN</td>\n",
       "      <td>NaN</td>\n",
       "      <td>2</td>\n",
       "      <td>cultural elderly</td>\n",
       "    </tr>\n",
       "    <tr>\n",
       "      <th>4</th>\n",
       "      <td>NaN</td>\n",
       "      <td>NaN</td>\n",
       "      <td>3</td>\n",
       "      <td>experience-driven elderly</td>\n",
       "    </tr>\n",
       "    <tr>\n",
       "      <th>5</th>\n",
       "      <td>ALTERSKATEGORIE_GROB</td>\n",
       "      <td>age classification through prename analysis</td>\n",
       "      <td>-1, 0</td>\n",
       "      <td>unknown</td>\n",
       "    </tr>\n",
       "    <tr>\n",
       "      <th>6</th>\n",
       "      <td>NaN</td>\n",
       "      <td>NaN</td>\n",
       "      <td>1</td>\n",
       "      <td>&lt; 30 years</td>\n",
       "    </tr>\n",
       "    <tr>\n",
       "      <th>7</th>\n",
       "      <td>NaN</td>\n",
       "      <td>NaN</td>\n",
       "      <td>2</td>\n",
       "      <td>30 - 45 years</td>\n",
       "    </tr>\n",
       "    <tr>\n",
       "      <th>8</th>\n",
       "      <td>NaN</td>\n",
       "      <td>NaN</td>\n",
       "      <td>3</td>\n",
       "      <td>46 - 60 years</td>\n",
       "    </tr>\n",
       "    <tr>\n",
       "      <th>9</th>\n",
       "      <td>NaN</td>\n",
       "      <td>NaN</td>\n",
       "      <td>4</td>\n",
       "      <td>&gt; 60 years</td>\n",
       "    </tr>\n",
       "    <tr>\n",
       "      <th>10</th>\n",
       "      <td>NaN</td>\n",
       "      <td>NaN</td>\n",
       "      <td>9</td>\n",
       "      <td>uniformly distributed</td>\n",
       "    </tr>\n",
       "    <tr>\n",
       "      <th>11</th>\n",
       "      <td>ALTER_HH</td>\n",
       "      <td>main age within the household</td>\n",
       "      <td>0</td>\n",
       "      <td>unknown / no main age detectable</td>\n",
       "    </tr>\n",
       "    <tr>\n",
       "      <th>12</th>\n",
       "      <td>NaN</td>\n",
       "      <td>NaN</td>\n",
       "      <td>1</td>\n",
       "      <td>01.01.1895 bis 31.12.1899</td>\n",
       "    </tr>\n",
       "    <tr>\n",
       "      <th>13</th>\n",
       "      <td>NaN</td>\n",
       "      <td>NaN</td>\n",
       "      <td>2</td>\n",
       "      <td>01.01.1900 bis 31.12.1904</td>\n",
       "    </tr>\n",
       "    <tr>\n",
       "      <th>14</th>\n",
       "      <td>NaN</td>\n",
       "      <td>NaN</td>\n",
       "      <td>3</td>\n",
       "      <td>01.01.1905 bis 31.12.1909</td>\n",
       "    </tr>\n",
       "    <tr>\n",
       "      <th>15</th>\n",
       "      <td>NaN</td>\n",
       "      <td>NaN</td>\n",
       "      <td>4</td>\n",
       "      <td>01.01.1910 bis 31.12.1914</td>\n",
       "    </tr>\n",
       "    <tr>\n",
       "      <th>16</th>\n",
       "      <td>NaN</td>\n",
       "      <td>NaN</td>\n",
       "      <td>5</td>\n",
       "      <td>01.01.1915 bis 31.12.1919</td>\n",
       "    </tr>\n",
       "    <tr>\n",
       "      <th>17</th>\n",
       "      <td>NaN</td>\n",
       "      <td>NaN</td>\n",
       "      <td>6</td>\n",
       "      <td>01.01.1920 bis 31.12.1924</td>\n",
       "    </tr>\n",
       "    <tr>\n",
       "      <th>18</th>\n",
       "      <td>NaN</td>\n",
       "      <td>NaN</td>\n",
       "      <td>7</td>\n",
       "      <td>01.01.1925 bis 31.12.1929</td>\n",
       "    </tr>\n",
       "    <tr>\n",
       "      <th>19</th>\n",
       "      <td>NaN</td>\n",
       "      <td>NaN</td>\n",
       "      <td>8</td>\n",
       "      <td>01.01.1930 bis 31.12.1934</td>\n",
       "    </tr>\n",
       "  </tbody>\n",
       "</table>\n",
       "</div>"
      ],
      "text/plain": [
       "               Attribute                                   Description  Value  \\\n",
       "0               AGER_TYP                            best-ager typology     -1   \n",
       "1                    NaN                                           NaN      0   \n",
       "2                    NaN                                           NaN      1   \n",
       "3                    NaN                                           NaN      2   \n",
       "4                    NaN                                           NaN      3   \n",
       "5   ALTERSKATEGORIE_GROB  age classification through prename analysis   -1, 0   \n",
       "6                    NaN                                           NaN      1   \n",
       "7                    NaN                                           NaN      2   \n",
       "8                    NaN                                           NaN      3   \n",
       "9                    NaN                                           NaN      4   \n",
       "10                   NaN                                           NaN      9   \n",
       "11              ALTER_HH                 main age within the household      0   \n",
       "12                   NaN                                           NaN      1   \n",
       "13                   NaN                                           NaN      2   \n",
       "14                   NaN                                           NaN      3   \n",
       "15                   NaN                                           NaN      4   \n",
       "16                   NaN                                           NaN      5   \n",
       "17                   NaN                                           NaN      6   \n",
       "18                   NaN                                           NaN      7   \n",
       "19                   NaN                                           NaN      8   \n",
       "\n",
       "                             Meaning  \n",
       "0                            unknown  \n",
       "1         no classification possible  \n",
       "2                    passive elderly  \n",
       "3                   cultural elderly  \n",
       "4          experience-driven elderly  \n",
       "5                            unknown  \n",
       "6                         < 30 years  \n",
       "7                      30 - 45 years  \n",
       "8                      46 - 60 years  \n",
       "9                         > 60 years  \n",
       "10             uniformly distributed  \n",
       "11  unknown / no main age detectable  \n",
       "12         01.01.1895 bis 31.12.1899  \n",
       "13         01.01.1900 bis 31.12.1904  \n",
       "14         01.01.1905 bis 31.12.1909  \n",
       "15         01.01.1910 bis 31.12.1914  \n",
       "16         01.01.1915 bis 31.12.1919  \n",
       "17         01.01.1920 bis 31.12.1924  \n",
       "18         01.01.1925 bis 31.12.1929  \n",
       "19         01.01.1930 bis 31.12.1934  "
      ]
     },
     "execution_count": 16,
     "metadata": {},
     "output_type": "execute_result"
    }
   ],
   "source": [
    "dias_attr.head(20)"
   ]
  },
  {
   "cell_type": "code",
   "execution_count": 17,
   "metadata": {
    "scrolled": true
   },
   "outputs": [],
   "source": [
    "# find indices for uknowns in the dias attribute dataset\n",
    "ind = np.where((dias_attr.Meaning == 'unknown') | (dias_attr.Meaning == 'unknown / no main age detectable') )"
   ]
  },
  {
   "cell_type": "code",
   "execution_count": 18,
   "metadata": {
    "scrolled": true
   },
   "outputs": [
    {
     "data": {
      "text/html": [
       "<div>\n",
       "<style scoped>\n",
       "    .dataframe tbody tr th:only-of-type {\n",
       "        vertical-align: middle;\n",
       "    }\n",
       "\n",
       "    .dataframe tbody tr th {\n",
       "        vertical-align: top;\n",
       "    }\n",
       "\n",
       "    .dataframe thead th {\n",
       "        text-align: right;\n",
       "    }\n",
       "</style>\n",
       "<table border=\"1\" class=\"dataframe\">\n",
       "  <thead>\n",
       "    <tr style=\"text-align: right;\">\n",
       "      <th></th>\n",
       "      <th>Attribute</th>\n",
       "      <th>Description</th>\n",
       "      <th>Value</th>\n",
       "      <th>Meaning</th>\n",
       "    </tr>\n",
       "  </thead>\n",
       "  <tbody>\n",
       "    <tr>\n",
       "      <th>0</th>\n",
       "      <td>AGER_TYP</td>\n",
       "      <td>best-ager typology</td>\n",
       "      <td>-1</td>\n",
       "      <td>unknown</td>\n",
       "    </tr>\n",
       "    <tr>\n",
       "      <th>5</th>\n",
       "      <td>ALTERSKATEGORIE_GROB</td>\n",
       "      <td>age classification through prename analysis</td>\n",
       "      <td>-1, 0</td>\n",
       "      <td>unknown</td>\n",
       "    </tr>\n",
       "    <tr>\n",
       "      <th>11</th>\n",
       "      <td>ALTER_HH</td>\n",
       "      <td>main age within the household</td>\n",
       "      <td>0</td>\n",
       "      <td>unknown / no main age detectable</td>\n",
       "    </tr>\n",
       "    <tr>\n",
       "      <th>33</th>\n",
       "      <td>ANREDE_KZ</td>\n",
       "      <td>gender</td>\n",
       "      <td>-1, 0</td>\n",
       "      <td>unknown</td>\n",
       "    </tr>\n",
       "    <tr>\n",
       "      <th>40</th>\n",
       "      <td>BALLRAUM</td>\n",
       "      <td>distance to next urban centre</td>\n",
       "      <td>-1</td>\n",
       "      <td>unknown</td>\n",
       "    </tr>\n",
       "    <tr>\n",
       "      <th>48</th>\n",
       "      <td>BIP_FLAG</td>\n",
       "      <td>business-flag indicating companies in the buil...</td>\n",
       "      <td>-1</td>\n",
       "      <td>unknown</td>\n",
       "    </tr>\n",
       "    <tr>\n",
       "      <th>51</th>\n",
       "      <td>CAMEO_DEUG_2015</td>\n",
       "      <td>CAMEO classification 2015 - Uppergroup</td>\n",
       "      <td>-1</td>\n",
       "      <td>unknown</td>\n",
       "    </tr>\n",
       "    <tr>\n",
       "      <th>105</th>\n",
       "      <td>CAMEO_DEUINTL_2015</td>\n",
       "      <td>CAMEO classification 2015 - international typo...</td>\n",
       "      <td>-1</td>\n",
       "      <td>unknown</td>\n",
       "    </tr>\n",
       "    <tr>\n",
       "      <th>131</th>\n",
       "      <td>CJT_GESAMTTYP</td>\n",
       "      <td>customer journey typology</td>\n",
       "      <td>0</td>\n",
       "      <td>unknown</td>\n",
       "    </tr>\n",
       "    <tr>\n",
       "      <th>391</th>\n",
       "      <td>D19_KK_KUNDENTYP</td>\n",
       "      <td>consumption movement in the last 12 months</td>\n",
       "      <td>-1</td>\n",
       "      <td>unknown</td>\n",
       "    </tr>\n",
       "  </tbody>\n",
       "</table>\n",
       "</div>"
      ],
      "text/plain": [
       "                Attribute                                        Description  \\\n",
       "0                AGER_TYP                                 best-ager typology   \n",
       "5    ALTERSKATEGORIE_GROB       age classification through prename analysis    \n",
       "11               ALTER_HH                      main age within the household   \n",
       "33              ANREDE_KZ                                             gender   \n",
       "40               BALLRAUM                     distance to next urban centre    \n",
       "48               BIP_FLAG  business-flag indicating companies in the buil...   \n",
       "51        CAMEO_DEUG_2015             CAMEO classification 2015 - Uppergroup   \n",
       "105    CAMEO_DEUINTL_2015  CAMEO classification 2015 - international typo...   \n",
       "131         CJT_GESAMTTYP                          customer journey typology   \n",
       "391      D19_KK_KUNDENTYP         consumption movement in the last 12 months   \n",
       "\n",
       "     Value                           Meaning  \n",
       "0       -1                           unknown  \n",
       "5    -1, 0                           unknown  \n",
       "11       0  unknown / no main age detectable  \n",
       "33   -1, 0                           unknown  \n",
       "40      -1                           unknown  \n",
       "48      -1                           unknown  \n",
       "51      -1                           unknown  \n",
       "105     -1                           unknown  \n",
       "131      0                           unknown  \n",
       "391     -1                           unknown  "
      ]
     },
     "execution_count": 18,
     "metadata": {},
     "output_type": "execute_result"
    }
   ],
   "source": [
    "dias_df = dias_attr.loc[ind]\n",
    "dias_df.head(10)"
   ]
  },
  {
   "cell_type": "code",
   "execution_count": 19,
   "metadata": {},
   "outputs": [
    {
     "data": {
      "text/plain": [
       "array([-1, '-1, 0', 0, '-1, 9', '-1'], dtype=object)"
      ]
     },
     "execution_count": 19,
     "metadata": {},
     "output_type": "execute_result"
    }
   ],
   "source": [
    "dias_df.Value.unique()"
   ]
  },
  {
   "cell_type": "code",
   "execution_count": 20,
   "metadata": {
    "scrolled": true
   },
   "outputs": [
    {
     "data": {
      "text/html": [
       "<div>\n",
       "<style scoped>\n",
       "    .dataframe tbody tr th:only-of-type {\n",
       "        vertical-align: middle;\n",
       "    }\n",
       "\n",
       "    .dataframe tbody tr th {\n",
       "        vertical-align: top;\n",
       "    }\n",
       "\n",
       "    .dataframe thead th {\n",
       "        text-align: right;\n",
       "    }\n",
       "</style>\n",
       "<table border=\"1\" class=\"dataframe\">\n",
       "  <thead>\n",
       "    <tr style=\"text-align: right;\">\n",
       "      <th></th>\n",
       "      <th>Attribute</th>\n",
       "      <th>Value</th>\n",
       "    </tr>\n",
       "  </thead>\n",
       "  <tbody>\n",
       "    <tr>\n",
       "      <th>0</th>\n",
       "      <td>AGER_TYP</td>\n",
       "      <td>-1</td>\n",
       "    </tr>\n",
       "    <tr>\n",
       "      <th>5</th>\n",
       "      <td>ALTERSKATEGORIE_GROB</td>\n",
       "      <td>-1, 0</td>\n",
       "    </tr>\n",
       "    <tr>\n",
       "      <th>11</th>\n",
       "      <td>ALTER_HH</td>\n",
       "      <td>0</td>\n",
       "    </tr>\n",
       "    <tr>\n",
       "      <th>33</th>\n",
       "      <td>ANREDE_KZ</td>\n",
       "      <td>-1, 0</td>\n",
       "    </tr>\n",
       "    <tr>\n",
       "      <th>40</th>\n",
       "      <td>BALLRAUM</td>\n",
       "      <td>-1</td>\n",
       "    </tr>\n",
       "    <tr>\n",
       "      <th>48</th>\n",
       "      <td>BIP_FLAG</td>\n",
       "      <td>-1</td>\n",
       "    </tr>\n",
       "    <tr>\n",
       "      <th>51</th>\n",
       "      <td>CAMEO_DEUG_2015</td>\n",
       "      <td>-1</td>\n",
       "    </tr>\n",
       "    <tr>\n",
       "      <th>105</th>\n",
       "      <td>CAMEO_DEUINTL_2015</td>\n",
       "      <td>-1</td>\n",
       "    </tr>\n",
       "    <tr>\n",
       "      <th>131</th>\n",
       "      <td>CJT_GESAMTTYP</td>\n",
       "      <td>0</td>\n",
       "    </tr>\n",
       "    <tr>\n",
       "      <th>391</th>\n",
       "      <td>D19_KK_KUNDENTYP</td>\n",
       "      <td>-1</td>\n",
       "    </tr>\n",
       "  </tbody>\n",
       "</table>\n",
       "</div>"
      ],
      "text/plain": [
       "                Attribute  Value\n",
       "0                AGER_TYP     -1\n",
       "5    ALTERSKATEGORIE_GROB  -1, 0\n",
       "11               ALTER_HH      0\n",
       "33              ANREDE_KZ  -1, 0\n",
       "40               BALLRAUM     -1\n",
       "48               BIP_FLAG     -1\n",
       "51        CAMEO_DEUG_2015     -1\n",
       "105    CAMEO_DEUINTL_2015     -1\n",
       "131         CJT_GESAMTTYP      0\n",
       "391      D19_KK_KUNDENTYP     -1"
      ]
     },
     "execution_count": 20,
     "metadata": {},
     "output_type": "execute_result"
    }
   ],
   "source": [
    "dias_atrr_val = dias_df[['Attribute','Value']]\n",
    "dias_atrr_val.head(10)"
   ]
  },
  {
   "cell_type": "code",
   "execution_count": 21,
   "metadata": {},
   "outputs": [],
   "source": [
    "dias_atrr_val = pd.DataFrame(dias_atrr_val)"
   ]
  },
  {
   "cell_type": "code",
   "execution_count": 22,
   "metadata": {},
   "outputs": [
    {
     "data": {
      "text/plain": [
       "array([-1, '-1, 0', 0, '-1, 9', '-1'], dtype=object)"
      ]
     },
     "execution_count": 22,
     "metadata": {},
     "output_type": "execute_result"
    }
   ],
   "source": [
    "dias_atrr_val.Value.unique()"
   ]
  },
  {
   "cell_type": "code",
   "execution_count": 23,
   "metadata": {
    "scrolled": true
   },
   "outputs": [
    {
     "data": {
      "text/html": [
       "<div>\n",
       "<style scoped>\n",
       "    .dataframe tbody tr th:only-of-type {\n",
       "        vertical-align: middle;\n",
       "    }\n",
       "\n",
       "    .dataframe tbody tr th {\n",
       "        vertical-align: top;\n",
       "    }\n",
       "\n",
       "    .dataframe thead th {\n",
       "        text-align: right;\n",
       "    }\n",
       "</style>\n",
       "<table border=\"1\" class=\"dataframe\">\n",
       "  <thead>\n",
       "    <tr style=\"text-align: right;\">\n",
       "      <th></th>\n",
       "      <th>Attribute</th>\n",
       "      <th>Value</th>\n",
       "    </tr>\n",
       "  </thead>\n",
       "  <tbody>\n",
       "    <tr>\n",
       "      <th>2003</th>\n",
       "      <td>ORTSGR_KLS9</td>\n",
       "      <td>-1</td>\n",
       "    </tr>\n",
       "  </tbody>\n",
       "</table>\n",
       "</div>"
      ],
      "text/plain": [
       "        Attribute Value\n",
       "2003  ORTSGR_KLS9    -1"
      ]
     },
     "execution_count": 23,
     "metadata": {},
     "output_type": "execute_result"
    }
   ],
   "source": [
    "dias_atrr_val[dias_atrr_val['Value'] == '-1']"
   ]
  },
  {
   "cell_type": "code",
   "execution_count": 24,
   "metadata": {
    "scrolled": false
   },
   "outputs": [],
   "source": [
    "# replace string into integer\n",
    "dias_atrr_val['Value'] = dias_atrr_val['Value'].replace({'-1':-1})"
   ]
  },
  {
   "cell_type": "code",
   "execution_count": 25,
   "metadata": {},
   "outputs": [
    {
     "data": {
      "text/plain": [
       "array([-1, '-1, 0', 0, '-1, 9'], dtype=object)"
      ]
     },
     "execution_count": 25,
     "metadata": {},
     "output_type": "execute_result"
    }
   ],
   "source": [
    "dias_atrr_val.Value.unique()"
   ]
  },
  {
   "cell_type": "code",
   "execution_count": 26,
   "metadata": {
    "scrolled": true
   },
   "outputs": [
    {
     "data": {
      "text/html": [
       "<div>\n",
       "<style scoped>\n",
       "    .dataframe tbody tr th:only-of-type {\n",
       "        vertical-align: middle;\n",
       "    }\n",
       "\n",
       "    .dataframe tbody tr th {\n",
       "        vertical-align: top;\n",
       "    }\n",
       "\n",
       "    .dataframe thead th {\n",
       "        text-align: right;\n",
       "    }\n",
       "</style>\n",
       "<table border=\"1\" class=\"dataframe\">\n",
       "  <thead>\n",
       "    <tr style=\"text-align: right;\">\n",
       "      <th></th>\n",
       "      <th>Attribute</th>\n",
       "      <th>Value</th>\n",
       "      <th>Val2</th>\n",
       "      <th>Val3</th>\n",
       "    </tr>\n",
       "  </thead>\n",
       "  <tbody>\n",
       "    <tr>\n",
       "      <th>0</th>\n",
       "      <td>AGER_TYP</td>\n",
       "      <td>-1</td>\n",
       "      <td>NaN</td>\n",
       "      <td>NaN</td>\n",
       "    </tr>\n",
       "    <tr>\n",
       "      <th>5</th>\n",
       "      <td>ALTERSKATEGORIE_GROB</td>\n",
       "      <td>-1, 0</td>\n",
       "      <td>-1</td>\n",
       "      <td>0</td>\n",
       "    </tr>\n",
       "    <tr>\n",
       "      <th>11</th>\n",
       "      <td>ALTER_HH</td>\n",
       "      <td>0</td>\n",
       "      <td>NaN</td>\n",
       "      <td>NaN</td>\n",
       "    </tr>\n",
       "    <tr>\n",
       "      <th>33</th>\n",
       "      <td>ANREDE_KZ</td>\n",
       "      <td>-1, 0</td>\n",
       "      <td>-1</td>\n",
       "      <td>0</td>\n",
       "    </tr>\n",
       "    <tr>\n",
       "      <th>40</th>\n",
       "      <td>BALLRAUM</td>\n",
       "      <td>-1</td>\n",
       "      <td>NaN</td>\n",
       "      <td>NaN</td>\n",
       "    </tr>\n",
       "    <tr>\n",
       "      <th>...</th>\n",
       "      <td>...</td>\n",
       "      <td>...</td>\n",
       "      <td>...</td>\n",
       "      <td>...</td>\n",
       "    </tr>\n",
       "    <tr>\n",
       "      <th>2219</th>\n",
       "      <td>WOHNDAUER_2008</td>\n",
       "      <td>-1, 0</td>\n",
       "      <td>-1</td>\n",
       "      <td>0</td>\n",
       "    </tr>\n",
       "    <tr>\n",
       "      <th>2229</th>\n",
       "      <td>WOHNLAGE</td>\n",
       "      <td>-1</td>\n",
       "      <td>NaN</td>\n",
       "      <td>NaN</td>\n",
       "    </tr>\n",
       "    <tr>\n",
       "      <th>2238</th>\n",
       "      <td>WACHSTUMSGEBIET_NB</td>\n",
       "      <td>-1, 0</td>\n",
       "      <td>-1</td>\n",
       "      <td>0</td>\n",
       "    </tr>\n",
       "    <tr>\n",
       "      <th>2244</th>\n",
       "      <td>W_KEIT_KIND_HH</td>\n",
       "      <td>-1, 0</td>\n",
       "      <td>-1</td>\n",
       "      <td>0</td>\n",
       "    </tr>\n",
       "    <tr>\n",
       "      <th>2251</th>\n",
       "      <td>ZABEOTYP</td>\n",
       "      <td>-1, 9</td>\n",
       "      <td>-1</td>\n",
       "      <td>9</td>\n",
       "    </tr>\n",
       "  </tbody>\n",
       "</table>\n",
       "<p>233 rows × 4 columns</p>\n",
       "</div>"
      ],
      "text/plain": [
       "                 Attribute  Value Val2 Val3\n",
       "0                 AGER_TYP     -1  NaN  NaN\n",
       "5     ALTERSKATEGORIE_GROB  -1, 0   -1    0\n",
       "11                ALTER_HH      0  NaN  NaN\n",
       "33               ANREDE_KZ  -1, 0   -1    0\n",
       "40                BALLRAUM     -1  NaN  NaN\n",
       "...                    ...    ...  ...  ...\n",
       "2219        WOHNDAUER_2008  -1, 0   -1    0\n",
       "2229              WOHNLAGE     -1  NaN  NaN\n",
       "2238    WACHSTUMSGEBIET_NB  -1, 0   -1    0\n",
       "2244        W_KEIT_KIND_HH  -1, 0   -1    0\n",
       "2251              ZABEOTYP  -1, 9   -1    9\n",
       "\n",
       "[233 rows x 4 columns]"
      ]
     },
     "execution_count": 26,
     "metadata": {},
     "output_type": "execute_result"
    }
   ],
   "source": [
    "#split unknown values into seperate columns\n",
    "att = pd.concat([dias_atrr_val,dias_atrr_val['Value'].str.split(',', expand=True)],axis=1)\n",
    "att.columns = ['Attribute','Value','Val2','Val3']\n",
    "att"
   ]
  },
  {
   "cell_type": "code",
   "execution_count": 27,
   "metadata": {},
   "outputs": [
    {
     "data": {
      "text/plain": [
       "array([nan, '-1'], dtype=object)"
      ]
     },
     "execution_count": 27,
     "metadata": {},
     "output_type": "execute_result"
    }
   ],
   "source": [
    "att.Val2.unique()"
   ]
  },
  {
   "cell_type": "code",
   "execution_count": 28,
   "metadata": {},
   "outputs": [
    {
     "data": {
      "text/plain": [
       "array([nan, ' 0', ' 9'], dtype=object)"
      ]
     },
     "execution_count": 28,
     "metadata": {},
     "output_type": "execute_result"
    }
   ],
   "source": [
    "att.Val3.unique()"
   ]
  },
  {
   "cell_type": "code",
   "execution_count": 29,
   "metadata": {},
   "outputs": [],
   "source": [
    "#change type for Val2 and Val3 into float\n",
    "att.Val3 = att.Val3.astype(float);\n",
    "att.Val2 = att.Val2.astype(float);"
   ]
  },
  {
   "cell_type": "code",
   "execution_count": 30,
   "metadata": {},
   "outputs": [
    {
     "data": {
      "text/plain": [
       "array([nan, -1.])"
      ]
     },
     "execution_count": 30,
     "metadata": {},
     "output_type": "execute_result"
    }
   ],
   "source": [
    "att.Val2.unique()"
   ]
  },
  {
   "cell_type": "code",
   "execution_count": 31,
   "metadata": {},
   "outputs": [
    {
     "data": {
      "text/plain": [
       "array([nan,  0.,  9.])"
      ]
     },
     "execution_count": 31,
     "metadata": {},
     "output_type": "execute_result"
    }
   ],
   "source": [
    "att.Val3.unique()"
   ]
  },
  {
   "cell_type": "code",
   "execution_count": 32,
   "metadata": {},
   "outputs": [
    {
     "data": {
      "text/plain": [
       "Attribute     object\n",
       "Value         object\n",
       "Val2         float64\n",
       "Val3         float64\n",
       "dtype: object"
      ]
     },
     "execution_count": 32,
     "metadata": {},
     "output_type": "execute_result"
    }
   ],
   "source": [
    "att.dtypes"
   ]
  },
  {
   "cell_type": "code",
   "execution_count": 33,
   "metadata": {
    "scrolled": true
   },
   "outputs": [],
   "source": [
    "att_tr = att.transpose()\n",
    "att_tr.columns = att_tr.iloc[0]"
   ]
  },
  {
   "cell_type": "code",
   "execution_count": 34,
   "metadata": {},
   "outputs": [],
   "source": [
    "att_tr.drop(index = att_tr.index[0],axis =0,inplace=True)"
   ]
  },
  {
   "cell_type": "code",
   "execution_count": 35,
   "metadata": {
    "scrolled": false
   },
   "outputs": [
    {
     "data": {
      "text/html": [
       "<div>\n",
       "<style scoped>\n",
       "    .dataframe tbody tr th:only-of-type {\n",
       "        vertical-align: middle;\n",
       "    }\n",
       "\n",
       "    .dataframe tbody tr th {\n",
       "        vertical-align: top;\n",
       "    }\n",
       "\n",
       "    .dataframe thead th {\n",
       "        text-align: right;\n",
       "    }\n",
       "</style>\n",
       "<table border=\"1\" class=\"dataframe\">\n",
       "  <thead>\n",
       "    <tr style=\"text-align: right;\">\n",
       "      <th>Attribute</th>\n",
       "      <th>AGER_TYP</th>\n",
       "      <th>ALTERSKATEGORIE_GROB</th>\n",
       "      <th>ALTER_HH</th>\n",
       "      <th>ANREDE_KZ</th>\n",
       "      <th>BALLRAUM</th>\n",
       "      <th>BIP_FLAG</th>\n",
       "      <th>CAMEO_DEUG_2015</th>\n",
       "      <th>CAMEO_DEUINTL_2015</th>\n",
       "      <th>CJT_GESAMTTYP</th>\n",
       "      <th>D19_KK_KUNDENTYP</th>\n",
       "      <th>...</th>\n",
       "      <th>SEMIO_VERT</th>\n",
       "      <th>SHOPPER_TYP</th>\n",
       "      <th>SOHO_FLAG</th>\n",
       "      <th>TITEL_KZ</th>\n",
       "      <th>VERS_TYP</th>\n",
       "      <th>WOHNDAUER_2008</th>\n",
       "      <th>WOHNLAGE</th>\n",
       "      <th>WACHSTUMSGEBIET_NB</th>\n",
       "      <th>W_KEIT_KIND_HH</th>\n",
       "      <th>ZABEOTYP</th>\n",
       "    </tr>\n",
       "  </thead>\n",
       "  <tbody>\n",
       "    <tr>\n",
       "      <th>Value</th>\n",
       "      <td>-1</td>\n",
       "      <td>-1, 0</td>\n",
       "      <td>0</td>\n",
       "      <td>-1, 0</td>\n",
       "      <td>-1</td>\n",
       "      <td>-1</td>\n",
       "      <td>-1</td>\n",
       "      <td>-1</td>\n",
       "      <td>0</td>\n",
       "      <td>-1</td>\n",
       "      <td>...</td>\n",
       "      <td>-1, 9</td>\n",
       "      <td>-1</td>\n",
       "      <td>-1</td>\n",
       "      <td>-1, 0</td>\n",
       "      <td>-1</td>\n",
       "      <td>-1, 0</td>\n",
       "      <td>-1</td>\n",
       "      <td>-1, 0</td>\n",
       "      <td>-1, 0</td>\n",
       "      <td>-1, 9</td>\n",
       "    </tr>\n",
       "    <tr>\n",
       "      <th>Val2</th>\n",
       "      <td>NaN</td>\n",
       "      <td>-1.0</td>\n",
       "      <td>NaN</td>\n",
       "      <td>-1.0</td>\n",
       "      <td>NaN</td>\n",
       "      <td>NaN</td>\n",
       "      <td>NaN</td>\n",
       "      <td>NaN</td>\n",
       "      <td>NaN</td>\n",
       "      <td>NaN</td>\n",
       "      <td>...</td>\n",
       "      <td>-1.0</td>\n",
       "      <td>NaN</td>\n",
       "      <td>NaN</td>\n",
       "      <td>-1.0</td>\n",
       "      <td>NaN</td>\n",
       "      <td>-1.0</td>\n",
       "      <td>NaN</td>\n",
       "      <td>-1.0</td>\n",
       "      <td>-1.0</td>\n",
       "      <td>-1.0</td>\n",
       "    </tr>\n",
       "    <tr>\n",
       "      <th>Val3</th>\n",
       "      <td>NaN</td>\n",
       "      <td>0.0</td>\n",
       "      <td>NaN</td>\n",
       "      <td>0.0</td>\n",
       "      <td>NaN</td>\n",
       "      <td>NaN</td>\n",
       "      <td>NaN</td>\n",
       "      <td>NaN</td>\n",
       "      <td>NaN</td>\n",
       "      <td>NaN</td>\n",
       "      <td>...</td>\n",
       "      <td>9.0</td>\n",
       "      <td>NaN</td>\n",
       "      <td>NaN</td>\n",
       "      <td>0.0</td>\n",
       "      <td>NaN</td>\n",
       "      <td>0.0</td>\n",
       "      <td>NaN</td>\n",
       "      <td>0.0</td>\n",
       "      <td>0.0</td>\n",
       "      <td>9.0</td>\n",
       "    </tr>\n",
       "  </tbody>\n",
       "</table>\n",
       "<p>3 rows × 233 columns</p>\n",
       "</div>"
      ],
      "text/plain": [
       "Attribute AGER_TYP ALTERSKATEGORIE_GROB ALTER_HH ANREDE_KZ BALLRAUM BIP_FLAG  \\\n",
       "Value           -1                -1, 0        0     -1, 0       -1       -1   \n",
       "Val2           NaN                 -1.0      NaN      -1.0      NaN      NaN   \n",
       "Val3           NaN                  0.0      NaN       0.0      NaN      NaN   \n",
       "\n",
       "Attribute CAMEO_DEUG_2015 CAMEO_DEUINTL_2015 CJT_GESAMTTYP D19_KK_KUNDENTYP  \\\n",
       "Value                  -1                 -1             0               -1   \n",
       "Val2                  NaN                NaN           NaN              NaN   \n",
       "Val3                  NaN                NaN           NaN              NaN   \n",
       "\n",
       "Attribute  ... SEMIO_VERT SHOPPER_TYP SOHO_FLAG TITEL_KZ VERS_TYP  \\\n",
       "Value      ...      -1, 9          -1        -1    -1, 0       -1   \n",
       "Val2       ...       -1.0         NaN       NaN     -1.0      NaN   \n",
       "Val3       ...        9.0         NaN       NaN      0.0      NaN   \n",
       "\n",
       "Attribute WOHNDAUER_2008 WOHNLAGE WACHSTUMSGEBIET_NB W_KEIT_KIND_HH ZABEOTYP  \n",
       "Value              -1, 0       -1              -1, 0          -1, 0    -1, 9  \n",
       "Val2                -1.0      NaN               -1.0           -1.0     -1.0  \n",
       "Val3                 0.0      NaN                0.0            0.0      9.0  \n",
       "\n",
       "[3 rows x 233 columns]"
      ]
     },
     "execution_count": 35,
     "metadata": {},
     "output_type": "execute_result"
    }
   ],
   "source": [
    "att_tr"
   ]
  },
  {
   "cell_type": "code",
   "execution_count": 36,
   "metadata": {},
   "outputs": [],
   "source": [
    "def add_missing_values(df, unknown_df):\n",
    "    '''\n",
    "    function finds unknown values and replaces them with null values\n",
    "    INPUT: df - dataframe where we replace unknown values with nulls\n",
    "           unknown_df = dataframe with attributes and values for particular attribute -\n",
    "           the value indicates that this is unknown and should be replace with null\n",
    "           \n",
    "    '''\n",
    "    for attribute in unknown_df:\n",
    "        if attribute in df:\n",
    "            for nan_val in unknown_df[attribute]:\n",
    "                df[attribute].replace(nan_val, np.nan, inplace=True)\n",
    "                \n"
   ]
  },
  {
   "cell_type": "code",
   "execution_count": 39,
   "metadata": {},
   "outputs": [],
   "source": [
    "# additionally we replce uniformly distributed values with nulls for ALTERSKATEGORIE_GROB                \n",
    "azdias['ALTERSKATEGORIE_GROB'].replace(9, np.nan, inplace=True) "
   ]
  },
  {
   "cell_type": "code",
   "execution_count": 40,
   "metadata": {},
   "outputs": [],
   "source": [
    "# apply add_missing_values to azdias dataset\n",
    "add_missing_values(azdias,att_tr)"
   ]
  },
  {
   "cell_type": "code",
   "execution_count": 39,
   "metadata": {},
   "outputs": [],
   "source": [
    "# apply add_missing_values to customers dataset\n",
    "add_missing_values(customers,att_tr)"
   ]
  },
  {
   "cell_type": "code",
   "execution_count": 40,
   "metadata": {},
   "outputs": [],
   "source": [
    "# replace 9 with nulls for 'ALTERSKATEGORIE_GROB' in customers data set\n",
    "customers['ALTERSKATEGORIE_GROB'].replace(9, np.nan, inplace=True) "
   ]
  },
  {
   "cell_type": "code",
   "execution_count": 41,
   "metadata": {},
   "outputs": [],
   "source": [
    "# check percentage of nulls in azdias\n",
    "azdias_percent_nulls = percent_nulls(azdias)"
   ]
  },
  {
   "cell_type": "code",
   "execution_count": 42,
   "metadata": {},
   "outputs": [
    {
     "data": {
      "text/html": [
       "<div>\n",
       "<style scoped>\n",
       "    .dataframe tbody tr th:only-of-type {\n",
       "        vertical-align: middle;\n",
       "    }\n",
       "\n",
       "    .dataframe tbody tr th {\n",
       "        vertical-align: top;\n",
       "    }\n",
       "\n",
       "    .dataframe thead th {\n",
       "        text-align: right;\n",
       "    }\n",
       "</style>\n",
       "<table border=\"1\" class=\"dataframe\">\n",
       "  <thead>\n",
       "    <tr style=\"text-align: right;\">\n",
       "      <th></th>\n",
       "      <th>col_name</th>\n",
       "      <th>percent_nulls</th>\n",
       "    </tr>\n",
       "  </thead>\n",
       "  <tbody>\n",
       "    <tr>\n",
       "      <th>D19_KONSUMTYP</th>\n",
       "      <td>D19_KONSUMTYP</td>\n",
       "      <td>28.849522</td>\n",
       "    </tr>\n",
       "    <tr>\n",
       "      <th>D19_VERSI_ONLINE_QUOTE_12</th>\n",
       "      <td>D19_VERSI_ONLINE_QUOTE_12</td>\n",
       "      <td>28.849522</td>\n",
       "    </tr>\n",
       "    <tr>\n",
       "      <th>D19_VERSAND_ONLINE_QUOTE_12</th>\n",
       "      <td>D19_VERSAND_ONLINE_QUOTE_12</td>\n",
       "      <td>28.849522</td>\n",
       "    </tr>\n",
       "    <tr>\n",
       "      <th>D19_BANKEN_ONLINE_QUOTE_12</th>\n",
       "      <td>D19_BANKEN_ONLINE_QUOTE_12</td>\n",
       "      <td>28.849522</td>\n",
       "    </tr>\n",
       "    <tr>\n",
       "      <th>D19_GESAMT_ONLINE_QUOTE_12</th>\n",
       "      <td>D19_GESAMT_ONLINE_QUOTE_12</td>\n",
       "      <td>28.849522</td>\n",
       "    </tr>\n",
       "    <tr>\n",
       "      <th>D19_LETZTER_KAUF_BRANCHE</th>\n",
       "      <td>D19_LETZTER_KAUF_BRANCHE</td>\n",
       "      <td>28.849522</td>\n",
       "    </tr>\n",
       "    <tr>\n",
       "      <th>D19_LOTTO</th>\n",
       "      <td>D19_LOTTO</td>\n",
       "      <td>28.849522</td>\n",
       "    </tr>\n",
       "    <tr>\n",
       "      <th>D19_SOZIALES</th>\n",
       "      <td>D19_SOZIALES</td>\n",
       "      <td>28.849522</td>\n",
       "    </tr>\n",
       "    <tr>\n",
       "      <th>D19_TELKO_ONLINE_QUOTE_12</th>\n",
       "      <td>D19_TELKO_ONLINE_QUOTE_12</td>\n",
       "      <td>28.849522</td>\n",
       "    </tr>\n",
       "    <tr>\n",
       "      <th>ALTERSKATEGORIE_FEIN</th>\n",
       "      <td>ALTERSKATEGORIE_FEIN</td>\n",
       "      <td>29.504130</td>\n",
       "    </tr>\n",
       "    <tr>\n",
       "      <th>ALTER_HH</th>\n",
       "      <td>ALTER_HH</td>\n",
       "      <td>34.813699</td>\n",
       "    </tr>\n",
       "    <tr>\n",
       "      <th>KBA05_BAUMAX</th>\n",
       "      <td>KBA05_BAUMAX</td>\n",
       "      <td>53.468668</td>\n",
       "    </tr>\n",
       "    <tr>\n",
       "      <th>KK_KUNDENTYP</th>\n",
       "      <td>KK_KUNDENTYP</td>\n",
       "      <td>65.596749</td>\n",
       "    </tr>\n",
       "    <tr>\n",
       "      <th>EXTSEL992</th>\n",
       "      <td>EXTSEL992</td>\n",
       "      <td>73.399639</td>\n",
       "    </tr>\n",
       "    <tr>\n",
       "      <th>AGER_TYP</th>\n",
       "      <td>AGER_TYP</td>\n",
       "      <td>76.019640</td>\n",
       "    </tr>\n",
       "    <tr>\n",
       "      <th>ALTER_KIND1</th>\n",
       "      <td>ALTER_KIND1</td>\n",
       "      <td>90.904837</td>\n",
       "    </tr>\n",
       "    <tr>\n",
       "      <th>ALTER_KIND2</th>\n",
       "      <td>ALTER_KIND2</td>\n",
       "      <td>96.690047</td>\n",
       "    </tr>\n",
       "    <tr>\n",
       "      <th>ALTER_KIND3</th>\n",
       "      <td>ALTER_KIND3</td>\n",
       "      <td>99.307691</td>\n",
       "    </tr>\n",
       "    <tr>\n",
       "      <th>TITEL_KZ</th>\n",
       "      <td>TITEL_KZ</td>\n",
       "      <td>99.757636</td>\n",
       "    </tr>\n",
       "    <tr>\n",
       "      <th>ALTER_KIND4</th>\n",
       "      <td>ALTER_KIND4</td>\n",
       "      <td>99.864792</td>\n",
       "    </tr>\n",
       "  </tbody>\n",
       "</table>\n",
       "</div>"
      ],
      "text/plain": [
       "                                                col_name  percent_nulls\n",
       "D19_KONSUMTYP                              D19_KONSUMTYP      28.849522\n",
       "D19_VERSI_ONLINE_QUOTE_12      D19_VERSI_ONLINE_QUOTE_12      28.849522\n",
       "D19_VERSAND_ONLINE_QUOTE_12  D19_VERSAND_ONLINE_QUOTE_12      28.849522\n",
       "D19_BANKEN_ONLINE_QUOTE_12    D19_BANKEN_ONLINE_QUOTE_12      28.849522\n",
       "D19_GESAMT_ONLINE_QUOTE_12    D19_GESAMT_ONLINE_QUOTE_12      28.849522\n",
       "D19_LETZTER_KAUF_BRANCHE        D19_LETZTER_KAUF_BRANCHE      28.849522\n",
       "D19_LOTTO                                      D19_LOTTO      28.849522\n",
       "D19_SOZIALES                                D19_SOZIALES      28.849522\n",
       "D19_TELKO_ONLINE_QUOTE_12      D19_TELKO_ONLINE_QUOTE_12      28.849522\n",
       "ALTERSKATEGORIE_FEIN                ALTERSKATEGORIE_FEIN      29.504130\n",
       "ALTER_HH                                        ALTER_HH      34.813699\n",
       "KBA05_BAUMAX                                KBA05_BAUMAX      53.468668\n",
       "KK_KUNDENTYP                                KK_KUNDENTYP      65.596749\n",
       "EXTSEL992                                      EXTSEL992      73.399639\n",
       "AGER_TYP                                        AGER_TYP      76.019640\n",
       "ALTER_KIND1                                  ALTER_KIND1      90.904837\n",
       "ALTER_KIND2                                  ALTER_KIND2      96.690047\n",
       "ALTER_KIND3                                  ALTER_KIND3      99.307691\n",
       "TITEL_KZ                                        TITEL_KZ      99.757636\n",
       "ALTER_KIND4                                  ALTER_KIND4      99.864792"
      ]
     },
     "execution_count": 42,
     "metadata": {},
     "output_type": "execute_result"
    }
   ],
   "source": [
    "azdias_percent_nulls[azdias_percent_nulls.percent_nulls >= 27].sort_values('percent_nulls')"
   ]
  },
  {
   "cell_type": "code",
   "execution_count": 43,
   "metadata": {},
   "outputs": [
    {
     "data": {
      "text/plain": [
       "{'AGER_TYP',\n",
       " 'ALTER_HH',\n",
       " 'ALTER_KIND1',\n",
       " 'ALTER_KIND2',\n",
       " 'ALTER_KIND3',\n",
       " 'ALTER_KIND4',\n",
       " 'EXTSEL992',\n",
       " 'KBA05_BAUMAX',\n",
       " 'KK_KUNDENTYP',\n",
       " 'TITEL_KZ'}"
      ]
     },
     "execution_count": 43,
     "metadata": {},
     "output_type": "execute_result"
    }
   ],
   "source": [
    "# display features having 30% or more null values\n",
    "col_nul_az = set(azdias_percent_nulls[azdias_percent_nulls.percent_nulls >= 30].sort_values('percent_nulls')['col_name'])\n",
    "col_nul_az"
   ]
  },
  {
   "cell_type": "code",
   "execution_count": 44,
   "metadata": {},
   "outputs": [
    {
     "data": {
      "text/html": [
       "<div>\n",
       "<style scoped>\n",
       "    .dataframe tbody tr th:only-of-type {\n",
       "        vertical-align: middle;\n",
       "    }\n",
       "\n",
       "    .dataframe tbody tr th {\n",
       "        vertical-align: top;\n",
       "    }\n",
       "\n",
       "    .dataframe thead th {\n",
       "        text-align: right;\n",
       "    }\n",
       "</style>\n",
       "<table border=\"1\" class=\"dataframe\">\n",
       "  <thead>\n",
       "    <tr style=\"text-align: right;\">\n",
       "      <th></th>\n",
       "      <th>col_name</th>\n",
       "      <th>percent_nulls</th>\n",
       "    </tr>\n",
       "  </thead>\n",
       "  <tbody>\n",
       "    <tr>\n",
       "      <th>ALTER_KIND4</th>\n",
       "      <td>ALTER_KIND4</td>\n",
       "      <td>99.864792</td>\n",
       "    </tr>\n",
       "    <tr>\n",
       "      <th>TITEL_KZ</th>\n",
       "      <td>TITEL_KZ</td>\n",
       "      <td>99.757636</td>\n",
       "    </tr>\n",
       "    <tr>\n",
       "      <th>ALTER_KIND3</th>\n",
       "      <td>ALTER_KIND3</td>\n",
       "      <td>99.307691</td>\n",
       "    </tr>\n",
       "    <tr>\n",
       "      <th>ALTER_KIND2</th>\n",
       "      <td>ALTER_KIND2</td>\n",
       "      <td>96.690047</td>\n",
       "    </tr>\n",
       "    <tr>\n",
       "      <th>ALTER_KIND1</th>\n",
       "      <td>ALTER_KIND1</td>\n",
       "      <td>90.904837</td>\n",
       "    </tr>\n",
       "    <tr>\n",
       "      <th>AGER_TYP</th>\n",
       "      <td>AGER_TYP</td>\n",
       "      <td>76.019640</td>\n",
       "    </tr>\n",
       "    <tr>\n",
       "      <th>EXTSEL992</th>\n",
       "      <td>EXTSEL992</td>\n",
       "      <td>73.399639</td>\n",
       "    </tr>\n",
       "    <tr>\n",
       "      <th>KK_KUNDENTYP</th>\n",
       "      <td>KK_KUNDENTYP</td>\n",
       "      <td>65.596749</td>\n",
       "    </tr>\n",
       "    <tr>\n",
       "      <th>KBA05_BAUMAX</th>\n",
       "      <td>KBA05_BAUMAX</td>\n",
       "      <td>53.468668</td>\n",
       "    </tr>\n",
       "    <tr>\n",
       "      <th>ALTER_HH</th>\n",
       "      <td>ALTER_HH</td>\n",
       "      <td>34.813699</td>\n",
       "    </tr>\n",
       "    <tr>\n",
       "      <th>ALTERSKATEGORIE_FEIN</th>\n",
       "      <td>ALTERSKATEGORIE_FEIN</td>\n",
       "      <td>29.504130</td>\n",
       "    </tr>\n",
       "    <tr>\n",
       "      <th>D19_LETZTER_KAUF_BRANCHE</th>\n",
       "      <td>D19_LETZTER_KAUF_BRANCHE</td>\n",
       "      <td>28.849522</td>\n",
       "    </tr>\n",
       "    <tr>\n",
       "      <th>D19_BANKEN_ONLINE_QUOTE_12</th>\n",
       "      <td>D19_BANKEN_ONLINE_QUOTE_12</td>\n",
       "      <td>28.849522</td>\n",
       "    </tr>\n",
       "    <tr>\n",
       "      <th>D19_KONSUMTYP</th>\n",
       "      <td>D19_KONSUMTYP</td>\n",
       "      <td>28.849522</td>\n",
       "    </tr>\n",
       "    <tr>\n",
       "      <th>D19_GESAMT_ONLINE_QUOTE_12</th>\n",
       "      <td>D19_GESAMT_ONLINE_QUOTE_12</td>\n",
       "      <td>28.849522</td>\n",
       "    </tr>\n",
       "    <tr>\n",
       "      <th>D19_VERSAND_ONLINE_QUOTE_12</th>\n",
       "      <td>D19_VERSAND_ONLINE_QUOTE_12</td>\n",
       "      <td>28.849522</td>\n",
       "    </tr>\n",
       "    <tr>\n",
       "      <th>D19_TELKO_ONLINE_QUOTE_12</th>\n",
       "      <td>D19_TELKO_ONLINE_QUOTE_12</td>\n",
       "      <td>28.849522</td>\n",
       "    </tr>\n",
       "    <tr>\n",
       "      <th>D19_SOZIALES</th>\n",
       "      <td>D19_SOZIALES</td>\n",
       "      <td>28.849522</td>\n",
       "    </tr>\n",
       "    <tr>\n",
       "      <th>D19_VERSI_ONLINE_QUOTE_12</th>\n",
       "      <td>D19_VERSI_ONLINE_QUOTE_12</td>\n",
       "      <td>28.849522</td>\n",
       "    </tr>\n",
       "    <tr>\n",
       "      <th>D19_LOTTO</th>\n",
       "      <td>D19_LOTTO</td>\n",
       "      <td>28.849522</td>\n",
       "    </tr>\n",
       "    <tr>\n",
       "      <th>REGIOTYP</th>\n",
       "      <td>REGIOTYP</td>\n",
       "      <td>17.735668</td>\n",
       "    </tr>\n",
       "    <tr>\n",
       "      <th>KKK</th>\n",
       "      <td>KKK</td>\n",
       "      <td>17.735668</td>\n",
       "    </tr>\n",
       "    <tr>\n",
       "      <th>KBA05_CCM2</th>\n",
       "      <td>KBA05_CCM2</td>\n",
       "      <td>16.618774</td>\n",
       "    </tr>\n",
       "    <tr>\n",
       "      <th>KBA05_CCM3</th>\n",
       "      <td>KBA05_CCM3</td>\n",
       "      <td>16.618774</td>\n",
       "    </tr>\n",
       "    <tr>\n",
       "      <th>KBA05_KRSKLEIN</th>\n",
       "      <td>KBA05_KRSKLEIN</td>\n",
       "      <td>16.618774</td>\n",
       "    </tr>\n",
       "    <tr>\n",
       "      <th>KBA05_KRSHERST3</th>\n",
       "      <td>KBA05_KRSHERST3</td>\n",
       "      <td>16.618774</td>\n",
       "    </tr>\n",
       "    <tr>\n",
       "      <th>KBA05_KRSHERST2</th>\n",
       "      <td>KBA05_KRSHERST2</td>\n",
       "      <td>16.618774</td>\n",
       "    </tr>\n",
       "    <tr>\n",
       "      <th>KBA05_ALTER1</th>\n",
       "      <td>KBA05_ALTER1</td>\n",
       "      <td>16.618774</td>\n",
       "    </tr>\n",
       "    <tr>\n",
       "      <th>KBA05_ALTER2</th>\n",
       "      <td>KBA05_ALTER2</td>\n",
       "      <td>16.618774</td>\n",
       "    </tr>\n",
       "    <tr>\n",
       "      <th>KBA05_KRSHERST1</th>\n",
       "      <td>KBA05_KRSHERST1</td>\n",
       "      <td>16.618774</td>\n",
       "    </tr>\n",
       "    <tr>\n",
       "      <th>...</th>\n",
       "      <td>...</td>\n",
       "      <td>...</td>\n",
       "    </tr>\n",
       "    <tr>\n",
       "      <th>D19_WEIN_FEINKOST</th>\n",
       "      <td>D19_WEIN_FEINKOST</td>\n",
       "      <td>0.000000</td>\n",
       "    </tr>\n",
       "    <tr>\n",
       "      <th>FINANZ_ANLEGER</th>\n",
       "      <td>FINANZ_ANLEGER</td>\n",
       "      <td>0.000000</td>\n",
       "    </tr>\n",
       "    <tr>\n",
       "      <th>FINANZ_HAUSBAUER</th>\n",
       "      <td>FINANZ_HAUSBAUER</td>\n",
       "      <td>0.000000</td>\n",
       "    </tr>\n",
       "    <tr>\n",
       "      <th>FINANZ_MINIMALIST</th>\n",
       "      <td>FINANZ_MINIMALIST</td>\n",
       "      <td>0.000000</td>\n",
       "    </tr>\n",
       "    <tr>\n",
       "      <th>FINANZ_SPARER</th>\n",
       "      <td>FINANZ_SPARER</td>\n",
       "      <td>0.000000</td>\n",
       "    </tr>\n",
       "    <tr>\n",
       "      <th>FINANZ_UNAUFFAELLIGER</th>\n",
       "      <td>FINANZ_UNAUFFAELLIGER</td>\n",
       "      <td>0.000000</td>\n",
       "    </tr>\n",
       "    <tr>\n",
       "      <th>FINANZ_VORSORGER</th>\n",
       "      <td>FINANZ_VORSORGER</td>\n",
       "      <td>0.000000</td>\n",
       "    </tr>\n",
       "    <tr>\n",
       "      <th>FINANZTYP</th>\n",
       "      <td>FINANZTYP</td>\n",
       "      <td>0.000000</td>\n",
       "    </tr>\n",
       "    <tr>\n",
       "      <th>D19_VERSAND_DATUM</th>\n",
       "      <td>D19_VERSAND_DATUM</td>\n",
       "      <td>0.000000</td>\n",
       "    </tr>\n",
       "    <tr>\n",
       "      <th>D19_VERSAND_ANZ_24</th>\n",
       "      <td>D19_VERSAND_ANZ_24</td>\n",
       "      <td>0.000000</td>\n",
       "    </tr>\n",
       "    <tr>\n",
       "      <th>KOMBIALTER</th>\n",
       "      <td>KOMBIALTER</td>\n",
       "      <td>0.000000</td>\n",
       "    </tr>\n",
       "    <tr>\n",
       "      <th>D19_VERSAND_ANZ_12</th>\n",
       "      <td>D19_VERSAND_ANZ_12</td>\n",
       "      <td>0.000000</td>\n",
       "    </tr>\n",
       "    <tr>\n",
       "      <th>D19_KOSMETIK</th>\n",
       "      <td>D19_KOSMETIK</td>\n",
       "      <td>0.000000</td>\n",
       "    </tr>\n",
       "    <tr>\n",
       "      <th>D19_LEBENSMITTEL</th>\n",
       "      <td>D19_LEBENSMITTEL</td>\n",
       "      <td>0.000000</td>\n",
       "    </tr>\n",
       "    <tr>\n",
       "      <th>D19_NAHRUNGSERGAENZUNG</th>\n",
       "      <td>D19_NAHRUNGSERGAENZUNG</td>\n",
       "      <td>0.000000</td>\n",
       "    </tr>\n",
       "    <tr>\n",
       "      <th>D19_RATGEBER</th>\n",
       "      <td>D19_RATGEBER</td>\n",
       "      <td>0.000000</td>\n",
       "    </tr>\n",
       "    <tr>\n",
       "      <th>D19_REISEN</th>\n",
       "      <td>D19_REISEN</td>\n",
       "      <td>0.000000</td>\n",
       "    </tr>\n",
       "    <tr>\n",
       "      <th>D19_SAMMELARTIKEL</th>\n",
       "      <td>D19_SAMMELARTIKEL</td>\n",
       "      <td>0.000000</td>\n",
       "    </tr>\n",
       "    <tr>\n",
       "      <th>D19_SCHUHE</th>\n",
       "      <td>D19_SCHUHE</td>\n",
       "      <td>0.000000</td>\n",
       "    </tr>\n",
       "    <tr>\n",
       "      <th>D19_SONSTIGE</th>\n",
       "      <td>D19_SONSTIGE</td>\n",
       "      <td>0.000000</td>\n",
       "    </tr>\n",
       "    <tr>\n",
       "      <th>D19_TECHNIK</th>\n",
       "      <td>D19_TECHNIK</td>\n",
       "      <td>0.000000</td>\n",
       "    </tr>\n",
       "    <tr>\n",
       "      <th>D19_TELKO_ANZ_12</th>\n",
       "      <td>D19_TELKO_ANZ_12</td>\n",
       "      <td>0.000000</td>\n",
       "    </tr>\n",
       "    <tr>\n",
       "      <th>D19_TELKO_ANZ_24</th>\n",
       "      <td>D19_TELKO_ANZ_24</td>\n",
       "      <td>0.000000</td>\n",
       "    </tr>\n",
       "    <tr>\n",
       "      <th>D19_TELKO_DATUM</th>\n",
       "      <td>D19_TELKO_DATUM</td>\n",
       "      <td>0.000000</td>\n",
       "    </tr>\n",
       "    <tr>\n",
       "      <th>D19_TELKO_MOBILE</th>\n",
       "      <td>D19_TELKO_MOBILE</td>\n",
       "      <td>0.000000</td>\n",
       "    </tr>\n",
       "    <tr>\n",
       "      <th>D19_TELKO_OFFLINE_DATUM</th>\n",
       "      <td>D19_TELKO_OFFLINE_DATUM</td>\n",
       "      <td>0.000000</td>\n",
       "    </tr>\n",
       "    <tr>\n",
       "      <th>D19_TELKO_ONLINE_DATUM</th>\n",
       "      <td>D19_TELKO_ONLINE_DATUM</td>\n",
       "      <td>0.000000</td>\n",
       "    </tr>\n",
       "    <tr>\n",
       "      <th>D19_TELKO_REST</th>\n",
       "      <td>D19_TELKO_REST</td>\n",
       "      <td>0.000000</td>\n",
       "    </tr>\n",
       "    <tr>\n",
       "      <th>D19_TIERARTIKEL</th>\n",
       "      <td>D19_TIERARTIKEL</td>\n",
       "      <td>0.000000</td>\n",
       "    </tr>\n",
       "    <tr>\n",
       "      <th>LNR</th>\n",
       "      <td>LNR</td>\n",
       "      <td>0.000000</td>\n",
       "    </tr>\n",
       "  </tbody>\n",
       "</table>\n",
       "<p>366 rows × 2 columns</p>\n",
       "</div>"
      ],
      "text/plain": [
       "                                                col_name  percent_nulls\n",
       "ALTER_KIND4                                  ALTER_KIND4      99.864792\n",
       "TITEL_KZ                                        TITEL_KZ      99.757636\n",
       "ALTER_KIND3                                  ALTER_KIND3      99.307691\n",
       "ALTER_KIND2                                  ALTER_KIND2      96.690047\n",
       "ALTER_KIND1                                  ALTER_KIND1      90.904837\n",
       "AGER_TYP                                        AGER_TYP      76.019640\n",
       "EXTSEL992                                      EXTSEL992      73.399639\n",
       "KK_KUNDENTYP                                KK_KUNDENTYP      65.596749\n",
       "KBA05_BAUMAX                                KBA05_BAUMAX      53.468668\n",
       "ALTER_HH                                        ALTER_HH      34.813699\n",
       "ALTERSKATEGORIE_FEIN                ALTERSKATEGORIE_FEIN      29.504130\n",
       "D19_LETZTER_KAUF_BRANCHE        D19_LETZTER_KAUF_BRANCHE      28.849522\n",
       "D19_BANKEN_ONLINE_QUOTE_12    D19_BANKEN_ONLINE_QUOTE_12      28.849522\n",
       "D19_KONSUMTYP                              D19_KONSUMTYP      28.849522\n",
       "D19_GESAMT_ONLINE_QUOTE_12    D19_GESAMT_ONLINE_QUOTE_12      28.849522\n",
       "D19_VERSAND_ONLINE_QUOTE_12  D19_VERSAND_ONLINE_QUOTE_12      28.849522\n",
       "D19_TELKO_ONLINE_QUOTE_12      D19_TELKO_ONLINE_QUOTE_12      28.849522\n",
       "D19_SOZIALES                                D19_SOZIALES      28.849522\n",
       "D19_VERSI_ONLINE_QUOTE_12      D19_VERSI_ONLINE_QUOTE_12      28.849522\n",
       "D19_LOTTO                                      D19_LOTTO      28.849522\n",
       "REGIOTYP                                        REGIOTYP      17.735668\n",
       "KKK                                                  KKK      17.735668\n",
       "KBA05_CCM2                                    KBA05_CCM2      16.618774\n",
       "KBA05_CCM3                                    KBA05_CCM3      16.618774\n",
       "KBA05_KRSKLEIN                            KBA05_KRSKLEIN      16.618774\n",
       "KBA05_KRSHERST3                          KBA05_KRSHERST3      16.618774\n",
       "KBA05_KRSHERST2                          KBA05_KRSHERST2      16.618774\n",
       "KBA05_ALTER1                                KBA05_ALTER1      16.618774\n",
       "KBA05_ALTER2                                KBA05_ALTER2      16.618774\n",
       "KBA05_KRSHERST1                          KBA05_KRSHERST1      16.618774\n",
       "...                                                  ...            ...\n",
       "D19_WEIN_FEINKOST                      D19_WEIN_FEINKOST       0.000000\n",
       "FINANZ_ANLEGER                            FINANZ_ANLEGER       0.000000\n",
       "FINANZ_HAUSBAUER                        FINANZ_HAUSBAUER       0.000000\n",
       "FINANZ_MINIMALIST                      FINANZ_MINIMALIST       0.000000\n",
       "FINANZ_SPARER                              FINANZ_SPARER       0.000000\n",
       "FINANZ_UNAUFFAELLIGER              FINANZ_UNAUFFAELLIGER       0.000000\n",
       "FINANZ_VORSORGER                        FINANZ_VORSORGER       0.000000\n",
       "FINANZTYP                                      FINANZTYP       0.000000\n",
       "D19_VERSAND_DATUM                      D19_VERSAND_DATUM       0.000000\n",
       "D19_VERSAND_ANZ_24                    D19_VERSAND_ANZ_24       0.000000\n",
       "KOMBIALTER                                    KOMBIALTER       0.000000\n",
       "D19_VERSAND_ANZ_12                    D19_VERSAND_ANZ_12       0.000000\n",
       "D19_KOSMETIK                                D19_KOSMETIK       0.000000\n",
       "D19_LEBENSMITTEL                        D19_LEBENSMITTEL       0.000000\n",
       "D19_NAHRUNGSERGAENZUNG            D19_NAHRUNGSERGAENZUNG       0.000000\n",
       "D19_RATGEBER                                D19_RATGEBER       0.000000\n",
       "D19_REISEN                                    D19_REISEN       0.000000\n",
       "D19_SAMMELARTIKEL                      D19_SAMMELARTIKEL       0.000000\n",
       "D19_SCHUHE                                    D19_SCHUHE       0.000000\n",
       "D19_SONSTIGE                                D19_SONSTIGE       0.000000\n",
       "D19_TECHNIK                                  D19_TECHNIK       0.000000\n",
       "D19_TELKO_ANZ_12                        D19_TELKO_ANZ_12       0.000000\n",
       "D19_TELKO_ANZ_24                        D19_TELKO_ANZ_24       0.000000\n",
       "D19_TELKO_DATUM                          D19_TELKO_DATUM       0.000000\n",
       "D19_TELKO_MOBILE                        D19_TELKO_MOBILE       0.000000\n",
       "D19_TELKO_OFFLINE_DATUM          D19_TELKO_OFFLINE_DATUM       0.000000\n",
       "D19_TELKO_ONLINE_DATUM            D19_TELKO_ONLINE_DATUM       0.000000\n",
       "D19_TELKO_REST                            D19_TELKO_REST       0.000000\n",
       "D19_TIERARTIKEL                          D19_TIERARTIKEL       0.000000\n",
       "LNR                                                  LNR       0.000000\n",
       "\n",
       "[366 rows x 2 columns]"
      ]
     },
     "execution_count": 44,
     "metadata": {},
     "output_type": "execute_result"
    }
   ],
   "source": [
    "azdias_percent_nulls.sort_values('percent_nulls', ascending=False)"
   ]
  },
  {
   "cell_type": "code",
   "execution_count": 45,
   "metadata": {},
   "outputs": [],
   "source": [
    "# check percentage of nulls in customers data set\n",
    "customers_percent_nulls = percent_nulls(customers)"
   ]
  },
  {
   "cell_type": "code",
   "execution_count": 46,
   "metadata": {},
   "outputs": [
    {
     "data": {
      "text/html": [
       "<div>\n",
       "<style scoped>\n",
       "    .dataframe tbody tr th:only-of-type {\n",
       "        vertical-align: middle;\n",
       "    }\n",
       "\n",
       "    .dataframe tbody tr th {\n",
       "        vertical-align: top;\n",
       "    }\n",
       "\n",
       "    .dataframe thead th {\n",
       "        text-align: right;\n",
       "    }\n",
       "</style>\n",
       "<table border=\"1\" class=\"dataframe\">\n",
       "  <thead>\n",
       "    <tr style=\"text-align: right;\">\n",
       "      <th></th>\n",
       "      <th>col_name</th>\n",
       "      <th>percent_nulls</th>\n",
       "    </tr>\n",
       "  </thead>\n",
       "  <tbody>\n",
       "    <tr>\n",
       "      <th>KKK</th>\n",
       "      <td>KKK</td>\n",
       "      <td>31.340137</td>\n",
       "    </tr>\n",
       "    <tr>\n",
       "      <th>REGIOTYP</th>\n",
       "      <td>REGIOTYP</td>\n",
       "      <td>31.340137</td>\n",
       "    </tr>\n",
       "    <tr>\n",
       "      <th>ALTER_HH</th>\n",
       "      <td>ALTER_HH</td>\n",
       "      <td>35.870745</td>\n",
       "    </tr>\n",
       "    <tr>\n",
       "      <th>EXTSEL992</th>\n",
       "      <td>EXTSEL992</td>\n",
       "      <td>44.498883</td>\n",
       "    </tr>\n",
       "    <tr>\n",
       "      <th>AGER_TYP</th>\n",
       "      <td>AGER_TYP</td>\n",
       "      <td>48.059504</td>\n",
       "    </tr>\n",
       "    <tr>\n",
       "      <th>KBA05_BAUMAX</th>\n",
       "      <td>KBA05_BAUMAX</td>\n",
       "      <td>57.153069</td>\n",
       "    </tr>\n",
       "    <tr>\n",
       "      <th>KK_KUNDENTYP</th>\n",
       "      <td>KK_KUNDENTYP</td>\n",
       "      <td>58.406382</td>\n",
       "    </tr>\n",
       "    <tr>\n",
       "      <th>ALTER_KIND1</th>\n",
       "      <td>ALTER_KIND1</td>\n",
       "      <td>93.860748</td>\n",
       "    </tr>\n",
       "    <tr>\n",
       "      <th>ALTER_KIND2</th>\n",
       "      <td>ALTER_KIND2</td>\n",
       "      <td>97.338927</td>\n",
       "    </tr>\n",
       "    <tr>\n",
       "      <th>TITEL_KZ</th>\n",
       "      <td>TITEL_KZ</td>\n",
       "      <td>98.793647</td>\n",
       "    </tr>\n",
       "    <tr>\n",
       "      <th>ALTER_KIND3</th>\n",
       "      <td>ALTER_KIND3</td>\n",
       "      <td>99.334732</td>\n",
       "    </tr>\n",
       "    <tr>\n",
       "      <th>ALTER_KIND4</th>\n",
       "      <td>ALTER_KIND4</td>\n",
       "      <td>99.876860</td>\n",
       "    </tr>\n",
       "  </tbody>\n",
       "</table>\n",
       "</div>"
      ],
      "text/plain": [
       "                  col_name  percent_nulls\n",
       "KKK                    KKK      31.340137\n",
       "REGIOTYP          REGIOTYP      31.340137\n",
       "ALTER_HH          ALTER_HH      35.870745\n",
       "EXTSEL992        EXTSEL992      44.498883\n",
       "AGER_TYP          AGER_TYP      48.059504\n",
       "KBA05_BAUMAX  KBA05_BAUMAX      57.153069\n",
       "KK_KUNDENTYP  KK_KUNDENTYP      58.406382\n",
       "ALTER_KIND1    ALTER_KIND1      93.860748\n",
       "ALTER_KIND2    ALTER_KIND2      97.338927\n",
       "TITEL_KZ          TITEL_KZ      98.793647\n",
       "ALTER_KIND3    ALTER_KIND3      99.334732\n",
       "ALTER_KIND4    ALTER_KIND4      99.876860"
      ]
     },
     "execution_count": 46,
     "metadata": {},
     "output_type": "execute_result"
    }
   ],
   "source": [
    "# display features having 30% or more null values in customers data set\n",
    "customers_percent_nulls[customers_percent_nulls.percent_nulls >= 30].sort_values('percent_nulls')"
   ]
  },
  {
   "cell_type": "code",
   "execution_count": 47,
   "metadata": {
    "scrolled": true
   },
   "outputs": [
    {
     "data": {
      "text/html": [
       "<div>\n",
       "<style scoped>\n",
       "    .dataframe tbody tr th:only-of-type {\n",
       "        vertical-align: middle;\n",
       "    }\n",
       "\n",
       "    .dataframe tbody tr th {\n",
       "        vertical-align: top;\n",
       "    }\n",
       "\n",
       "    .dataframe thead th {\n",
       "        text-align: right;\n",
       "    }\n",
       "</style>\n",
       "<table border=\"1\" class=\"dataframe\">\n",
       "  <thead>\n",
       "    <tr style=\"text-align: right;\">\n",
       "      <th></th>\n",
       "      <th>col_name</th>\n",
       "      <th>percent_nulls</th>\n",
       "    </tr>\n",
       "  </thead>\n",
       "  <tbody>\n",
       "    <tr>\n",
       "      <th>ALTER_KIND4</th>\n",
       "      <td>ALTER_KIND4</td>\n",
       "      <td>99.876860</td>\n",
       "    </tr>\n",
       "    <tr>\n",
       "      <th>ALTER_KIND3</th>\n",
       "      <td>ALTER_KIND3</td>\n",
       "      <td>99.334732</td>\n",
       "    </tr>\n",
       "    <tr>\n",
       "      <th>TITEL_KZ</th>\n",
       "      <td>TITEL_KZ</td>\n",
       "      <td>98.793647</td>\n",
       "    </tr>\n",
       "    <tr>\n",
       "      <th>ALTER_KIND2</th>\n",
       "      <td>ALTER_KIND2</td>\n",
       "      <td>97.338927</td>\n",
       "    </tr>\n",
       "    <tr>\n",
       "      <th>ALTER_KIND1</th>\n",
       "      <td>ALTER_KIND1</td>\n",
       "      <td>93.860748</td>\n",
       "    </tr>\n",
       "    <tr>\n",
       "      <th>KK_KUNDENTYP</th>\n",
       "      <td>KK_KUNDENTYP</td>\n",
       "      <td>58.406382</td>\n",
       "    </tr>\n",
       "    <tr>\n",
       "      <th>KBA05_BAUMAX</th>\n",
       "      <td>KBA05_BAUMAX</td>\n",
       "      <td>57.153069</td>\n",
       "    </tr>\n",
       "    <tr>\n",
       "      <th>AGER_TYP</th>\n",
       "      <td>AGER_TYP</td>\n",
       "      <td>48.059504</td>\n",
       "    </tr>\n",
       "    <tr>\n",
       "      <th>EXTSEL992</th>\n",
       "      <td>EXTSEL992</td>\n",
       "      <td>44.498883</td>\n",
       "    </tr>\n",
       "    <tr>\n",
       "      <th>ALTER_HH</th>\n",
       "      <td>ALTER_HH</td>\n",
       "      <td>35.870745</td>\n",
       "    </tr>\n",
       "    <tr>\n",
       "      <th>REGIOTYP</th>\n",
       "      <td>REGIOTYP</td>\n",
       "      <td>31.340137</td>\n",
       "    </tr>\n",
       "    <tr>\n",
       "      <th>KKK</th>\n",
       "      <td>KKK</td>\n",
       "      <td>31.340137</td>\n",
       "    </tr>\n",
       "    <tr>\n",
       "      <th>W_KEIT_KIND_HH</th>\n",
       "      <td>W_KEIT_KIND_HH</td>\n",
       "      <td>29.708534</td>\n",
       "    </tr>\n",
       "    <tr>\n",
       "      <th>KBA05_KRSOBER</th>\n",
       "      <td>KBA05_KRSOBER</td>\n",
       "      <td>29.696012</td>\n",
       "    </tr>\n",
       "    <tr>\n",
       "      <th>KBA05_HERST4</th>\n",
       "      <td>KBA05_HERST4</td>\n",
       "      <td>29.696012</td>\n",
       "    </tr>\n",
       "    <tr>\n",
       "      <th>KBA05_KRSVAN</th>\n",
       "      <td>KBA05_KRSVAN</td>\n",
       "      <td>29.696012</td>\n",
       "    </tr>\n",
       "    <tr>\n",
       "      <th>KBA05_KRSKLEIN</th>\n",
       "      <td>KBA05_KRSKLEIN</td>\n",
       "      <td>29.696012</td>\n",
       "    </tr>\n",
       "    <tr>\n",
       "      <th>KBA05_KRSHERST3</th>\n",
       "      <td>KBA05_KRSHERST3</td>\n",
       "      <td>29.696012</td>\n",
       "    </tr>\n",
       "    <tr>\n",
       "      <th>KBA05_KRSHERST2</th>\n",
       "      <td>KBA05_KRSHERST2</td>\n",
       "      <td>29.696012</td>\n",
       "    </tr>\n",
       "    <tr>\n",
       "      <th>KBA05_KRSHERST1</th>\n",
       "      <td>KBA05_KRSHERST1</td>\n",
       "      <td>29.696012</td>\n",
       "    </tr>\n",
       "    <tr>\n",
       "      <th>KBA05_KRSAQUOT</th>\n",
       "      <td>KBA05_KRSAQUOT</td>\n",
       "      <td>29.696012</td>\n",
       "    </tr>\n",
       "    <tr>\n",
       "      <th>KBA05_KRSZUL</th>\n",
       "      <td>KBA05_KRSZUL</td>\n",
       "      <td>29.696012</td>\n",
       "    </tr>\n",
       "    <tr>\n",
       "      <th>KBA05_HERST5</th>\n",
       "      <td>KBA05_HERST5</td>\n",
       "      <td>29.696012</td>\n",
       "    </tr>\n",
       "    <tr>\n",
       "      <th>KBA05_DIESEL</th>\n",
       "      <td>KBA05_DIESEL</td>\n",
       "      <td>29.696012</td>\n",
       "    </tr>\n",
       "    <tr>\n",
       "      <th>KBA05_HERST2</th>\n",
       "      <td>KBA05_HERST2</td>\n",
       "      <td>29.696012</td>\n",
       "    </tr>\n",
       "    <tr>\n",
       "      <th>KBA05_HERST1</th>\n",
       "      <td>KBA05_HERST1</td>\n",
       "      <td>29.696012</td>\n",
       "    </tr>\n",
       "    <tr>\n",
       "      <th>KBA05_FRAU</th>\n",
       "      <td>KBA05_FRAU</td>\n",
       "      <td>29.696012</td>\n",
       "    </tr>\n",
       "    <tr>\n",
       "      <th>KBA05_KW2</th>\n",
       "      <td>KBA05_KW2</td>\n",
       "      <td>29.696012</td>\n",
       "    </tr>\n",
       "    <tr>\n",
       "      <th>KBA05_CCM4</th>\n",
       "      <td>KBA05_CCM4</td>\n",
       "      <td>29.696012</td>\n",
       "    </tr>\n",
       "    <tr>\n",
       "      <th>KBA05_CCM3</th>\n",
       "      <td>KBA05_CCM3</td>\n",
       "      <td>29.696012</td>\n",
       "    </tr>\n",
       "    <tr>\n",
       "      <th>...</th>\n",
       "      <td>...</td>\n",
       "      <td>...</td>\n",
       "    </tr>\n",
       "    <tr>\n",
       "      <th>D19_WEIN_FEINKOST</th>\n",
       "      <td>D19_WEIN_FEINKOST</td>\n",
       "      <td>0.000000</td>\n",
       "    </tr>\n",
       "    <tr>\n",
       "      <th>FINANZ_ANLEGER</th>\n",
       "      <td>FINANZ_ANLEGER</td>\n",
       "      <td>0.000000</td>\n",
       "    </tr>\n",
       "    <tr>\n",
       "      <th>FINANZ_HAUSBAUER</th>\n",
       "      <td>FINANZ_HAUSBAUER</td>\n",
       "      <td>0.000000</td>\n",
       "    </tr>\n",
       "    <tr>\n",
       "      <th>FINANZ_MINIMALIST</th>\n",
       "      <td>FINANZ_MINIMALIST</td>\n",
       "      <td>0.000000</td>\n",
       "    </tr>\n",
       "    <tr>\n",
       "      <th>FINANZ_SPARER</th>\n",
       "      <td>FINANZ_SPARER</td>\n",
       "      <td>0.000000</td>\n",
       "    </tr>\n",
       "    <tr>\n",
       "      <th>FINANZ_UNAUFFAELLIGER</th>\n",
       "      <td>FINANZ_UNAUFFAELLIGER</td>\n",
       "      <td>0.000000</td>\n",
       "    </tr>\n",
       "    <tr>\n",
       "      <th>FINANZ_VORSORGER</th>\n",
       "      <td>FINANZ_VORSORGER</td>\n",
       "      <td>0.000000</td>\n",
       "    </tr>\n",
       "    <tr>\n",
       "      <th>FINANZTYP</th>\n",
       "      <td>FINANZTYP</td>\n",
       "      <td>0.000000</td>\n",
       "    </tr>\n",
       "    <tr>\n",
       "      <th>D19_VERSAND_DATUM</th>\n",
       "      <td>D19_VERSAND_DATUM</td>\n",
       "      <td>0.000000</td>\n",
       "    </tr>\n",
       "    <tr>\n",
       "      <th>D19_VERSAND_ANZ_24</th>\n",
       "      <td>D19_VERSAND_ANZ_24</td>\n",
       "      <td>0.000000</td>\n",
       "    </tr>\n",
       "    <tr>\n",
       "      <th>KOMBIALTER</th>\n",
       "      <td>KOMBIALTER</td>\n",
       "      <td>0.000000</td>\n",
       "    </tr>\n",
       "    <tr>\n",
       "      <th>D19_VERSAND_ANZ_12</th>\n",
       "      <td>D19_VERSAND_ANZ_12</td>\n",
       "      <td>0.000000</td>\n",
       "    </tr>\n",
       "    <tr>\n",
       "      <th>D19_KOSMETIK</th>\n",
       "      <td>D19_KOSMETIK</td>\n",
       "      <td>0.000000</td>\n",
       "    </tr>\n",
       "    <tr>\n",
       "      <th>D19_LEBENSMITTEL</th>\n",
       "      <td>D19_LEBENSMITTEL</td>\n",
       "      <td>0.000000</td>\n",
       "    </tr>\n",
       "    <tr>\n",
       "      <th>D19_NAHRUNGSERGAENZUNG</th>\n",
       "      <td>D19_NAHRUNGSERGAENZUNG</td>\n",
       "      <td>0.000000</td>\n",
       "    </tr>\n",
       "    <tr>\n",
       "      <th>D19_RATGEBER</th>\n",
       "      <td>D19_RATGEBER</td>\n",
       "      <td>0.000000</td>\n",
       "    </tr>\n",
       "    <tr>\n",
       "      <th>D19_REISEN</th>\n",
       "      <td>D19_REISEN</td>\n",
       "      <td>0.000000</td>\n",
       "    </tr>\n",
       "    <tr>\n",
       "      <th>D19_SAMMELARTIKEL</th>\n",
       "      <td>D19_SAMMELARTIKEL</td>\n",
       "      <td>0.000000</td>\n",
       "    </tr>\n",
       "    <tr>\n",
       "      <th>D19_SCHUHE</th>\n",
       "      <td>D19_SCHUHE</td>\n",
       "      <td>0.000000</td>\n",
       "    </tr>\n",
       "    <tr>\n",
       "      <th>D19_SONSTIGE</th>\n",
       "      <td>D19_SONSTIGE</td>\n",
       "      <td>0.000000</td>\n",
       "    </tr>\n",
       "    <tr>\n",
       "      <th>D19_TECHNIK</th>\n",
       "      <td>D19_TECHNIK</td>\n",
       "      <td>0.000000</td>\n",
       "    </tr>\n",
       "    <tr>\n",
       "      <th>D19_TELKO_ANZ_12</th>\n",
       "      <td>D19_TELKO_ANZ_12</td>\n",
       "      <td>0.000000</td>\n",
       "    </tr>\n",
       "    <tr>\n",
       "      <th>D19_TELKO_ANZ_24</th>\n",
       "      <td>D19_TELKO_ANZ_24</td>\n",
       "      <td>0.000000</td>\n",
       "    </tr>\n",
       "    <tr>\n",
       "      <th>D19_TELKO_DATUM</th>\n",
       "      <td>D19_TELKO_DATUM</td>\n",
       "      <td>0.000000</td>\n",
       "    </tr>\n",
       "    <tr>\n",
       "      <th>D19_TELKO_MOBILE</th>\n",
       "      <td>D19_TELKO_MOBILE</td>\n",
       "      <td>0.000000</td>\n",
       "    </tr>\n",
       "    <tr>\n",
       "      <th>D19_TELKO_OFFLINE_DATUM</th>\n",
       "      <td>D19_TELKO_OFFLINE_DATUM</td>\n",
       "      <td>0.000000</td>\n",
       "    </tr>\n",
       "    <tr>\n",
       "      <th>D19_TELKO_ONLINE_DATUM</th>\n",
       "      <td>D19_TELKO_ONLINE_DATUM</td>\n",
       "      <td>0.000000</td>\n",
       "    </tr>\n",
       "    <tr>\n",
       "      <th>D19_TELKO_REST</th>\n",
       "      <td>D19_TELKO_REST</td>\n",
       "      <td>0.000000</td>\n",
       "    </tr>\n",
       "    <tr>\n",
       "      <th>D19_TIERARTIKEL</th>\n",
       "      <td>D19_TIERARTIKEL</td>\n",
       "      <td>0.000000</td>\n",
       "    </tr>\n",
       "    <tr>\n",
       "      <th>LNR</th>\n",
       "      <td>LNR</td>\n",
       "      <td>0.000000</td>\n",
       "    </tr>\n",
       "  </tbody>\n",
       "</table>\n",
       "<p>366 rows × 2 columns</p>\n",
       "</div>"
      ],
      "text/plain": [
       "                                        col_name  percent_nulls\n",
       "ALTER_KIND4                          ALTER_KIND4      99.876860\n",
       "ALTER_KIND3                          ALTER_KIND3      99.334732\n",
       "TITEL_KZ                                TITEL_KZ      98.793647\n",
       "ALTER_KIND2                          ALTER_KIND2      97.338927\n",
       "ALTER_KIND1                          ALTER_KIND1      93.860748\n",
       "KK_KUNDENTYP                        KK_KUNDENTYP      58.406382\n",
       "KBA05_BAUMAX                        KBA05_BAUMAX      57.153069\n",
       "AGER_TYP                                AGER_TYP      48.059504\n",
       "EXTSEL992                              EXTSEL992      44.498883\n",
       "ALTER_HH                                ALTER_HH      35.870745\n",
       "REGIOTYP                                REGIOTYP      31.340137\n",
       "KKK                                          KKK      31.340137\n",
       "W_KEIT_KIND_HH                    W_KEIT_KIND_HH      29.708534\n",
       "KBA05_KRSOBER                      KBA05_KRSOBER      29.696012\n",
       "KBA05_HERST4                        KBA05_HERST4      29.696012\n",
       "KBA05_KRSVAN                        KBA05_KRSVAN      29.696012\n",
       "KBA05_KRSKLEIN                    KBA05_KRSKLEIN      29.696012\n",
       "KBA05_KRSHERST3                  KBA05_KRSHERST3      29.696012\n",
       "KBA05_KRSHERST2                  KBA05_KRSHERST2      29.696012\n",
       "KBA05_KRSHERST1                  KBA05_KRSHERST1      29.696012\n",
       "KBA05_KRSAQUOT                    KBA05_KRSAQUOT      29.696012\n",
       "KBA05_KRSZUL                        KBA05_KRSZUL      29.696012\n",
       "KBA05_HERST5                        KBA05_HERST5      29.696012\n",
       "KBA05_DIESEL                        KBA05_DIESEL      29.696012\n",
       "KBA05_HERST2                        KBA05_HERST2      29.696012\n",
       "KBA05_HERST1                        KBA05_HERST1      29.696012\n",
       "KBA05_FRAU                            KBA05_FRAU      29.696012\n",
       "KBA05_KW2                              KBA05_KW2      29.696012\n",
       "KBA05_CCM4                            KBA05_CCM4      29.696012\n",
       "KBA05_CCM3                            KBA05_CCM3      29.696012\n",
       "...                                          ...            ...\n",
       "D19_WEIN_FEINKOST              D19_WEIN_FEINKOST       0.000000\n",
       "FINANZ_ANLEGER                    FINANZ_ANLEGER       0.000000\n",
       "FINANZ_HAUSBAUER                FINANZ_HAUSBAUER       0.000000\n",
       "FINANZ_MINIMALIST              FINANZ_MINIMALIST       0.000000\n",
       "FINANZ_SPARER                      FINANZ_SPARER       0.000000\n",
       "FINANZ_UNAUFFAELLIGER      FINANZ_UNAUFFAELLIGER       0.000000\n",
       "FINANZ_VORSORGER                FINANZ_VORSORGER       0.000000\n",
       "FINANZTYP                              FINANZTYP       0.000000\n",
       "D19_VERSAND_DATUM              D19_VERSAND_DATUM       0.000000\n",
       "D19_VERSAND_ANZ_24            D19_VERSAND_ANZ_24       0.000000\n",
       "KOMBIALTER                            KOMBIALTER       0.000000\n",
       "D19_VERSAND_ANZ_12            D19_VERSAND_ANZ_12       0.000000\n",
       "D19_KOSMETIK                        D19_KOSMETIK       0.000000\n",
       "D19_LEBENSMITTEL                D19_LEBENSMITTEL       0.000000\n",
       "D19_NAHRUNGSERGAENZUNG    D19_NAHRUNGSERGAENZUNG       0.000000\n",
       "D19_RATGEBER                        D19_RATGEBER       0.000000\n",
       "D19_REISEN                            D19_REISEN       0.000000\n",
       "D19_SAMMELARTIKEL              D19_SAMMELARTIKEL       0.000000\n",
       "D19_SCHUHE                            D19_SCHUHE       0.000000\n",
       "D19_SONSTIGE                        D19_SONSTIGE       0.000000\n",
       "D19_TECHNIK                          D19_TECHNIK       0.000000\n",
       "D19_TELKO_ANZ_12                D19_TELKO_ANZ_12       0.000000\n",
       "D19_TELKO_ANZ_24                D19_TELKO_ANZ_24       0.000000\n",
       "D19_TELKO_DATUM                  D19_TELKO_DATUM       0.000000\n",
       "D19_TELKO_MOBILE                D19_TELKO_MOBILE       0.000000\n",
       "D19_TELKO_OFFLINE_DATUM  D19_TELKO_OFFLINE_DATUM       0.000000\n",
       "D19_TELKO_ONLINE_DATUM    D19_TELKO_ONLINE_DATUM       0.000000\n",
       "D19_TELKO_REST                    D19_TELKO_REST       0.000000\n",
       "D19_TIERARTIKEL                  D19_TIERARTIKEL       0.000000\n",
       "LNR                                          LNR       0.000000\n",
       "\n",
       "[366 rows x 2 columns]"
      ]
     },
     "execution_count": 47,
     "metadata": {},
     "output_type": "execute_result"
    }
   ],
   "source": [
    "customers_percent_nulls.sort_values('percent_nulls', ascending=False)"
   ]
  },
  {
   "cell_type": "code",
   "execution_count": 4,
   "metadata": {
    "scrolled": true
   },
   "outputs": [],
   "source": [
    "# feature list with percentage of nulls equal or greater than 30%\n",
    "col_nul_cust = set(customers_percent_nulls[customers_percent_nulls.percent_nulls >= 30].sort_values('percent_nulls')['col_name'])\n",
    "col_nul_cust"
   ]
  },
  {
   "cell_type": "code",
   "execution_count": 49,
   "metadata": {},
   "outputs": [
    {
     "data": {
      "text/plain": [
       "12"
      ]
     },
     "execution_count": 49,
     "metadata": {},
     "output_type": "execute_result"
    }
   ],
   "source": [
    "len(col_nul_cust)"
   ]
  },
  {
   "cell_type": "code",
   "execution_count": 50,
   "metadata": {},
   "outputs": [
    {
     "data": {
      "text/plain": [
       "10"
      ]
     },
     "execution_count": 50,
     "metadata": {},
     "output_type": "execute_result"
    }
   ],
   "source": [
    "len(col_nul_az)"
   ]
  },
  {
   "cell_type": "code",
   "execution_count": 51,
   "metadata": {},
   "outputs": [
    {
     "data": {
      "text/plain": [
       "set()"
      ]
     },
     "execution_count": 51,
     "metadata": {},
     "output_type": "execute_result"
    }
   ],
   "source": [
    "col_nul_diff1 = col_nul_az - col_nul_cust\n",
    "col_nul_diff1\n"
   ]
  },
  {
   "cell_type": "code",
   "execution_count": 52,
   "metadata": {},
   "outputs": [
    {
     "data": {
      "text/plain": [
       "{'KKK', 'REGIOTYP'}"
      ]
     },
     "execution_count": 52,
     "metadata": {},
     "output_type": "execute_result"
    }
   ],
   "source": [
    "# display features available in the list of customers data having >= 30% nulls and those which are not available in azdias dataset\n",
    "col_nul_diff = col_nul_cust - col_nul_az \n",
    "col_nul_diff\n"
   ]
  },
  {
   "cell_type": "code",
   "execution_count": 53,
   "metadata": {
    "scrolled": true
   },
   "outputs": [
    {
     "data": {
      "text/html": [
       "<div>\n",
       "<style scoped>\n",
       "    .dataframe tbody tr th:only-of-type {\n",
       "        vertical-align: middle;\n",
       "    }\n",
       "\n",
       "    .dataframe tbody tr th {\n",
       "        vertical-align: top;\n",
       "    }\n",
       "\n",
       "    .dataframe thead th {\n",
       "        text-align: right;\n",
       "    }\n",
       "</style>\n",
       "<table border=\"1\" class=\"dataframe\">\n",
       "  <thead>\n",
       "    <tr style=\"text-align: right;\">\n",
       "      <th></th>\n",
       "      <th>col_name</th>\n",
       "      <th>percent_nulls</th>\n",
       "    </tr>\n",
       "  </thead>\n",
       "  <tbody>\n",
       "    <tr>\n",
       "      <th>KKK</th>\n",
       "      <td>KKK</td>\n",
       "      <td>31.340137</td>\n",
       "    </tr>\n",
       "    <tr>\n",
       "      <th>REGIOTYP</th>\n",
       "      <td>REGIOTYP</td>\n",
       "      <td>31.340137</td>\n",
       "    </tr>\n",
       "  </tbody>\n",
       "</table>\n",
       "</div>"
      ],
      "text/plain": [
       "          col_name  percent_nulls\n",
       "KKK            KKK      31.340137\n",
       "REGIOTYP  REGIOTYP      31.340137"
      ]
     },
     "execution_count": 53,
     "metadata": {},
     "output_type": "execute_result"
    }
   ],
   "source": [
    "customers_percent_nulls.loc[col_nul_diff]"
   ]
  },
  {
   "cell_type": "code",
   "execution_count": 54,
   "metadata": {
    "scrolled": true
   },
   "outputs": [
    {
     "data": {
      "text/html": [
       "<div>\n",
       "<style scoped>\n",
       "    .dataframe tbody tr th:only-of-type {\n",
       "        vertical-align: middle;\n",
       "    }\n",
       "\n",
       "    .dataframe tbody tr th {\n",
       "        vertical-align: top;\n",
       "    }\n",
       "\n",
       "    .dataframe thead th {\n",
       "        text-align: right;\n",
       "    }\n",
       "</style>\n",
       "<table border=\"1\" class=\"dataframe\">\n",
       "  <thead>\n",
       "    <tr style=\"text-align: right;\">\n",
       "      <th></th>\n",
       "      <th>col_name</th>\n",
       "      <th>percent_nulls</th>\n",
       "    </tr>\n",
       "  </thead>\n",
       "  <tbody>\n",
       "    <tr>\n",
       "      <th>KKK</th>\n",
       "      <td>KKK</td>\n",
       "      <td>17.735668</td>\n",
       "    </tr>\n",
       "    <tr>\n",
       "      <th>REGIOTYP</th>\n",
       "      <td>REGIOTYP</td>\n",
       "      <td>17.735668</td>\n",
       "    </tr>\n",
       "  </tbody>\n",
       "</table>\n",
       "</div>"
      ],
      "text/plain": [
       "          col_name  percent_nulls\n",
       "KKK            KKK      17.735668\n",
       "REGIOTYP  REGIOTYP      17.735668"
      ]
     },
     "execution_count": 54,
     "metadata": {},
     "output_type": "execute_result"
    }
   ],
   "source": [
    "azdias_percent_nulls.loc[col_nul_diff]"
   ]
  },
  {
   "cell_type": "code",
   "execution_count": 55,
   "metadata": {},
   "outputs": [],
   "source": [
    "# create feature list to be selected in both customers and azdias data sets\n",
    "feature_list = list(set(customers.columns) - set(col_nul_cust) )\n"
   ]
  },
  {
   "cell_type": "code",
   "execution_count": 56,
   "metadata": {},
   "outputs": [
    {
     "data": {
      "text/plain": [
       "['D19_TELKO_ONLINE_QUOTE_12',\n",
       " 'KBA13_SEG_VAN',\n",
       " 'D19_VERSAND_DATUM',\n",
       " 'BALLRAUM',\n",
       " 'KBA05_MAXVORB',\n",
       " 'D19_VERSI_ONLINE_DATUM',\n",
       " 'KBA13_BMW',\n",
       " 'KBA13_SEG_KLEINWAGEN',\n",
       " 'OST_WEST_KZ',\n",
       " 'KBA13_RENAULT',\n",
       " 'DSL_FLAG',\n",
       " 'SEMIO_LUST',\n",
       " 'KBA13_GBZ',\n",
       " 'D19_RATGEBER',\n",
       " 'D19_BEKLEIDUNG_REST',\n",
       " 'D19_VERSAND_REST',\n",
       " 'GFK_URLAUBERTYP',\n",
       " 'D19_TIERARTIKEL',\n",
       " 'CJT_TYP_2',\n",
       " 'KBA13_CCM_2500',\n",
       " 'KBA13_FORD',\n",
       " 'D19_VERSAND_OFFLINE_DATUM',\n",
       " 'D19_SOZIALES',\n",
       " 'KBA05_HERST5',\n",
       " 'KBA13_CCM_1200',\n",
       " 'KBA13_ALTERHALTER_30',\n",
       " 'CJT_TYP_6',\n",
       " 'D19_BANKEN_REST',\n",
       " 'D19_BANKEN_ONLINE_QUOTE_12',\n",
       " 'UNGLEICHENN_FLAG',\n",
       " 'LP_FAMILIE_GROB',\n",
       " 'ANREDE_KZ',\n",
       " 'D19_VERSICHERUNGEN',\n",
       " 'SEMIO_DOM',\n",
       " 'D19_KOSMETIK',\n",
       " 'KBA05_HERST3',\n",
       " 'FIRMENDICHTE',\n",
       " 'FINANZ_SPARER',\n",
       " 'D19_TELKO_REST',\n",
       " 'KBA05_CCM1',\n",
       " 'KBA13_VORB_2',\n",
       " 'KBA05_VORB0',\n",
       " 'KBA13_OPEL',\n",
       " 'MIN_GEBAEUDEJAHR',\n",
       " 'VK_DISTANZ',\n",
       " 'KBA05_SEG2',\n",
       " 'VK_ZG11',\n",
       " 'VK_DHT4A',\n",
       " 'PLZ8_BAUMAX',\n",
       " 'KBA13_HERST_FORD_OPEL',\n",
       " 'PLZ8_ANTG3',\n",
       " 'KBA05_MOD2',\n",
       " 'KBA05_ZUL1',\n",
       " 'SEMIO_PFLICHT',\n",
       " 'KBA05_DIESEL',\n",
       " 'KBA13_CCM_1000',\n",
       " 'KBA13_SEG_OBEREMITTELKLASSE',\n",
       " 'D19_BEKLEIDUNG_GEH',\n",
       " 'D19_LEBENSMITTEL',\n",
       " 'KBA05_ALTER1',\n",
       " 'KBA13_HALTER_55',\n",
       " 'KBA13_KRSHERST_BMW_BENZ',\n",
       " 'KBA05_GBZ',\n",
       " 'D19_NAHRUNGSERGAENZUNG',\n",
       " 'KBA13_ANTG3',\n",
       " 'D19_SONSTIGE',\n",
       " 'KBA13_HERST_SONST',\n",
       " 'SEMIO_MAT',\n",
       " 'KBA05_FRAU',\n",
       " 'KBA13_KRSSEG_KLEIN',\n",
       " 'KBA13_SITZE_6',\n",
       " 'KBA13_BJ_2008',\n",
       " 'KBA13_CCM_1600',\n",
       " 'KBA05_ANTG4',\n",
       " 'D19_TELKO_ANZ_12',\n",
       " 'D19_BUCH_CD',\n",
       " 'CJT_TYP_5',\n",
       " 'FINANZTYP',\n",
       " 'KBA05_ZUL2',\n",
       " 'VHN',\n",
       " 'D19_ENERGIE',\n",
       " 'KBA13_SEG_WOHNMOBILE',\n",
       " 'SEMIO_TRADV',\n",
       " 'KBA13_VORB_1',\n",
       " 'RELAT_AB',\n",
       " 'D19_VERSAND_ONLINE_QUOTE_12',\n",
       " 'PLZ8_ANTG1',\n",
       " 'KBA13_VW',\n",
       " 'EINGEZOGENAM_HH_JAHR',\n",
       " 'D19_FREIZEIT',\n",
       " 'FINANZ_ANLEGER',\n",
       " 'D19_TELKO_MOBILE',\n",
       " 'KBA13_KW_60',\n",
       " 'FINANZ_HAUSBAUER',\n",
       " 'KBA05_MOD8',\n",
       " 'D19_TELKO_ONLINE_DATUM',\n",
       " 'KBA13_KMH_0_140',\n",
       " 'D19_BANKEN_GROSS',\n",
       " 'VERS_TYP',\n",
       " 'KBA13_KMH_180',\n",
       " 'KBA13_HALTER_40',\n",
       " 'KBA05_ANHANG',\n",
       " 'D19_VERSI_ANZ_12',\n",
       " 'D19_GESAMT_DATUM',\n",
       " 'KBA13_SEG_KOMPAKTKLASSE',\n",
       " 'KBA13_KMH_251',\n",
       " 'KBA05_HERST4',\n",
       " 'KBA13_CCM_2000',\n",
       " 'KBA13_VORB_1_2',\n",
       " 'SEMIO_RAT',\n",
       " 'KBA05_ANTG2',\n",
       " 'KBA13_CCM_0_1400',\n",
       " 'KBA13_CCM_3000',\n",
       " 'KBA05_MAXAH',\n",
       " 'FINANZ_UNAUFFAELLIGER',\n",
       " 'KBA05_KW1',\n",
       " 'KBA13_KW_61_120',\n",
       " 'KBA05_KW2',\n",
       " 'KBA05_HERST1',\n",
       " 'KBA13_BJ_2006',\n",
       " 'KBA13_KMH_210',\n",
       " 'KBA13_SEG_OBERKLASSE',\n",
       " 'D19_BANKEN_LOKAL',\n",
       " 'INNENSTADT',\n",
       " 'KBA05_KRSVAN',\n",
       " 'ANZ_PERSONEN',\n",
       " 'KBA13_MOTOR',\n",
       " 'GEBAEUDETYP_RASTER',\n",
       " 'D19_WEIN_FEINKOST',\n",
       " 'KBA05_MODTEMP',\n",
       " 'D19_BANKEN_DATUM',\n",
       " 'KBA05_SEG7',\n",
       " 'KBA05_MOTRAD',\n",
       " 'KBA13_BJ_1999',\n",
       " 'KBA13_HALTER_20',\n",
       " 'KBA13_KRSAQUOT',\n",
       " 'KBA13_KRSSEG_VAN',\n",
       " 'LP_FAMILIE_FEIN',\n",
       " 'KBA13_VORB_0',\n",
       " 'KBA05_CCM3',\n",
       " 'KBA05_MOD1',\n",
       " 'KBA05_VORB2',\n",
       " 'KBA13_BAUMAX',\n",
       " 'KBA13_SEG_SPORTWAGEN',\n",
       " 'D19_SCHUHE',\n",
       " 'KONSUMZELLE',\n",
       " 'KBA13_KW_110',\n",
       " 'ONLINE_AFFINITAET',\n",
       " 'D19_VERSAND_ANZ_12',\n",
       " 'KBA05_ZUL4',\n",
       " 'KBA13_SEG_SONSTIGE',\n",
       " 'KBA05_VORB1',\n",
       " 'D19_VOLLSORTIMENT',\n",
       " 'RETOURTYP_BK_S',\n",
       " 'KBA05_SEG10',\n",
       " 'SEMIO_KRIT',\n",
       " 'ALTERSKATEGORIE_FEIN',\n",
       " 'D19_GESAMT_OFFLINE_DATUM',\n",
       " 'KBA13_KRSHERST_AUDI_VW',\n",
       " 'D19_HANDWERK',\n",
       " 'D19_REISEN',\n",
       " 'VERDICHTUNGSRAUM',\n",
       " 'CAMEO_DEU_2015',\n",
       " 'KBA05_MAXBJ',\n",
       " 'KBA13_KMH_140_210',\n",
       " 'KBA05_CCM4',\n",
       " 'KBA05_ALTER4',\n",
       " 'D19_VERSI_DATUM',\n",
       " 'KBA05_SEG4',\n",
       " 'KBA05_SEG8',\n",
       " 'KBA05_ANTG1',\n",
       " 'KBA13_KW_50',\n",
       " 'D19_DROGERIEARTIKEL',\n",
       " 'GEBURTSJAHR',\n",
       " 'SOHO_KZ',\n",
       " 'D19_GESAMT_ONLINE_QUOTE_12',\n",
       " 'KBA13_HERST_AUDI_VW',\n",
       " 'KBA05_KRSHERST3',\n",
       " 'KBA05_HERSTTEMP',\n",
       " 'KBA13_AUTOQUOTE',\n",
       " 'GEMEINDETYP',\n",
       " 'SEMIO_REL',\n",
       " 'GEBAEUDETYP',\n",
       " 'SEMIO_FAM',\n",
       " 'PLZ8_HHZ',\n",
       " 'KBA13_KW_121',\n",
       " 'KBA13_MERCEDES',\n",
       " 'AKT_DAT_KL',\n",
       " 'MOBI_RASTER',\n",
       " 'ARBEIT',\n",
       " 'KBA13_MAZDA',\n",
       " 'KOMBIALTER',\n",
       " 'KBA05_MAXSEG',\n",
       " 'KBA13_HERST_ASIEN',\n",
       " 'LP_STATUS_GROB',\n",
       " 'D19_VERSI_ANZ_24',\n",
       " 'PLZ8_ANTG2',\n",
       " 'D19_BANKEN_ANZ_24',\n",
       " 'KBA05_SEG3',\n",
       " 'KBA13_HHZ',\n",
       " 'ORTSGR_KLS9',\n",
       " 'ANZ_TITEL',\n",
       " 'CAMEO_INTL_2015',\n",
       " 'D19_GESAMT_ANZ_12',\n",
       " 'WOHNDAUER_2008',\n",
       " 'KBA13_KMH_250',\n",
       " 'CAMEO_DEUG_2015',\n",
       " 'HH_EINKOMMEN_SCORE',\n",
       " 'D19_BANKEN_DIREKT',\n",
       " 'D19_GARTEN',\n",
       " 'GREEN_AVANTGARDE',\n",
       " 'KBA05_SEG9',\n",
       " 'KBA13_HERST_EUROPA',\n",
       " 'KBA05_SEG6',\n",
       " 'D19_TELKO_ANZ_24',\n",
       " 'D19_KINDERARTIKEL',\n",
       " 'RT_SCHNAEPPCHEN',\n",
       " 'W_KEIT_KIND_HH',\n",
       " 'KBA13_FAB_ASIEN',\n",
       " 'KBA13_SITZE_4',\n",
       " 'KBA13_SEG_GELAENDEWAGEN',\n",
       " 'D19_GESAMT_ANZ_24',\n",
       " 'D19_SAMMELARTIKEL',\n",
       " 'KBA13_ANTG1',\n",
       " 'D19_BILDUNG',\n",
       " 'SEMIO_SOZ',\n",
       " 'KBA13_SEG_UTILITIES',\n",
       " 'KBA13_SEG_MINIVANS',\n",
       " 'KBA13_KW_30',\n",
       " 'KBA13_FIAT',\n",
       " 'D19_GESAMT_ONLINE_DATUM',\n",
       " 'CJT_TYP_4',\n",
       " 'KBA13_SEG_KLEINST',\n",
       " 'EINGEFUEGT_AM',\n",
       " 'KBA13_SEG_MINIWAGEN',\n",
       " 'KBA13_TOYOTA',\n",
       " 'D19_VERSAND_ONLINE_DATUM',\n",
       " 'HH_DELTA_FLAG',\n",
       " 'KBA13_BJ_2009',\n",
       " 'SEMIO_KULT',\n",
       " 'HEALTH_TYP',\n",
       " 'KBA05_ANTG3',\n",
       " 'CJT_TYP_3',\n",
       " 'KBA13_CCM_1401_2500',\n",
       " 'LP_LEBENSPHASE_FEIN',\n",
       " 'KBA13_FAB_SONSTIGE',\n",
       " 'VHA',\n",
       " 'KBA13_CCM_1500',\n",
       " 'KBA05_KRSHERST2',\n",
       " 'KBA05_KW3',\n",
       " 'PRAEGENDE_JUGENDJAHRE',\n",
       " 'KBA13_CCM_1400',\n",
       " 'KBA13_ALTERHALTER_45',\n",
       " 'KBA13_BJ_2004',\n",
       " 'KBA13_KW_90',\n",
       " 'ALTERSKATEGORIE_GROB',\n",
       " 'KONSUMNAEHE',\n",
       " 'RT_UEBERGROESSE',\n",
       " 'KBA05_MOD3',\n",
       " 'KBA13_HALTER_50',\n",
       " 'STRUKTURTYP',\n",
       " 'MOBI_REGIO',\n",
       " 'KBA13_CCM_1800',\n",
       " 'D19_LOTTO',\n",
       " 'SHOPPER_TYP',\n",
       " 'D19_BANKEN_ANZ_12',\n",
       " 'KBA13_KRSZUL_NEU',\n",
       " 'KBA13_KMH_110',\n",
       " 'KBA05_SEG5',\n",
       " 'SEMIO_VERT',\n",
       " 'ANZ_STATISTISCHE_HAUSHALTE',\n",
       " 'NATIONALITAET_KZ',\n",
       " 'D19_DIGIT_SERV',\n",
       " 'FINANZ_MINIMALIST',\n",
       " 'D19_VERSI_OFFLINE_DATUM',\n",
       " 'KBA05_KRSAQUOT',\n",
       " 'D19_TELKO_OFFLINE_DATUM',\n",
       " 'KBA13_HALTER_25',\n",
       " 'KBA13_ANZAHL_PKW',\n",
       " 'KBA13_ANTG2',\n",
       " 'D19_LETZTER_KAUF_BRANCHE',\n",
       " 'KBA13_HERST_BMW_BENZ',\n",
       " 'KBA05_MAXHERST',\n",
       " 'KBA13_ALTERHALTER_61',\n",
       " 'KBA13_CCM_3001',\n",
       " 'KBA13_KW_70',\n",
       " 'KBA05_ALTER2',\n",
       " 'KBA13_ALTERHALTER_60',\n",
       " 'D19_BIO_OEKO',\n",
       " 'LP_STATUS_FEIN',\n",
       " 'LP_LEBENSPHASE_GROB',\n",
       " 'KBA13_KRSHERST_FORD_OPEL',\n",
       " 'ANZ_KINDER',\n",
       " 'KBA13_HALTER_35',\n",
       " 'KBA05_HERST2',\n",
       " 'KBA13_SITZE_5',\n",
       " 'CJT_KATALOGNUTZER',\n",
       " 'KBA13_CCM_2501',\n",
       " 'D19_VERSAND_ANZ_24',\n",
       " 'KBA13_KMH_140',\n",
       " 'KBA13_KW_40',\n",
       " 'KBA13_HALTER_45',\n",
       " 'D19_BANKEN_ONLINE_DATUM',\n",
       " 'KBA13_PEUGEOT',\n",
       " 'D19_VERSI_ONLINE_QUOTE_12',\n",
       " 'KBA13_AUDI',\n",
       " 'D19_TELKO_DATUM',\n",
       " 'KBA13_VORB_3',\n",
       " 'D19_HAUS_DEKO',\n",
       " 'KBA13_ANTG4',\n",
       " 'CJT_TYP_1',\n",
       " 'KBA13_KRSSEG_OBER',\n",
       " 'KBA13_BJ_2000',\n",
       " 'KBA05_AUTOQUOT',\n",
       " 'KBA05_MOD4',\n",
       " 'KBA13_HALTER_66',\n",
       " 'UMFELD_JUNG',\n",
       " 'KBA13_KMH_211',\n",
       " 'KBA13_SEG_GROSSRAUMVANS',\n",
       " 'RT_KEIN_ANREIZ',\n",
       " 'KBA13_KW_0_60',\n",
       " 'D19_TECHNIK',\n",
       " 'KBA05_SEG1',\n",
       " 'SEMIO_ERL',\n",
       " 'KBA13_KW_120',\n",
       " 'D19_KONSUMTYP',\n",
       " 'D19_KONSUMTYP_MAX',\n",
       " 'ANZ_HAUSHALTE_AKTIV',\n",
       " 'KBA05_KRSKLEIN',\n",
       " 'KBA05_KRSHERST1',\n",
       " 'UMFELD_ALT',\n",
       " 'D19_BANKEN_OFFLINE_DATUM',\n",
       " 'KBA05_CCM2',\n",
       " 'WOHNLAGE',\n",
       " 'KBA05_ZUL3',\n",
       " 'ANZ_HH_TITEL',\n",
       " 'SEMIO_KAEM',\n",
       " 'PLZ8_ANTG4',\n",
       " 'KBA13_SEG_MITTELKLASSE',\n",
       " 'FINANZ_VORSORGER',\n",
       " 'KBA05_KRSOBER',\n",
       " 'PLZ8_GBZ',\n",
       " 'KBA13_HALTER_65',\n",
       " 'KBA05_MOTOR',\n",
       " 'LNR',\n",
       " 'CJT_GESAMTTYP',\n",
       " 'KBA05_ALTER3',\n",
       " 'KBA13_NISSAN',\n",
       " 'KBA13_HALTER_60',\n",
       " 'ZABEOTYP',\n",
       " 'EWDICHTE',\n",
       " 'KBA13_HALTER_30',\n",
       " 'KBA13_KW_80',\n",
       " 'KBA05_KRSZUL']"
      ]
     },
     "execution_count": 56,
     "metadata": {},
     "output_type": "execute_result"
    }
   ],
   "source": [
    "feature_list"
   ]
  },
  {
   "cell_type": "code",
   "execution_count": 57,
   "metadata": {
    "scrolled": true
   },
   "outputs": [
    {
     "data": {
      "text/plain": [
       "354"
      ]
     },
     "execution_count": 57,
     "metadata": {},
     "output_type": "execute_result"
    }
   ],
   "source": [
    "len(feature_list)"
   ]
  },
  {
   "cell_type": "markdown",
   "metadata": {},
   "source": [
    "After first part of cleaning data taking into consideration missing values, we now have 354 features to be taken to further analysis for both customers and azdias data sets."
   ]
  },
  {
   "cell_type": "code",
   "execution_count": 58,
   "metadata": {},
   "outputs": [],
   "source": [
    "#customers = customers[feature_list]\n",
    "customers = customers[feature_list]"
   ]
  },
  {
   "cell_type": "code",
   "execution_count": 59,
   "metadata": {},
   "outputs": [],
   "source": [
    "#azdias = azdias[feature_list]\n",
    "azdias = azdias[feature_list]"
   ]
  },
  {
   "cell_type": "code",
   "execution_count": 60,
   "metadata": {},
   "outputs": [
    {
     "data": {
      "text/plain": [
       "(354, 354)"
      ]
     },
     "execution_count": 60,
     "metadata": {},
     "output_type": "execute_result"
    }
   ],
   "source": [
    "# columns of azdias and customers dataset\n",
    "azdias.shape[1], customers.shape[1]"
   ]
  },
  {
   "cell_type": "code",
   "execution_count": 61,
   "metadata": {},
   "outputs": [
    {
     "data": {
      "text/plain": [
       "[]"
      ]
     },
     "execution_count": 61,
     "metadata": {},
     "output_type": "execute_result"
    }
   ],
   "source": [
    "list(set(azdias) - set(customers))"
   ]
  },
  {
   "cell_type": "code",
   "execution_count": 41,
   "metadata": {},
   "outputs": [],
   "source": [
    "# categories features listed from dias attribute excel file (checking manually from reading)\n",
    "categories = ['AGER_TYP',\n",
    "               'ANREDE_KZ',\n",
    "               'CAMEO_DEU_2015',\n",
    "               'CAMEO_DEUG_2015',\n",
    "               'CAMEO_INTL_2015',\n",
    "               'CJT_GESAMTTYP',\n",
    "               'D19_BANKEN_DATUM',\n",
    "               'D19_BANKEN_OFFLINE_DATUM',\n",
    "               'D19_BANKEN_ONLINE_DATUM',\n",
    "               'D19_GESAMT_DATUM',\n",
    "               'D19_GESAMT_OFFLINE_DATUM',\n",
    "               'D19_GESAMT_ONLINE_DATUM',\n",
    "               'D19_KONSUMTYP',\n",
    "               'D19_TELKO_DATUM',\n",
    "               'D19_TELKO_OFFLINE_DATUM',\n",
    "               'D19_TELKO_ONLINE_DATUM',\n",
    "               'D19_VERSAND_DATUM',\n",
    "               'D19_VERSAND_OFFLINE_DATUM',\n",
    "               'D19_VERSAND_ONLINE_DATUM',\n",
    "               'D19_VERSI_DATUM',\n",
    "               'D19_VERSI_OFFLINE_DATUM',\n",
    "               'D19_VERSI_ONLINE_DATUM',\n",
    "               'FINANZTYP',\n",
    "               'GEBAEUDETYP',\n",
    "               'GFK_URLAUBERTYP',\n",
    "               'GREEN_AVANTGARDE',\n",
    "               'KBA05_BAUMAX',\n",
    "               'KK_KUNDENTYP',\n",
    "               'LP_FAMILIE_FEIN',\n",
    "               'LP_FAMILIE_GROB',\n",
    "               'LP_STATUS_FEIN',\n",
    "               'LP_STATUS_GROB',\n",
    "               'NATIONALITAET_KZ',\n",
    "               'OST_WEST_KZ',\n",
    "               'PLZ8_BAUMAX',\n",
    "               'SHOPPER_TYP',\n",
    "               'SOHO_KZ',\n",
    "               'TITEL_KZ',\n",
    "               'VERS_TYP',\n",
    "               'WOHNLAGE',\n",
    "               'ZABEOTYP']"
   ]
  },
  {
   "cell_type": "code",
   "execution_count": 43,
   "metadata": {},
   "outputs": [],
   "source": [
    "# disply features not available in the categories list above\n",
    "cat_diff = list(set(categories) - set(feature_list))\n",
    "cat_diff"
   ]
  },
  {
   "cell_type": "code",
   "execution_count": 64,
   "metadata": {},
   "outputs": [],
   "source": [
    "# define categories removing those features which are not available in the feature_list\n",
    "categories = list(set(categories) - set(cat_diff))\n",
    "categories.sort()"
   ]
  },
  {
   "cell_type": "code",
   "execution_count": 65,
   "metadata": {
    "scrolled": false
   },
   "outputs": [
    {
     "data": {
      "text/plain": [
       "['ANREDE_KZ',\n",
       " 'CAMEO_DEUG_2015',\n",
       " 'CAMEO_DEU_2015',\n",
       " 'CAMEO_INTL_2015',\n",
       " 'CJT_GESAMTTYP',\n",
       " 'D19_BANKEN_DATUM',\n",
       " 'D19_BANKEN_OFFLINE_DATUM',\n",
       " 'D19_BANKEN_ONLINE_DATUM',\n",
       " 'D19_GESAMT_DATUM',\n",
       " 'D19_GESAMT_OFFLINE_DATUM',\n",
       " 'D19_GESAMT_ONLINE_DATUM',\n",
       " 'D19_KONSUMTYP',\n",
       " 'D19_TELKO_DATUM',\n",
       " 'D19_TELKO_OFFLINE_DATUM',\n",
       " 'D19_TELKO_ONLINE_DATUM',\n",
       " 'D19_VERSAND_DATUM',\n",
       " 'D19_VERSAND_OFFLINE_DATUM',\n",
       " 'D19_VERSAND_ONLINE_DATUM',\n",
       " 'D19_VERSI_DATUM',\n",
       " 'D19_VERSI_OFFLINE_DATUM',\n",
       " 'D19_VERSI_ONLINE_DATUM',\n",
       " 'FINANZTYP',\n",
       " 'GEBAEUDETYP',\n",
       " 'GFK_URLAUBERTYP',\n",
       " 'GREEN_AVANTGARDE',\n",
       " 'LP_FAMILIE_FEIN',\n",
       " 'LP_FAMILIE_GROB',\n",
       " 'LP_STATUS_FEIN',\n",
       " 'LP_STATUS_GROB',\n",
       " 'NATIONALITAET_KZ',\n",
       " 'OST_WEST_KZ',\n",
       " 'PLZ8_BAUMAX',\n",
       " 'SHOPPER_TYP',\n",
       " 'SOHO_KZ',\n",
       " 'VERS_TYP',\n",
       " 'WOHNLAGE',\n",
       " 'ZABEOTYP']"
      ]
     },
     "execution_count": 65,
     "metadata": {},
     "output_type": "execute_result"
    }
   ],
   "source": [
    "categories"
   ]
  },
  {
   "cell_type": "code",
   "execution_count": 66,
   "metadata": {},
   "outputs": [],
   "source": [
    "#customers.to_pickle('fixed_customers.p')"
   ]
  },
  {
   "cell_type": "code",
   "execution_count": 67,
   "metadata": {
    "scrolled": false
   },
   "outputs": [
    {
     "data": {
      "text/plain": [
       "array([1, 2], dtype=int64)"
      ]
     },
     "execution_count": 67,
     "metadata": {},
     "output_type": "execute_result"
    }
   ],
   "source": [
    "azdias.ANREDE_KZ.unique()"
   ]
  },
  {
   "cell_type": "code",
   "execution_count": 68,
   "metadata": {},
   "outputs": [
    {
     "data": {
      "text/plain": [
       "array([nan, '8A', '4C', '2A', '6B', '8C', '4A', '2D', '1A', '1E', '9D',\n",
       "       '5C', '8B', '7A', '5D', '9E', '9B', '1B', '3D', '4E', '4B', '3C',\n",
       "       '5A', '7B', '9A', '6D', '6E', '2C', '7C', '9C', '7D', '5E', '1D',\n",
       "       '8D', '6C', '6A', '5B', '4D', '3A', '2B', '7E', '3B', '6F', '5F',\n",
       "       '1C', 'XX'], dtype=object)"
      ]
     },
     "execution_count": 68,
     "metadata": {},
     "output_type": "execute_result"
    }
   ],
   "source": [
    "azdias.CAMEO_DEU_2015.unique()"
   ]
  },
  {
   "cell_type": "code",
   "execution_count": 69,
   "metadata": {},
   "outputs": [
    {
     "data": {
      "text/plain": [
       "array([nan, 'D19_UNBEKANNT', 'D19_SCHUHE', 'D19_ENERGIE', 'D19_KOSMETIK',\n",
       "       'D19_VOLLSORTIMENT', 'D19_SONSTIGE', 'D19_BANKEN_GROSS',\n",
       "       'D19_DROGERIEARTIKEL', 'D19_HANDWERK', 'D19_BUCH_CD',\n",
       "       'D19_VERSICHERUNGEN', 'D19_VERSAND_REST', 'D19_TELKO_REST',\n",
       "       'D19_BANKEN_DIREKT', 'D19_BANKEN_REST', 'D19_FREIZEIT',\n",
       "       'D19_LEBENSMITTEL', 'D19_HAUS_DEKO', 'D19_BEKLEIDUNG_REST',\n",
       "       'D19_SAMMELARTIKEL', 'D19_TELKO_MOBILE', 'D19_REISEN',\n",
       "       'D19_BEKLEIDUNG_GEH', 'D19_TECHNIK', 'D19_NAHRUNGSERGAENZUNG',\n",
       "       'D19_DIGIT_SERV', 'D19_LOTTO', 'D19_RATGEBER', 'D19_TIERARTIKEL',\n",
       "       'D19_KINDERARTIKEL', 'D19_BIO_OEKO', 'D19_WEIN_FEINKOST',\n",
       "       'D19_GARTEN', 'D19_BILDUNG', 'D19_BANKEN_LOKAL'], dtype=object)"
      ]
     },
     "execution_count": 69,
     "metadata": {},
     "output_type": "execute_result"
    }
   ],
   "source": [
    "azdias['D19_LETZTER_KAUF_BRANCHE'].unique()"
   ]
  },
  {
   "cell_type": "code",
   "execution_count": 70,
   "metadata": {},
   "outputs": [
    {
     "data": {
      "text/plain": [
       "array([nan, 14., 15.,  8.,  3., 10., 11.,  5.,  9.,  6.,  4.,  2.,  1.,\n",
       "       12., 13.,  7.])"
      ]
     },
     "execution_count": 70,
     "metadata": {},
     "output_type": "execute_result"
    }
   ],
   "source": [
    "azdias['PRAEGENDE_JUGENDJAHRE'].unique()"
   ]
  },
  {
   "cell_type": "code",
   "execution_count": 44,
   "metadata": {
    "scrolled": true
   },
   "outputs": [],
   "source": [
    "def feature_cat_eng(df):\n",
    "    \n",
    "    '''\n",
    "    this function clean data by dropping unnecessary columns, filling missing data with most frequent value for each feature \n",
    "    and replacing values 'XX', 'X' with most frequent value for each column\n",
    "    it also splits ANREDE_KZ feature by using get_dummies and encodes category columns applying label encoder\n",
    "    \n",
    "    INPUT: df - data frame with the data to be cleaned\n",
    "    \n",
    "    OUTPUT : df - cleaned data frame\n",
    "    '''\n",
    "    \n",
    "    df = pd.get_dummies(df, columns = ['ANREDE_KZ'],prefix = ['ANREDE_KZ'], dummy_na = True)\n",
    "    \n",
    "    df.drop(['D19_LETZTER_KAUF_BRANCHE'], axis = 1, inplace = True)\n",
    "    \n",
    "    freq = df['CAMEO_DEU_2015'].value_counts().idxmax()\n",
    "    df['CAMEO_DEU_2015'] = df['CAMEO_DEU_2015'].replace('XX', freq)\n",
    "    df['CAMEO_DEU_2015']= df['CAMEO_DEU_2015'].fillna(freq)\n",
    "    val = np.array(df['CAMEO_DEU_2015'])\n",
    "    enc_val = preprocessing.LabelEncoder().fit_transform(val)\n",
    "    df['CAMEO_DEU_2015'] = enc_val\n",
    "    \n",
    "    df['OST_WEST_KZ'] = df['OST_WEST_KZ'].replace({'W':0, 'O':1})\n",
    "    \n",
    "    df['EINGEFUEGT_AM'] = pd.to_datetime(df['EINGEFUEGT_AM']).dt.year\n",
    "    \n",
    "    \n",
    "    map_values = {2: 1,\n",
    "                    3: 2,\n",
    "                    4: 2,\n",
    "                    5: 3,\n",
    "                    6: 3,\n",
    "                    7: 3,\n",
    "                    8: 4,\n",
    "                    9: 4,\n",
    "                    10: 5,\n",
    "                    11: 5,\n",
    "                    12: 5,\n",
    "                    13: 5,\n",
    "                    14: 6,\n",
    "                    15: 6}\n",
    "        \n",
    "    df['PRAEGENDE_JUGENDJAHRE_M'] = df['PRAEGENDE_JUGENDJAHRE'].map(map_values)\n",
    "    df.drop(['PRAEGENDE_JUGENDJAHRE'], axis = 1, inplace = True)\n",
    "    \n",
    "    \n",
    "    for var in df:\n",
    "        freq = df[var].value_counts().idxmax()\n",
    "        df[var] = df[var].fillna(freq)\n",
    "   \n",
    "\n",
    "    return df"
   ]
  },
  {
   "cell_type": "code",
   "execution_count": 72,
   "metadata": {
    "scrolled": true
   },
   "outputs": [
    {
     "data": {
      "text/plain": [
       "(891221, 354)"
      ]
     },
     "execution_count": 72,
     "metadata": {},
     "output_type": "execute_result"
    }
   ],
   "source": [
    "azdias.shape"
   ]
  },
  {
   "cell_type": "code",
   "execution_count": 73,
   "metadata": {},
   "outputs": [],
   "source": [
    "azdias = feature_cat_eng(azdias)"
   ]
  },
  {
   "cell_type": "code",
   "execution_count": null,
   "metadata": {},
   "outputs": [],
   "source": [
    "azdias.to_pickle('azdias_fix.p')"
   ]
  },
  {
   "cell_type": "code",
   "execution_count": 74,
   "metadata": {},
   "outputs": [
    {
     "data": {
      "text/plain": [
       "0.0"
      ]
     },
     "execution_count": 74,
     "metadata": {},
     "output_type": "execute_result"
    }
   ],
   "source": [
    "percent_nulls(azdias)['percent_nulls'].sum()"
   ]
  },
  {
   "cell_type": "code",
   "execution_count": 75,
   "metadata": {},
   "outputs": [],
   "source": [
    "customers = feature_cat_eng(customers)"
   ]
  },
  {
   "cell_type": "code",
   "execution_count": 76,
   "metadata": {},
   "outputs": [
    {
     "data": {
      "text/plain": [
       "0.0"
      ]
     },
     "execution_count": 76,
     "metadata": {},
     "output_type": "execute_result"
    }
   ],
   "source": [
    "percent_nulls(customers)['percent_nulls'].sum()"
   ]
  },
  {
   "cell_type": "code",
   "execution_count": 77,
   "metadata": {},
   "outputs": [],
   "source": [
    "# check if categorical data is correctly displayed\n",
    "def check_categories_data(df):\n",
    "    '''\n",
    "    this function checks if categorical data is correctly displayed\n",
    "    INPUT: df - data frame to be checked\n",
    "    '''\n",
    "    for val in categories:\n",
    "        if val in df.columns:\n",
    "            print(val, azdias[val].unique())"
   ]
  },
  {
   "cell_type": "code",
   "execution_count": 78,
   "metadata": {},
   "outputs": [
    {
     "name": "stdout",
     "output_type": "stream",
     "text": [
      "CAMEO_DEUG_2015 [8. 4. 2. 6. 1. 9. 5. 7. 3.]\n",
      "CAMEO_DEU_2015 [25 35 15  5 37 13  8  0  4 42 20 36 30 21 43 40  1 12 17 14 11 18 31 39\n",
      " 27 28  7 32 41 33 22  3 38 26 24 19 16  9  6 34 10 29 23  2]\n",
      "CAMEO_INTL_2015 [51. 24. 12. 43. 54. 22. 14. 13. 15. 33. 41. 34. 55. 25. 23. 31. 52. 35.\n",
      " 45. 44. 32.]\n",
      "CJT_GESAMTTYP [2. 5. 3. 4. 1. 6.]\n",
      "D19_BANKEN_DATUM [10  5  8  6  9  1  7  4  2  3]\n",
      "D19_BANKEN_OFFLINE_DATUM [10  9  8  2  5  4  1  6  7  3]\n",
      "D19_BANKEN_ONLINE_DATUM [10  5  8  6  9  1  4  7  2  3]\n",
      "D19_GESAMT_DATUM [10  1  3  5  9  4  7  6  8  2]\n",
      "D19_GESAMT_OFFLINE_DATUM [10  6  8  9  5  2  4  1  7  3]\n",
      "D19_GESAMT_ONLINE_DATUM [10  1  3  5  9  4  7  6  8  2]\n",
      "D19_KONSUMTYP [9. 1. 4. 3. 6. 5. 2.]\n",
      "D19_TELKO_DATUM [10  6  9  8  7  5  4  2  1  3]\n",
      "D19_TELKO_OFFLINE_DATUM [10  8  9  5  6  7  4  2  3  1]\n",
      "D19_TELKO_ONLINE_DATUM [10  9  7  8  6  5  4  1  2  3]\n",
      "D19_VERSAND_DATUM [10  1  5  9  4  8  7  6  3  2]\n",
      "D19_VERSAND_OFFLINE_DATUM [10  9  6  8  5  2  1  4  7  3]\n",
      "D19_VERSAND_ONLINE_DATUM [10  1  5  9  4  8  7  6  3  2]\n",
      "D19_VERSI_DATUM [10  2  8  9  6  7  5  1  4  3]\n",
      "D19_VERSI_OFFLINE_DATUM [10  7  9  6  4  8  5  2  3  1]\n",
      "D19_VERSI_ONLINE_DATUM [10  8  9  5  6  7  4  1  2  3]\n",
      "FINANZTYP [4 1 6 5 2 3]\n",
      "GEBAEUDETYP [1. 8. 3. 2. 6. 4. 5.]\n",
      "GFK_URLAUBERTYP [10.  1.  5. 12.  9.  3.  8. 11.  4.  2.  7.  6.]\n",
      "GREEN_AVANTGARDE [0 1]\n",
      "LP_FAMILIE_FEIN [ 2.  5.  1.  0. 10.  7. 11.  3.  8.  4.  6.  9.]\n",
      "LP_FAMILIE_GROB [2. 3. 1. 0. 5. 4.]\n",
      "LP_STATUS_FEIN [ 1.  2.  3.  9.  4. 10.  5.  8.  6.  7.]\n",
      "LP_STATUS_GROB [1. 2. 4. 5. 3.]\n",
      "NATIONALITAET_KZ [1. 3. 2.]\n",
      "OST_WEST_KZ [0. 1.]\n",
      "PLZ8_BAUMAX [1. 2. 4. 5. 3.]\n",
      "SHOPPER_TYP [1. 3. 2. 0.]\n",
      "SOHO_KZ [0. 1.]\n",
      "VERS_TYP [2. 1.]\n",
      "WOHNLAGE [3. 4. 2. 7. 5. 1. 8. 0.]\n",
      "ZABEOTYP [3 5 4 1 6 2]\n"
     ]
    }
   ],
   "source": [
    "check_categories_data(azdias)"
   ]
  },
  {
   "cell_type": "code",
   "execution_count": 79,
   "metadata": {},
   "outputs": [
    {
     "name": "stdout",
     "output_type": "stream",
     "text": [
      "CAMEO_DEUG_2015 [8. 4. 2. 6. 1. 9. 5. 7. 3.]\n",
      "CAMEO_DEU_2015 [25 35 15  5 37 13  8  0  4 42 20 36 30 21 43 40  1 12 17 14 11 18 31 39\n",
      " 27 28  7 32 41 33 22  3 38 26 24 19 16  9  6 34 10 29 23  2]\n",
      "CAMEO_INTL_2015 [51. 24. 12. 43. 54. 22. 14. 13. 15. 33. 41. 34. 55. 25. 23. 31. 52. 35.\n",
      " 45. 44. 32.]\n",
      "CJT_GESAMTTYP [2. 5. 3. 4. 1. 6.]\n",
      "D19_BANKEN_DATUM [10  5  8  6  9  1  7  4  2  3]\n",
      "D19_BANKEN_OFFLINE_DATUM [10  9  8  2  5  4  1  6  7  3]\n",
      "D19_BANKEN_ONLINE_DATUM [10  5  8  6  9  1  4  7  2  3]\n",
      "D19_GESAMT_DATUM [10  1  3  5  9  4  7  6  8  2]\n",
      "D19_GESAMT_OFFLINE_DATUM [10  6  8  9  5  2  4  1  7  3]\n",
      "D19_GESAMT_ONLINE_DATUM [10  1  3  5  9  4  7  6  8  2]\n",
      "D19_KONSUMTYP [9. 1. 4. 3. 6. 5. 2.]\n",
      "D19_TELKO_DATUM [10  6  9  8  7  5  4  2  1  3]\n",
      "D19_TELKO_OFFLINE_DATUM [10  8  9  5  6  7  4  2  3  1]\n",
      "D19_TELKO_ONLINE_DATUM [10  9  7  8  6  5  4  1  2  3]\n",
      "D19_VERSAND_DATUM [10  1  5  9  4  8  7  6  3  2]\n",
      "D19_VERSAND_OFFLINE_DATUM [10  9  6  8  5  2  1  4  7  3]\n",
      "D19_VERSAND_ONLINE_DATUM [10  1  5  9  4  8  7  6  3  2]\n",
      "D19_VERSI_DATUM [10  2  8  9  6  7  5  1  4  3]\n",
      "D19_VERSI_OFFLINE_DATUM [10  7  9  6  4  8  5  2  3  1]\n",
      "D19_VERSI_ONLINE_DATUM [10  8  9  5  6  7  4  1  2  3]\n",
      "FINANZTYP [4 1 6 5 2 3]\n",
      "GEBAEUDETYP [1. 8. 3. 2. 6. 4. 5.]\n",
      "GFK_URLAUBERTYP [10.  1.  5. 12.  9.  3.  8. 11.  4.  2.  7.  6.]\n",
      "GREEN_AVANTGARDE [0 1]\n",
      "LP_FAMILIE_FEIN [ 2.  5.  1.  0. 10.  7. 11.  3.  8.  4.  6.  9.]\n",
      "LP_FAMILIE_GROB [2. 3. 1. 0. 5. 4.]\n",
      "LP_STATUS_FEIN [ 1.  2.  3.  9.  4. 10.  5.  8.  6.  7.]\n",
      "LP_STATUS_GROB [1. 2. 4. 5. 3.]\n",
      "NATIONALITAET_KZ [1. 3. 2.]\n",
      "OST_WEST_KZ [0. 1.]\n",
      "PLZ8_BAUMAX [1. 2. 4. 5. 3.]\n",
      "SHOPPER_TYP [1. 3. 2. 0.]\n",
      "SOHO_KZ [0. 1.]\n",
      "VERS_TYP [2. 1.]\n",
      "WOHNLAGE [3. 4. 2. 7. 5. 1. 8. 0.]\n",
      "ZABEOTYP [3 5 4 1 6 2]\n"
     ]
    }
   ],
   "source": [
    "check_categories_data(customers)"
   ]
  },
  {
   "cell_type": "markdown",
   "metadata": {},
   "source": [
    "Range of values can significantly differ betwen some columns, so we need to rescale data first."
   ]
  },
  {
   "cell_type": "code",
   "execution_count": 80,
   "metadata": {},
   "outputs": [],
   "source": [
    "def minmax_scal_data(df):\n",
    "    '''\n",
    "    function takes a dataframe of numbers, fit and transform it using MinMaxScaler\n",
    "    INPUT: \n",
    "        df - dataframe with data to be scaled\n",
    "    OUTPUT: \n",
    "        df_scaled - dataframe with scaled values using MinMaxScaler tool\n",
    "    '''\n",
    "    MMScaler = MinMaxScaler()\n",
    "    MMScaler.fit(df)\n",
    "    df_scaled = pd.DataFrame(MMScaler.transform(df))\n",
    "    df_scaled.columns = df.columns\n",
    "    \n",
    "    return df_scaled\n",
    "    "
   ]
  },
  {
   "cell_type": "code",
   "execution_count": 81,
   "metadata": {},
   "outputs": [],
   "source": [
    "# apply function to scal, fit and transform data\n",
    "azdias = minmax_scal_data(azdias)"
   ]
  },
  {
   "cell_type": "code",
   "execution_count": 82,
   "metadata": {},
   "outputs": [],
   "source": [
    "# apply function to scal, fit and transform data\n",
    "customers = minmax_scal_data(customers)"
   ]
  },
  {
   "cell_type": "markdown",
   "metadata": {},
   "source": [
    "As we still have lots of features in the datasets, we will apply Principal component analysis (PCA) to reduce dimensionality.\n",
    "This is Linear dimensionality reduction using Singular Value Decomposition of the data to obtain a lower dimensional space."
   ]
  },
  {
   "cell_type": "code",
   "execution_count": 84,
   "metadata": {},
   "outputs": [],
   "source": [
    "# fit azdias data set with PCA\n",
    "pca = PCA().fit(azdias)\n"
   ]
  },
  {
   "cell_type": "code",
   "execution_count": 244,
   "metadata": {},
   "outputs": [],
   "source": [
    "pca.explained_variance_ratio_;"
   ]
  },
  {
   "cell_type": "code",
   "execution_count": 93,
   "metadata": {},
   "outputs": [],
   "source": [
    "# display cumulative sum of explained variance ratio for PCA\n",
    "np.cumsum(pca.explained_variance_ratio_);"
   ]
  },
  {
   "cell_type": "code",
   "execution_count": 94,
   "metadata": {},
   "outputs": [
    {
     "data": {
      "image/png": "[encoded data removed]",
      "text/plain": [
       "<Figure size 1080x576 with 1 Axes>"
      ]
     },
     "metadata": {
      "needs_background": "light"
     },
     "output_type": "display_data"
    }
   ],
   "source": [
    "# plot cumulative sum of explained variance ratio \n",
    "plt.figure(figsize=(15,8))\n",
    "plt.plot(np.cumsum(pca.explained_variance_ratio_))\n",
    "plt.xlabel('# components')\n",
    "plt.ylabel('cumulative explained variance ratio')\n",
    "plt.title('azdias data')\n",
    "plt.show()"
   ]
  },
  {
   "cell_type": "markdown",
   "metadata": {},
   "source": [
    "Based on above chart we can see that at about 160 components cumulative variance is quite high, so we will reduce dimension  \n",
    "and choose 160 components for the features. We will then apply analysis on KMeans clustering to be able to indicate and select the number of cluster we will use for further analysis."
   ]
  },
  {
   "cell_type": "code",
   "execution_count": 95,
   "metadata": {},
   "outputs": [],
   "source": [
    "# define PCA with 160 components\n",
    "pca = PCA(160)\n",
    "\n"
   ]
  },
  {
   "cell_type": "code",
   "execution_count": 245,
   "metadata": {},
   "outputs": [],
   "source": [
    "# fit PCA with number of components = 160\n",
    "pca_160_azd = pca.fit(azdias)\n"
   ]
  },
  {
   "cell_type": "code",
   "execution_count": null,
   "metadata": {},
   "outputs": [],
   "source": [
    "pca_160_azd.explained_variance_ratio_.sum()"
   ]
  },
  {
   "cell_type": "code",
   "execution_count": null,
   "metadata": {},
   "outputs": [],
   "source": [
    "pca_160_cust = pca.fit(customers)"
   ]
  },
  {
   "cell_type": "code",
   "execution_count": 103,
   "metadata": {},
   "outputs": [
    {
     "name": "stdout",
     "output_type": "stream",
     "text": [
      "0.9119142449315873\n"
     ]
    }
   ],
   "source": [
    "\n",
    "pca_160_cust.explained_variance_ratio_.sum()"
   ]
  },
  {
   "cell_type": "code",
   "execution_count": 96,
   "metadata": {},
   "outputs": [],
   "source": [
    "# fit and transfotm pca for azdias dataset\n",
    "pca_azdias = pca.fit_transform(azdias)\n"
   ]
  },
  {
   "cell_type": "code",
   "execution_count": 109,
   "metadata": {},
   "outputs": [],
   "source": [
    "\n",
    "pca_azdias = pd.DataFrame(pca_azdias)"
   ]
  },
  {
   "cell_type": "code",
   "execution_count": 97,
   "metadata": {},
   "outputs": [],
   "source": [
    "# fit and transfotm pca for customers dataset\n",
    "pca_customers = pca.fit_transform(customers)\n"
   ]
  },
  {
   "cell_type": "code",
   "execution_count": 108,
   "metadata": {},
   "outputs": [],
   "source": [
    "pca_customers = pd.DataFrame(pca_customers)"
   ]
  },
  {
   "cell_type": "code",
   "execution_count": 110,
   "metadata": {},
   "outputs": [],
   "source": [
    "def KM_score(df, x):\n",
    "    '''\n",
    "    this function takes data frame and apply KMeans for the data\n",
    "    INPUT: df - data frame, x - number of clusters to be taken in KMeans method\n",
    "    OUTPUT - absolute value of score \n",
    "    - the value to evaluate the quality of clusters created using clustering K-Means algorithm\n",
    "    '''\n",
    "    km = KMeans(x)\n",
    "    kmod = km.fit(df)\n",
    "    return abs(kmod.score(df))"
   ]
  },
  {
   "cell_type": "code",
   "execution_count": 111,
   "metadata": {},
   "outputs": [],
   "source": [
    "scoring = []\n",
    "for i in range(1, 20):\n",
    "    scoring.append(KM_score(pca_azdias.sample(25000), i))"
   ]
  },
  {
   "cell_type": "code",
   "execution_count": 112,
   "metadata": {},
   "outputs": [
    {
     "data": {
      "text/plain": [
       "[598699.1939055084,\n",
       " 550174.0954011558,\n",
       " 528701.2332157829,\n",
       " 510979.23516808206,\n",
       " 499366.23712179717,\n",
       " 489307.4554227046,\n",
       " 482445.53664766054,\n",
       " 475203.9696105256,\n",
       " 470822.2439810693,\n",
       " 465552.0239064576,\n",
       " 460912.4759387801,\n",
       " 458341.68590075325,\n",
       " 454748.972942618,\n",
       " 448460.7517385512,\n",
       " 449520.267166136,\n",
       " 444033.8272254036,\n",
       " 443874.59872234985,\n",
       " 439552.7281994563,\n",
       " 441016.0499828033]"
      ]
     },
     "execution_count": 112,
     "metadata": {},
     "output_type": "execute_result"
    }
   ],
   "source": [
    "scoring"
   ]
  },
  {
   "cell_type": "code",
   "execution_count": 253,
   "metadata": {
    "scrolled": true
   },
   "outputs": [
    {
     "data": {
      "image/png": "[encoded data removed]",
      "text/plain": [
       "<Figure size 936x360 with 1 Axes>"
      ]
     },
     "metadata": {
      "needs_background": "light"
     },
     "output_type": "display_data"
    }
   ],
   "source": [
    "# plot graph with score values for K-Means cluster model  vs cluster\n",
    "plt.figure(figsize=(13,5))\n",
    "plt.plot(np.linspace(1,19,19), scoring,  marker='o')\n",
    "plt.xticks(list(range(1,20,1)))\n",
    "plt.ylabel('Cluster - Avg Difference')\n",
    "plt.xlabel('# clusters')\n",
    "plt.show()"
   ]
  },
  {
   "cell_type": "markdown",
   "metadata": {},
   "source": [
    "Taking a look at the above chart, I decided to apply KMeans with 10 clusters as scoring values are decreasing for more clusters."
   ]
  },
  {
   "cell_type": "code",
   "execution_count": 115,
   "metadata": {},
   "outputs": [],
   "source": [
    "km = KMeans(10)\n",
    "kmod = km.fit(pca_azdias)\n",
    "azdias_pred = kmod.predict(pca_azdias)\n",
    "customers_pred = kmod.predict(pca_customers)"
   ]
  },
  {
   "cell_type": "code",
   "execution_count": 116,
   "metadata": {},
   "outputs": [],
   "source": [
    "\n",
    "# number of predictions in each population segment\n",
    "azdias_clust = pd.Series(azdias_pred)\n",
    "pop_clust = azdias_clust.value_counts().sort_index()\n",
    "\n"
   ]
  },
  {
   "cell_type": "code",
   "execution_count": 117,
   "metadata": {},
   "outputs": [],
   "source": [
    "# number of predictions in each customer segment\n",
    "customer_clust = pd.Series(customers_pred)\n",
    "cust_clust = customer_clust.value_counts().sort_index()"
   ]
  },
  {
   "cell_type": "code",
   "execution_count": 198,
   "metadata": {},
   "outputs": [],
   "source": [
    "# dataframe for population and customer segments\n",
    "df_clust = pd.concat([pop_clust, cust_clust], axis=1).reset_index()\n",
    "df_clust.columns = ['cluster','general_population','customer']\n",
    "\n",
    "df_clust['population%'] = (df_clust['general_population']/df_clust['general_population'].sum()*100).round(2)\n",
    "df_clust['customer%'] = (df_clust['customer']/df_clust['customer'].sum()*100).round(2)\n",
    "\n"
   ]
  },
  {
   "cell_type": "code",
   "execution_count": 199,
   "metadata": {
    "scrolled": false
   },
   "outputs": [],
   "source": [
    "df_clust = pd.DataFrame(df_clust)\n"
   ]
  },
  {
   "cell_type": "code",
   "execution_count": 68,
   "metadata": {
    "scrolled": true
   },
   "outputs": [
    {
     "data": {
      "text/html": [
       "<div>\n",
       "<style scoped>\n",
       "    .dataframe tbody tr th:only-of-type {\n",
       "        vertical-align: middle;\n",
       "    }\n",
       "\n",
       "    .dataframe tbody tr th {\n",
       "        vertical-align: top;\n",
       "    }\n",
       "\n",
       "    .dataframe thead th {\n",
       "        text-align: right;\n",
       "    }\n",
       "</style>\n",
       "<table border=\"1\" class=\"dataframe\">\n",
       "  <thead>\n",
       "    <tr style=\"text-align: right;\">\n",
       "      <th></th>\n",
       "      <th>cluster</th>\n",
       "      <th>general_population</th>\n",
       "      <th>customer</th>\n",
       "      <th>population%</th>\n",
       "      <th>customer%</th>\n",
       "    </tr>\n",
       "  </thead>\n",
       "  <tbody>\n",
       "    <tr>\n",
       "      <th>0</th>\n",
       "      <td>0</td>\n",
       "      <td>94915</td>\n",
       "      <td>13424</td>\n",
       "      <td>10.65</td>\n",
       "      <td>7.00</td>\n",
       "    </tr>\n",
       "    <tr>\n",
       "      <th>1</th>\n",
       "      <td>1</td>\n",
       "      <td>86786</td>\n",
       "      <td>43127</td>\n",
       "      <td>9.74</td>\n",
       "      <td>22.50</td>\n",
       "    </tr>\n",
       "    <tr>\n",
       "      <th>2</th>\n",
       "      <td>2</td>\n",
       "      <td>101520</td>\n",
       "      <td>6494</td>\n",
       "      <td>11.39</td>\n",
       "      <td>3.39</td>\n",
       "    </tr>\n",
       "    <tr>\n",
       "      <th>3</th>\n",
       "      <td>3</td>\n",
       "      <td>55069</td>\n",
       "      <td>5691</td>\n",
       "      <td>6.18</td>\n",
       "      <td>2.97</td>\n",
       "    </tr>\n",
       "    <tr>\n",
       "      <th>4</th>\n",
       "      <td>4</td>\n",
       "      <td>76060</td>\n",
       "      <td>1946</td>\n",
       "      <td>8.53</td>\n",
       "      <td>1.02</td>\n",
       "    </tr>\n",
       "    <tr>\n",
       "      <th>5</th>\n",
       "      <td>5</td>\n",
       "      <td>128107</td>\n",
       "      <td>15767</td>\n",
       "      <td>14.37</td>\n",
       "      <td>8.23</td>\n",
       "    </tr>\n",
       "    <tr>\n",
       "      <th>6</th>\n",
       "      <td>6</td>\n",
       "      <td>76166</td>\n",
       "      <td>29150</td>\n",
       "      <td>8.55</td>\n",
       "      <td>15.21</td>\n",
       "    </tr>\n",
       "    <tr>\n",
       "      <th>7</th>\n",
       "      <td>7</td>\n",
       "      <td>87906</td>\n",
       "      <td>12128</td>\n",
       "      <td>9.86</td>\n",
       "      <td>6.33</td>\n",
       "    </tr>\n",
       "    <tr>\n",
       "      <th>8</th>\n",
       "      <td>8</td>\n",
       "      <td>78242</td>\n",
       "      <td>29992</td>\n",
       "      <td>8.78</td>\n",
       "      <td>15.65</td>\n",
       "    </tr>\n",
       "    <tr>\n",
       "      <th>9</th>\n",
       "      <td>9</td>\n",
       "      <td>106450</td>\n",
       "      <td>33933</td>\n",
       "      <td>11.94</td>\n",
       "      <td>17.71</td>\n",
       "    </tr>\n",
       "  </tbody>\n",
       "</table>\n",
       "</div>"
      ],
      "text/plain": [
       "   cluster  general_population  customer  population%  customer%\n",
       "0        0               94915     13424        10.65       7.00\n",
       "1        1               86786     43127         9.74      22.50\n",
       "2        2              101520      6494        11.39       3.39\n",
       "3        3               55069      5691         6.18       2.97\n",
       "4        4               76060      1946         8.53       1.02\n",
       "5        5              128107     15767        14.37       8.23\n",
       "6        6               76166     29150         8.55      15.21\n",
       "7        7               87906     12128         9.86       6.33\n",
       "8        8               78242     29992         8.78      15.65\n",
       "9        9              106450     33933        11.94      17.71"
      ]
     },
     "execution_count": 68,
     "metadata": {},
     "output_type": "execute_result"
    }
   ],
   "source": [
    "df_clust"
   ]
  },
  {
   "cell_type": "code",
   "execution_count": 72,
   "metadata": {},
   "outputs": [
    {
     "data": {
      "text/plain": [
       "<Figure size 936x360 with 0 Axes>"
      ]
     },
     "metadata": {},
     "output_type": "display_data"
    },
    {
     "data": {
      "image/png": "[encoded data removed]",
      "text/plain": [
       "<Figure size 432x288 with 1 Axes>"
      ]
     },
     "metadata": {
      "needs_background": "light"
     },
     "output_type": "display_data"
    }
   ],
   "source": [
    "plt.figure(figsize=(13,5))\n",
    "\n",
    "df_clust.plot(x = 'cluster', y =['population%','customer%'] , color=['blue','green'] ,kind ='bar')\n",
    "plt.xlabel('cluster') \n",
    "plt.ylabel('% data')\n",
    "plt.legend(('General Population', 'Customers'))\n",
    "plt.title(('Percent of General Population vs Customers segments per cluster'))\n",
    "plt.show()\n",
    "\n",
    "plt.show()"
   ]
  },
  {
   "cell_type": "markdown",
   "metadata": {},
   "source": [
    "## Part 2: Supervised Learning Model\n",
    "\n",
    "Now that you've found which parts of the population are more likely to be customers of the mail-order company, it's time to build a prediction model. Each of the rows in the \"MAILOUT\" data files represents an individual that was targeted for a mailout campaign. Ideally, we should be able to use the demographic information from each individual to decide whether or not it will be worth it to include that person in the campaign.\n",
    "\n",
    "The \"MAILOUT\" data has been split into two approximately equal parts, each with almost 43 000 data rows. In this part, you can verify your model with the \"TRAIN\" partition, which includes a column, \"RESPONSE\", that states whether or not a person became a customer of the company following the campaign. In the next part, you'll need to create predictions on the \"TEST\" partition, where the \"RESPONSE\" column has been withheld."
   ]
  },
  {
   "cell_type": "code",
   "execution_count": 5,
   "metadata": {},
   "outputs": [],
   "source": [
    "mailout_train = pd.read_csv('../../data/Term2/capstone/arvato_data/Udacity_MAILOUT_052018_TRAIN.csv', sep=';')"
   ]
  },
  {
   "cell_type": "code",
   "execution_count": 112,
   "metadata": {},
   "outputs": [],
   "source": [
    "mailout_test = pd.read_csv('../../data/Term2/capstone/arvato_data/Udacity_MAILOUT_052018_TEST.csv', sep=';')"
   ]
  },
  {
   "cell_type": "code",
   "execution_count": 5,
   "metadata": {
    "scrolled": false
   },
   "outputs": [
    {
     "data": {
      "text/plain": [
       "(42962, 367)"
      ]
     },
     "execution_count": 5,
     "metadata": {},
     "output_type": "execute_result"
    }
   ],
   "source": [
    "mailout_train.shape"
   ]
  },
  {
   "cell_type": "code",
   "execution_count": 6,
   "metadata": {},
   "outputs": [
    {
     "data": {
      "text/plain": [
       "(42833, 366)"
      ]
     },
     "execution_count": 6,
     "metadata": {},
     "output_type": "execute_result"
    }
   ],
   "source": [
    "mailout_test.shape"
   ]
  },
  {
   "cell_type": "code",
   "execution_count": 7,
   "metadata": {},
   "outputs": [
    {
     "data": {
      "text/plain": [
       "{'RESPONSE'}"
      ]
     },
     "execution_count": 7,
     "metadata": {},
     "output_type": "execute_result"
    }
   ],
   "source": [
    "set(mailout_train.columns) - set(mailout_test.columns)"
   ]
  },
  {
   "cell_type": "markdown",
   "metadata": {},
   "source": [
    "**We will clean data using the same steps like for azdias and customers data sets.**"
   ]
  },
  {
   "cell_type": "code",
   "execution_count": 8,
   "metadata": {},
   "outputs": [],
   "source": [
    "# replace 'X' with null and set column type as float for all CAMEO_DEUG_2015 column values in train and test datasets\n",
    "mailout_train['CAMEO_DEUG_2015'] = mailout_train['CAMEO_DEUG_2015'].replace({'X':np.nan}).astype(float)\n",
    "mailout_test['CAMEO_DEUG_2015'] = mailout_test['CAMEO_DEUG_2015'].replace({'X':np.nan}).astype(float)\n",
    " "
   ]
  },
  {
   "cell_type": "code",
   "execution_count": 9,
   "metadata": {},
   "outputs": [],
   "source": [
    "# replace 'X' with null and set column type as float for all CAMEO_INTL_2015 column values in train and test datasets\n",
    "mailout_train['CAMEO_INTL_2015'] = mailout_train['CAMEO_INTL_2015'].replace({'XX':np.nan}).astype(float)\n",
    "mailout_test['CAMEO_INTL_2015'] = mailout_test['CAMEO_INTL_2015'].replace({'XX':np.nan}).astype(float)"
   ]
  },
  {
   "cell_type": "code",
   "execution_count": 10,
   "metadata": {},
   "outputs": [],
   "source": [
    "# additionally we replce uniformly distributed values with nulls for ALTERSKATEGORIE_GROB                \n",
    "mailout_train['ALTERSKATEGORIE_GROB'].replace(9, np.nan, inplace=True)         \n",
    "mailout_test['ALTERSKATEGORIE_GROB'].replace(9, np.nan, inplace=True) "
   ]
  },
  {
   "cell_type": "code",
   "execution_count": 45,
   "metadata": {},
   "outputs": [],
   "source": [
    "# apply add_missing_values to azdias dataset\n",
    "add_missing_values(mailout_train,att_tr)\n",
    "add_missing_values(mailout_test,att_tr)"
   ]
  },
  {
   "cell_type": "code",
   "execution_count": 46,
   "metadata": {},
   "outputs": [],
   "source": [
    "# check percentage of nulls\n",
    "train_percent_nulls = percent_nulls(mailout_train)\n",
    "test_percent_nulls = percent_nulls(mailout_test)"
   ]
  },
  {
   "cell_type": "code",
   "execution_count": 47,
   "metadata": {},
   "outputs": [
    {
     "data": {
      "text/html": [
       "<div>\n",
       "<style scoped>\n",
       "    .dataframe tbody tr th:only-of-type {\n",
       "        vertical-align: middle;\n",
       "    }\n",
       "\n",
       "    .dataframe tbody tr th {\n",
       "        vertical-align: top;\n",
       "    }\n",
       "\n",
       "    .dataframe thead th {\n",
       "        text-align: right;\n",
       "    }\n",
       "</style>\n",
       "<table border=\"1\" class=\"dataframe\">\n",
       "  <thead>\n",
       "    <tr style=\"text-align: right;\">\n",
       "      <th></th>\n",
       "      <th>col_name</th>\n",
       "      <th>percent_nulls</th>\n",
       "    </tr>\n",
       "  </thead>\n",
       "  <tbody>\n",
       "    <tr>\n",
       "      <th>ALTER_HH</th>\n",
       "      <td>ALTER_HH</td>\n",
       "      <td>30.671291</td>\n",
       "    </tr>\n",
       "    <tr>\n",
       "      <th>EXTSEL992</th>\n",
       "      <td>EXTSEL992</td>\n",
       "      <td>37.121177</td>\n",
       "    </tr>\n",
       "    <tr>\n",
       "      <th>AGER_TYP</th>\n",
       "      <td>AGER_TYP</td>\n",
       "      <td>41.811368</td>\n",
       "    </tr>\n",
       "    <tr>\n",
       "      <th>KBA05_BAUMAX</th>\n",
       "      <td>KBA05_BAUMAX</td>\n",
       "      <td>53.489130</td>\n",
       "    </tr>\n",
       "    <tr>\n",
       "      <th>KK_KUNDENTYP</th>\n",
       "      <td>KK_KUNDENTYP</td>\n",
       "      <td>58.926493</td>\n",
       "    </tr>\n",
       "    <tr>\n",
       "      <th>ALTER_KIND1</th>\n",
       "      <td>ALTER_KIND1</td>\n",
       "      <td>95.372655</td>\n",
       "    </tr>\n",
       "    <tr>\n",
       "      <th>ALTER_KIND2</th>\n",
       "      <td>ALTER_KIND2</td>\n",
       "      <td>98.240305</td>\n",
       "    </tr>\n",
       "    <tr>\n",
       "      <th>TITEL_KZ</th>\n",
       "      <td>TITEL_KZ</td>\n",
       "      <td>99.504213</td>\n",
       "    </tr>\n",
       "    <tr>\n",
       "      <th>ALTER_KIND3</th>\n",
       "      <td>ALTER_KIND3</td>\n",
       "      <td>99.594991</td>\n",
       "    </tr>\n",
       "    <tr>\n",
       "      <th>ALTER_KIND4</th>\n",
       "      <td>ALTER_KIND4</td>\n",
       "      <td>99.904567</td>\n",
       "    </tr>\n",
       "  </tbody>\n",
       "</table>\n",
       "</div>"
      ],
      "text/plain": [
       "                  col_name  percent_nulls\n",
       "ALTER_HH          ALTER_HH      30.671291\n",
       "EXTSEL992        EXTSEL992      37.121177\n",
       "AGER_TYP          AGER_TYP      41.811368\n",
       "KBA05_BAUMAX  KBA05_BAUMAX      53.489130\n",
       "KK_KUNDENTYP  KK_KUNDENTYP      58.926493\n",
       "ALTER_KIND1    ALTER_KIND1      95.372655\n",
       "ALTER_KIND2    ALTER_KIND2      98.240305\n",
       "TITEL_KZ          TITEL_KZ      99.504213\n",
       "ALTER_KIND3    ALTER_KIND3      99.594991\n",
       "ALTER_KIND4    ALTER_KIND4      99.904567"
      ]
     },
     "execution_count": 47,
     "metadata": {},
     "output_type": "execute_result"
    }
   ],
   "source": [
    "# find features having 30% nulls or more for training data\n",
    "train_percent_nulls[train_percent_nulls.percent_nulls >= 30].sort_values('percent_nulls')"
   ]
  },
  {
   "cell_type": "code",
   "execution_count": 48,
   "metadata": {},
   "outputs": [
    {
     "data": {
      "text/html": [
       "<div>\n",
       "<style scoped>\n",
       "    .dataframe tbody tr th:only-of-type {\n",
       "        vertical-align: middle;\n",
       "    }\n",
       "\n",
       "    .dataframe tbody tr th {\n",
       "        vertical-align: top;\n",
       "    }\n",
       "\n",
       "    .dataframe thead th {\n",
       "        text-align: right;\n",
       "    }\n",
       "</style>\n",
       "<table border=\"1\" class=\"dataframe\">\n",
       "  <thead>\n",
       "    <tr style=\"text-align: right;\">\n",
       "      <th></th>\n",
       "      <th>col_name</th>\n",
       "      <th>percent_nulls</th>\n",
       "    </tr>\n",
       "  </thead>\n",
       "  <tbody>\n",
       "    <tr>\n",
       "      <th>ALTER_HH</th>\n",
       "      <td>ALTER_HH</td>\n",
       "      <td>30.889735</td>\n",
       "    </tr>\n",
       "    <tr>\n",
       "      <th>EXTSEL992</th>\n",
       "      <td>EXTSEL992</td>\n",
       "      <td>36.908458</td>\n",
       "    </tr>\n",
       "    <tr>\n",
       "      <th>AGER_TYP</th>\n",
       "      <td>AGER_TYP</td>\n",
       "      <td>42.016669</td>\n",
       "    </tr>\n",
       "    <tr>\n",
       "      <th>KBA05_BAUMAX</th>\n",
       "      <td>KBA05_BAUMAX</td>\n",
       "      <td>53.286018</td>\n",
       "    </tr>\n",
       "    <tr>\n",
       "      <th>KK_KUNDENTYP</th>\n",
       "      <td>KK_KUNDENTYP</td>\n",
       "      <td>58.447926</td>\n",
       "    </tr>\n",
       "    <tr>\n",
       "      <th>ALTER_KIND1</th>\n",
       "      <td>ALTER_KIND1</td>\n",
       "      <td>95.300353</td>\n",
       "    </tr>\n",
       "    <tr>\n",
       "      <th>ALTER_KIND2</th>\n",
       "      <td>ALTER_KIND2</td>\n",
       "      <td>98.220998</td>\n",
       "    </tr>\n",
       "    <tr>\n",
       "      <th>TITEL_KZ</th>\n",
       "      <td>TITEL_KZ</td>\n",
       "      <td>99.425676</td>\n",
       "    </tr>\n",
       "    <tr>\n",
       "      <th>ALTER_KIND3</th>\n",
       "      <td>ALTER_KIND3</td>\n",
       "      <td>99.530736</td>\n",
       "    </tr>\n",
       "    <tr>\n",
       "      <th>ALTER_KIND4</th>\n",
       "      <td>ALTER_KIND4</td>\n",
       "      <td>99.908949</td>\n",
       "    </tr>\n",
       "  </tbody>\n",
       "</table>\n",
       "</div>"
      ],
      "text/plain": [
       "                  col_name  percent_nulls\n",
       "ALTER_HH          ALTER_HH      30.889735\n",
       "EXTSEL992        EXTSEL992      36.908458\n",
       "AGER_TYP          AGER_TYP      42.016669\n",
       "KBA05_BAUMAX  KBA05_BAUMAX      53.286018\n",
       "KK_KUNDENTYP  KK_KUNDENTYP      58.447926\n",
       "ALTER_KIND1    ALTER_KIND1      95.300353\n",
       "ALTER_KIND2    ALTER_KIND2      98.220998\n",
       "TITEL_KZ          TITEL_KZ      99.425676\n",
       "ALTER_KIND3    ALTER_KIND3      99.530736\n",
       "ALTER_KIND4    ALTER_KIND4      99.908949"
      ]
     },
     "execution_count": 48,
     "metadata": {},
     "output_type": "execute_result"
    }
   ],
   "source": [
    "# find features having 30% nulls or more for test data\n",
    "test_percent_nulls[test_percent_nulls.percent_nulls >= 30].sort_values('percent_nulls')"
   ]
  },
  {
   "cell_type": "code",
   "execution_count": 49,
   "metadata": {},
   "outputs": [
    {
     "data": {
      "text/plain": [
       "{'AGER_TYP',\n",
       " 'ALTER_HH',\n",
       " 'ALTER_KIND1',\n",
       " 'ALTER_KIND2',\n",
       " 'ALTER_KIND3',\n",
       " 'ALTER_KIND4',\n",
       " 'EXTSEL992',\n",
       " 'KBA05_BAUMAX',\n",
       " 'KK_KUNDENTYP',\n",
       " 'TITEL_KZ'}"
      ]
     },
     "execution_count": 49,
     "metadata": {},
     "output_type": "execute_result"
    }
   ],
   "source": [
    "test_nul_cust = set(test_percent_nulls[test_percent_nulls.percent_nulls > 30].sort_values('percent_nulls')['col_name'])\n",
    "test_nul_cust"
   ]
  },
  {
   "cell_type": "code",
   "execution_count": 50,
   "metadata": {},
   "outputs": [
    {
     "data": {
      "text/plain": [
       "{'AGER_TYP',\n",
       " 'ALTER_HH',\n",
       " 'ALTER_KIND1',\n",
       " 'ALTER_KIND2',\n",
       " 'ALTER_KIND3',\n",
       " 'ALTER_KIND4',\n",
       " 'EXTSEL992',\n",
       " 'KBA05_BAUMAX',\n",
       " 'KK_KUNDENTYP',\n",
       " 'TITEL_KZ'}"
      ]
     },
     "execution_count": 50,
     "metadata": {},
     "output_type": "execute_result"
    }
   ],
   "source": [
    "train_nul_cust = set(train_percent_nulls[train_percent_nulls.percent_nulls > 30].sort_values('percent_nulls')['col_name'])\n",
    "train_nul_cust"
   ]
  },
  {
   "cell_type": "code",
   "execution_count": 51,
   "metadata": {},
   "outputs": [
    {
     "data": {
      "text/plain": [
       "set()"
      ]
     },
     "execution_count": 51,
     "metadata": {},
     "output_type": "execute_result"
    }
   ],
   "source": [
    "set(test_nul_cust)- set(train_nul_cust)"
   ]
  },
  {
   "cell_type": "code",
   "execution_count": 52,
   "metadata": {
    "scrolled": true
   },
   "outputs": [
    {
     "data": {
      "text/plain": [
       "set()"
      ]
     },
     "execution_count": 52,
     "metadata": {},
     "output_type": "execute_result"
    }
   ],
   "source": [
    "set(train_nul_cust) -set(test_nul_cust)"
   ]
  },
  {
   "cell_type": "code",
   "execution_count": 53,
   "metadata": {},
   "outputs": [],
   "source": [
    "feature_list_train = list(set(mailout_train.columns) - set(train_nul_cust) )\n",
    "feature_list_test= list(set(mailout_test.columns) - set(test_nul_cust) )\n"
   ]
  },
  {
   "cell_type": "code",
   "execution_count": 54,
   "metadata": {},
   "outputs": [],
   "source": [
    "mailout_train = mailout_train[feature_list_train]\n",
    "mailout_test = mailout_test[feature_list_test]"
   ]
  },
  {
   "cell_type": "code",
   "execution_count": 55,
   "metadata": {},
   "outputs": [
    {
     "data": {
      "text/plain": [
       "{'RESPONSE'}"
      ]
     },
     "execution_count": 55,
     "metadata": {},
     "output_type": "execute_result"
    }
   ],
   "source": [
    "set(mailout_train.columns) - set(mailout_test.columns)"
   ]
  },
  {
   "cell_type": "markdown",
   "metadata": {},
   "source": [
    "There are the same columns exept for the RESPONSE which is not available in the test dataset."
   ]
  },
  {
   "cell_type": "code",
   "execution_count": 56,
   "metadata": {},
   "outputs": [
    {
     "data": {
      "text/plain": [
       "['TITEL_KZ', 'KK_KUNDENTYP', 'AGER_TYP', 'KBA05_BAUMAX']"
      ]
     },
     "execution_count": 56,
     "metadata": {},
     "output_type": "execute_result"
    }
   ],
   "source": [
    "cat_diff = list(set(categories) - set(feature_list_train))\n",
    "cat_diff"
   ]
  },
  {
   "cell_type": "code",
   "execution_count": 57,
   "metadata": {},
   "outputs": [],
   "source": [
    "#define category list with categorical features by removing those features which are not available in the created above training feature list\n",
    "categories = list(set(categories) - set(cat_diff))\n",
    "categories.sort()"
   ]
  },
  {
   "cell_type": "code",
   "execution_count": 58,
   "metadata": {},
   "outputs": [],
   "source": [
    "# clean data using created in the first part feature_cat_eng function\n",
    "mailout_train = feature_cat_eng(mailout_train)\n",
    "mailout_test = feature_cat_eng(mailout_test)\n"
   ]
  },
  {
   "cell_type": "code",
   "execution_count": 59,
   "metadata": {},
   "outputs": [
    {
     "data": {
      "text/plain": [
       "0.0"
      ]
     },
     "execution_count": 59,
     "metadata": {},
     "output_type": "execute_result"
    }
   ],
   "source": [
    "percent_nulls(mailout_train)['percent_nulls'].sum()"
   ]
  },
  {
   "cell_type": "code",
   "execution_count": 60,
   "metadata": {},
   "outputs": [
    {
     "data": {
      "text/plain": [
       "0.0"
      ]
     },
     "execution_count": 60,
     "metadata": {},
     "output_type": "execute_result"
    }
   ],
   "source": [
    "percent_nulls(mailout_test)['percent_nulls'].sum()"
   ]
  },
  {
   "cell_type": "code",
   "execution_count": 61,
   "metadata": {},
   "outputs": [],
   "source": [
    "# define X for train dataset\n",
    "mailout_train_X = mailout_train.drop(['RESPONSE'], inplace=False, axis=1)\n"
   ]
  },
  {
   "cell_type": "code",
   "execution_count": 62,
   "metadata": {},
   "outputs": [],
   "source": [
    "# define y for train dataset\n",
    "mailout_train_y = mailout_train['RESPONSE']"
   ]
  },
  {
   "cell_type": "code",
   "execution_count": 63,
   "metadata": {},
   "outputs": [],
   "source": [
    "# drop LNR column from mailut train data\n",
    "mailout_train_X = mailout_train_X.drop(['LNR'], inplace=False, axis=1)\n"
   ]
  },
  {
   "cell_type": "code",
   "execution_count": 101,
   "metadata": {},
   "outputs": [],
   "source": [
    "# drop LNR column from mailout test data\n",
    "mailout_test_X = mailout_test.drop(['LNR'], inplace=False, axis=1)\n"
   ]
  },
  {
   "cell_type": "code",
   "execution_count": 102,
   "metadata": {},
   "outputs": [
    {
     "data": {
      "text/plain": [
       "(42962, 356)"
      ]
     },
     "execution_count": 102,
     "metadata": {},
     "output_type": "execute_result"
    }
   ],
   "source": [
    "mailout_train_X.shape"
   ]
  },
  {
   "cell_type": "code",
   "execution_count": 103,
   "metadata": {},
   "outputs": [
    {
     "data": {
      "text/plain": [
       "(42833, 356)"
      ]
     },
     "execution_count": 103,
     "metadata": {},
     "output_type": "execute_result"
    }
   ],
   "source": [
    "mailout_test_X.shape"
   ]
  },
  {
   "cell_type": "code",
   "execution_count": 104,
   "metadata": {},
   "outputs": [
    {
     "data": {
      "text/html": [
       "<div>\n",
       "<style scoped>\n",
       "    .dataframe tbody tr th:only-of-type {\n",
       "        vertical-align: middle;\n",
       "    }\n",
       "\n",
       "    .dataframe tbody tr th {\n",
       "        vertical-align: top;\n",
       "    }\n",
       "\n",
       "    .dataframe thead th {\n",
       "        text-align: right;\n",
       "    }\n",
       "</style>\n",
       "<table border=\"1\" class=\"dataframe\">\n",
       "  <thead>\n",
       "    <tr style=\"text-align: right;\">\n",
       "      <th></th>\n",
       "      <th>KBA13_BAUMAX</th>\n",
       "      <th>D19_TELKO_ANZ_24</th>\n",
       "      <th>KBA05_CCM3</th>\n",
       "      <th>FINANZ_HAUSBAUER</th>\n",
       "      <th>KBA13_VORB_3</th>\n",
       "      <th>D19_TIERARTIKEL</th>\n",
       "      <th>SEMIO_PFLICHT</th>\n",
       "      <th>D19_VERSI_ANZ_12</th>\n",
       "      <th>D19_GESAMT_DATUM</th>\n",
       "      <th>D19_GARTEN</th>\n",
       "      <th>...</th>\n",
       "      <th>KBA05_MOD8</th>\n",
       "      <th>KBA05_MAXBJ</th>\n",
       "      <th>KBA13_CCM_3000</th>\n",
       "      <th>GEBURTSJAHR</th>\n",
       "      <th>KBA13_KMH_0_140</th>\n",
       "      <th>KBA13_KRSHERST_AUDI_VW</th>\n",
       "      <th>ANREDE_KZ_1.0</th>\n",
       "      <th>ANREDE_KZ_2.0</th>\n",
       "      <th>ANREDE_KZ_nan</th>\n",
       "      <th>PRAEGENDE_JUGENDJAHRE_M</th>\n",
       "    </tr>\n",
       "  </thead>\n",
       "  <tbody>\n",
       "    <tr>\n",
       "      <th>0</th>\n",
       "      <td>2.0</td>\n",
       "      <td>0</td>\n",
       "      <td>3.0</td>\n",
       "      <td>3</td>\n",
       "      <td>0.0</td>\n",
       "      <td>0</td>\n",
       "      <td>1</td>\n",
       "      <td>0</td>\n",
       "      <td>4</td>\n",
       "      <td>0</td>\n",
       "      <td>...</td>\n",
       "      <td>1.0</td>\n",
       "      <td>1.0</td>\n",
       "      <td>4.0</td>\n",
       "      <td>0</td>\n",
       "      <td>1.0</td>\n",
       "      <td>4.0</td>\n",
       "      <td>1</td>\n",
       "      <td>0</td>\n",
       "      <td>0</td>\n",
       "      <td>1.0</td>\n",
       "    </tr>\n",
       "    <tr>\n",
       "      <th>1</th>\n",
       "      <td>3.0</td>\n",
       "      <td>0</td>\n",
       "      <td>5.0</td>\n",
       "      <td>5</td>\n",
       "      <td>5.0</td>\n",
       "      <td>0</td>\n",
       "      <td>3</td>\n",
       "      <td>0</td>\n",
       "      <td>9</td>\n",
       "      <td>0</td>\n",
       "      <td>...</td>\n",
       "      <td>0.0</td>\n",
       "      <td>2.0</td>\n",
       "      <td>3.0</td>\n",
       "      <td>0</td>\n",
       "      <td>4.0</td>\n",
       "      <td>3.0</td>\n",
       "      <td>1</td>\n",
       "      <td>0</td>\n",
       "      <td>0</td>\n",
       "      <td>3.0</td>\n",
       "    </tr>\n",
       "    <tr>\n",
       "      <th>2</th>\n",
       "      <td>1.0</td>\n",
       "      <td>0</td>\n",
       "      <td>4.0</td>\n",
       "      <td>4</td>\n",
       "      <td>0.0</td>\n",
       "      <td>0</td>\n",
       "      <td>4</td>\n",
       "      <td>0</td>\n",
       "      <td>10</td>\n",
       "      <td>0</td>\n",
       "      <td>...</td>\n",
       "      <td>3.0</td>\n",
       "      <td>4.0</td>\n",
       "      <td>3.0</td>\n",
       "      <td>1946</td>\n",
       "      <td>3.0</td>\n",
       "      <td>3.0</td>\n",
       "      <td>0</td>\n",
       "      <td>1</td>\n",
       "      <td>0</td>\n",
       "      <td>3.0</td>\n",
       "    </tr>\n",
       "    <tr>\n",
       "      <th>3</th>\n",
       "      <td>1.0</td>\n",
       "      <td>0</td>\n",
       "      <td>3.0</td>\n",
       "      <td>4</td>\n",
       "      <td>5.0</td>\n",
       "      <td>0</td>\n",
       "      <td>2</td>\n",
       "      <td>0</td>\n",
       "      <td>8</td>\n",
       "      <td>6</td>\n",
       "      <td>...</td>\n",
       "      <td>2.0</td>\n",
       "      <td>1.0</td>\n",
       "      <td>2.0</td>\n",
       "      <td>0</td>\n",
       "      <td>3.0</td>\n",
       "      <td>5.0</td>\n",
       "      <td>0</td>\n",
       "      <td>1</td>\n",
       "      <td>0</td>\n",
       "      <td>3.0</td>\n",
       "    </tr>\n",
       "    <tr>\n",
       "      <th>4</th>\n",
       "      <td>1.0</td>\n",
       "      <td>1</td>\n",
       "      <td>5.0</td>\n",
       "      <td>2</td>\n",
       "      <td>4.0</td>\n",
       "      <td>7</td>\n",
       "      <td>3</td>\n",
       "      <td>0</td>\n",
       "      <td>2</td>\n",
       "      <td>5</td>\n",
       "      <td>...</td>\n",
       "      <td>2.0</td>\n",
       "      <td>1.0</td>\n",
       "      <td>1.0</td>\n",
       "      <td>1956</td>\n",
       "      <td>1.0</td>\n",
       "      <td>5.0</td>\n",
       "      <td>0</td>\n",
       "      <td>1</td>\n",
       "      <td>0</td>\n",
       "      <td>4.0</td>\n",
       "    </tr>\n",
       "  </tbody>\n",
       "</table>\n",
       "<p>5 rows × 356 columns</p>\n",
       "</div>"
      ],
      "text/plain": [
       "   KBA13_BAUMAX  D19_TELKO_ANZ_24  KBA05_CCM3  FINANZ_HAUSBAUER  KBA13_VORB_3  \\\n",
       "0           2.0                 0         3.0                 3           0.0   \n",
       "1           3.0                 0         5.0                 5           5.0   \n",
       "2           1.0                 0         4.0                 4           0.0   \n",
       "3           1.0                 0         3.0                 4           5.0   \n",
       "4           1.0                 1         5.0                 2           4.0   \n",
       "\n",
       "   D19_TIERARTIKEL  SEMIO_PFLICHT  D19_VERSI_ANZ_12  D19_GESAMT_DATUM  \\\n",
       "0                0              1                 0                 4   \n",
       "1                0              3                 0                 9   \n",
       "2                0              4                 0                10   \n",
       "3                0              2                 0                 8   \n",
       "4                7              3                 0                 2   \n",
       "\n",
       "   D19_GARTEN  ...  KBA05_MOD8  KBA05_MAXBJ  KBA13_CCM_3000  GEBURTSJAHR  \\\n",
       "0           0  ...         1.0          1.0             4.0            0   \n",
       "1           0  ...         0.0          2.0             3.0            0   \n",
       "2           0  ...         3.0          4.0             3.0         1946   \n",
       "3           6  ...         2.0          1.0             2.0            0   \n",
       "4           5  ...         2.0          1.0             1.0         1956   \n",
       "\n",
       "   KBA13_KMH_0_140  KBA13_KRSHERST_AUDI_VW  ANREDE_KZ_1.0  ANREDE_KZ_2.0  \\\n",
       "0              1.0                     4.0              1              0   \n",
       "1              4.0                     3.0              1              0   \n",
       "2              3.0                     3.0              0              1   \n",
       "3              3.0                     5.0              0              1   \n",
       "4              1.0                     5.0              0              1   \n",
       "\n",
       "   ANREDE_KZ_nan  PRAEGENDE_JUGENDJAHRE_M  \n",
       "0              0                      1.0  \n",
       "1              0                      3.0  \n",
       "2              0                      3.0  \n",
       "3              0                      3.0  \n",
       "4              0                      4.0  \n",
       "\n",
       "[5 rows x 356 columns]"
      ]
     },
     "execution_count": 104,
     "metadata": {},
     "output_type": "execute_result"
    }
   ],
   "source": [
    "mailout_test_X.head()"
   ]
  },
  {
   "cell_type": "code",
   "execution_count": 105,
   "metadata": {},
   "outputs": [
    {
     "data": {
      "text/html": [
       "<div>\n",
       "<style scoped>\n",
       "    .dataframe tbody tr th:only-of-type {\n",
       "        vertical-align: middle;\n",
       "    }\n",
       "\n",
       "    .dataframe tbody tr th {\n",
       "        vertical-align: top;\n",
       "    }\n",
       "\n",
       "    .dataframe thead th {\n",
       "        text-align: right;\n",
       "    }\n",
       "</style>\n",
       "<table border=\"1\" class=\"dataframe\">\n",
       "  <thead>\n",
       "    <tr style=\"text-align: right;\">\n",
       "      <th></th>\n",
       "      <th>KBA13_BAUMAX</th>\n",
       "      <th>D19_TELKO_ANZ_24</th>\n",
       "      <th>KBA05_CCM3</th>\n",
       "      <th>FINANZ_HAUSBAUER</th>\n",
       "      <th>KBA13_VORB_3</th>\n",
       "      <th>D19_TIERARTIKEL</th>\n",
       "      <th>SEMIO_PFLICHT</th>\n",
       "      <th>D19_VERSI_ANZ_12</th>\n",
       "      <th>D19_GESAMT_DATUM</th>\n",
       "      <th>D19_GARTEN</th>\n",
       "      <th>...</th>\n",
       "      <th>KBA05_MOD8</th>\n",
       "      <th>KBA05_MAXBJ</th>\n",
       "      <th>KBA13_CCM_3000</th>\n",
       "      <th>GEBURTSJAHR</th>\n",
       "      <th>KBA13_KMH_0_140</th>\n",
       "      <th>KBA13_KRSHERST_AUDI_VW</th>\n",
       "      <th>ANREDE_KZ_1.0</th>\n",
       "      <th>ANREDE_KZ_2.0</th>\n",
       "      <th>ANREDE_KZ_nan</th>\n",
       "      <th>PRAEGENDE_JUGENDJAHRE_M</th>\n",
       "    </tr>\n",
       "  </thead>\n",
       "  <tbody>\n",
       "    <tr>\n",
       "      <th>0</th>\n",
       "      <td>5.0</td>\n",
       "      <td>0</td>\n",
       "      <td>2.0</td>\n",
       "      <td>5</td>\n",
       "      <td>2.0</td>\n",
       "      <td>0</td>\n",
       "      <td>3</td>\n",
       "      <td>0</td>\n",
       "      <td>9</td>\n",
       "      <td>0</td>\n",
       "      <td>...</td>\n",
       "      <td>0.0</td>\n",
       "      <td>3.0</td>\n",
       "      <td>3.0</td>\n",
       "      <td>0</td>\n",
       "      <td>3.0</td>\n",
       "      <td>3.0</td>\n",
       "      <td>0</td>\n",
       "      <td>1</td>\n",
       "      <td>0</td>\n",
       "      <td>2.0</td>\n",
       "    </tr>\n",
       "    <tr>\n",
       "      <th>1</th>\n",
       "      <td>1.0</td>\n",
       "      <td>1</td>\n",
       "      <td>3.0</td>\n",
       "      <td>3</td>\n",
       "      <td>3.0</td>\n",
       "      <td>6</td>\n",
       "      <td>5</td>\n",
       "      <td>0</td>\n",
       "      <td>1</td>\n",
       "      <td>0</td>\n",
       "      <td>...</td>\n",
       "      <td>2.0</td>\n",
       "      <td>1.0</td>\n",
       "      <td>2.0</td>\n",
       "      <td>1957</td>\n",
       "      <td>4.0</td>\n",
       "      <td>4.0</td>\n",
       "      <td>0</td>\n",
       "      <td>1</td>\n",
       "      <td>0</td>\n",
       "      <td>4.0</td>\n",
       "    </tr>\n",
       "    <tr>\n",
       "      <th>2</th>\n",
       "      <td>1.0</td>\n",
       "      <td>0</td>\n",
       "      <td>2.0</td>\n",
       "      <td>2</td>\n",
       "      <td>2.0</td>\n",
       "      <td>0</td>\n",
       "      <td>1</td>\n",
       "      <td>0</td>\n",
       "      <td>6</td>\n",
       "      <td>0</td>\n",
       "      <td>...</td>\n",
       "      <td>0.0</td>\n",
       "      <td>4.0</td>\n",
       "      <td>2.0</td>\n",
       "      <td>1929</td>\n",
       "      <td>1.0</td>\n",
       "      <td>4.0</td>\n",
       "      <td>1</td>\n",
       "      <td>0</td>\n",
       "      <td>0</td>\n",
       "      <td>1.0</td>\n",
       "    </tr>\n",
       "    <tr>\n",
       "      <th>3</th>\n",
       "      <td>1.0</td>\n",
       "      <td>0</td>\n",
       "      <td>2.0</td>\n",
       "      <td>5</td>\n",
       "      <td>3.0</td>\n",
       "      <td>0</td>\n",
       "      <td>4</td>\n",
       "      <td>0</td>\n",
       "      <td>10</td>\n",
       "      <td>0</td>\n",
       "      <td>...</td>\n",
       "      <td>0.0</td>\n",
       "      <td>4.0</td>\n",
       "      <td>5.0</td>\n",
       "      <td>1924</td>\n",
       "      <td>5.0</td>\n",
       "      <td>3.0</td>\n",
       "      <td>0</td>\n",
       "      <td>1</td>\n",
       "      <td>0</td>\n",
       "      <td>1.0</td>\n",
       "    </tr>\n",
       "    <tr>\n",
       "      <th>4</th>\n",
       "      <td>1.0</td>\n",
       "      <td>0</td>\n",
       "      <td>4.0</td>\n",
       "      <td>5</td>\n",
       "      <td>0.0</td>\n",
       "      <td>0</td>\n",
       "      <td>4</td>\n",
       "      <td>0</td>\n",
       "      <td>7</td>\n",
       "      <td>0</td>\n",
       "      <td>...</td>\n",
       "      <td>1.0</td>\n",
       "      <td>4.0</td>\n",
       "      <td>4.0</td>\n",
       "      <td>1936</td>\n",
       "      <td>1.0</td>\n",
       "      <td>3.0</td>\n",
       "      <td>1</td>\n",
       "      <td>0</td>\n",
       "      <td>0</td>\n",
       "      <td>2.0</td>\n",
       "    </tr>\n",
       "  </tbody>\n",
       "</table>\n",
       "<p>5 rows × 356 columns</p>\n",
       "</div>"
      ],
      "text/plain": [
       "   KBA13_BAUMAX  D19_TELKO_ANZ_24  KBA05_CCM3  FINANZ_HAUSBAUER  KBA13_VORB_3  \\\n",
       "0           5.0                 0         2.0                 5           2.0   \n",
       "1           1.0                 1         3.0                 3           3.0   \n",
       "2           1.0                 0         2.0                 2           2.0   \n",
       "3           1.0                 0         2.0                 5           3.0   \n",
       "4           1.0                 0         4.0                 5           0.0   \n",
       "\n",
       "   D19_TIERARTIKEL  SEMIO_PFLICHT  D19_VERSI_ANZ_12  D19_GESAMT_DATUM  \\\n",
       "0                0              3                 0                 9   \n",
       "1                6              5                 0                 1   \n",
       "2                0              1                 0                 6   \n",
       "3                0              4                 0                10   \n",
       "4                0              4                 0                 7   \n",
       "\n",
       "   D19_GARTEN  ...  KBA05_MOD8  KBA05_MAXBJ  KBA13_CCM_3000  GEBURTSJAHR  \\\n",
       "0           0  ...         0.0          3.0             3.0            0   \n",
       "1           0  ...         2.0          1.0             2.0         1957   \n",
       "2           0  ...         0.0          4.0             2.0         1929   \n",
       "3           0  ...         0.0          4.0             5.0         1924   \n",
       "4           0  ...         1.0          4.0             4.0         1936   \n",
       "\n",
       "   KBA13_KMH_0_140  KBA13_KRSHERST_AUDI_VW  ANREDE_KZ_1.0  ANREDE_KZ_2.0  \\\n",
       "0              3.0                     3.0              0              1   \n",
       "1              4.0                     4.0              0              1   \n",
       "2              1.0                     4.0              1              0   \n",
       "3              5.0                     3.0              0              1   \n",
       "4              1.0                     3.0              1              0   \n",
       "\n",
       "   ANREDE_KZ_nan  PRAEGENDE_JUGENDJAHRE_M  \n",
       "0              0                      2.0  \n",
       "1              0                      4.0  \n",
       "2              0                      1.0  \n",
       "3              0                      1.0  \n",
       "4              0                      2.0  \n",
       "\n",
       "[5 rows x 356 columns]"
      ]
     },
     "execution_count": 105,
     "metadata": {},
     "output_type": "execute_result"
    }
   ],
   "source": [
    "mailout_train_X.head()"
   ]
  },
  {
   "cell_type": "code",
   "execution_count": 106,
   "metadata": {},
   "outputs": [],
   "source": [
    "# change data type as float in mailout_train_X dataset\n",
    "mailout_train_X.astype(float);"
   ]
  },
  {
   "cell_type": "code",
   "execution_count": 107,
   "metadata": {},
   "outputs": [
    {
     "data": {
      "text/plain": [
       "MinMaxScaler()"
      ]
     },
     "execution_count": 107,
     "metadata": {},
     "output_type": "execute_result"
    }
   ],
   "source": [
    "#scalling data and fitting it using scaler\n",
    "MMscaler = MinMaxScaler()\n",
    "MMscaler.fit(mailout_train_X.astype(float))\n"
   ]
  },
  {
   "cell_type": "code",
   "execution_count": 108,
   "metadata": {},
   "outputs": [],
   "source": [
    "\n",
    "# transform scaled data\n",
    "mailout_train_X_sc = MMscaler.transform(mailout_train_X)\n",
    "mailout_test_X_sc = MMscaler.transform(mailout_test_X)"
   ]
  },
  {
   "cell_type": "code",
   "execution_count": 109,
   "metadata": {},
   "outputs": [
    {
     "data": {
      "text/plain": [
       "array([0, 1], dtype=int64)"
      ]
     },
     "execution_count": 109,
     "metadata": {},
     "output_type": "execute_result"
    }
   ],
   "source": [
    "mailout_train_y.unique()"
   ]
  },
  {
   "cell_type": "code",
   "execution_count": 307,
   "metadata": {},
   "outputs": [],
   "source": [
    "# split data into train and validation datasets\n",
    "X_train, X_test, y_train, y_test = train_test_split(mailout_train_X_sc, mailout_train_y, test_size=0.2, random_state=40)\n"
   ]
  },
  {
   "cell_type": "code",
   "execution_count": 145,
   "metadata": {},
   "outputs": [],
   "source": [
    "#apply RandomForestClassifier model\n",
    "model = RandomForestClassifier(n_estimators=250, random_state=40)\n"
   ]
  },
  {
   "cell_type": "code",
   "execution_count": 146,
   "metadata": {},
   "outputs": [
    {
     "data": {
      "text/plain": [
       "RandomForestClassifier(n_estimators=250, random_state=40)"
      ]
     },
     "execution_count": 146,
     "metadata": {},
     "output_type": "execute_result"
    }
   ],
   "source": [
    "# model fitting\n",
    "model.fit(X_train, y_train)\n"
   ]
  },
  {
   "cell_type": "code",
   "execution_count": 160,
   "metadata": {},
   "outputs": [],
   "source": [
    "# model prediction\n",
    "y_pred = model.predict_proba(X_test)[:,1]"
   ]
  },
  {
   "cell_type": "code",
   "execution_count": 312,
   "metadata": {},
   "outputs": [],
   "source": [
    "print(\"ROC score on test data: {:.4f}\".format(roc_auc_score(y_test, y_pred)))"
   ]
  },
  {
   "cell_type": "code",
   "execution_count": 162,
   "metadata": {
    "scrolled": true
   },
   "outputs": [
    {
     "data": {
      "text/plain": [
       "{'bootstrap': True,\n",
       " 'ccp_alpha': 0.0,\n",
       " 'class_weight': None,\n",
       " 'criterion': 'gini',\n",
       " 'max_depth': None,\n",
       " 'max_features': 'auto',\n",
       " 'max_leaf_nodes': None,\n",
       " 'max_samples': None,\n",
       " 'min_impurity_decrease': 0.0,\n",
       " 'min_samples_leaf': 1,\n",
       " 'min_samples_split': 2,\n",
       " 'min_weight_fraction_leaf': 0.0,\n",
       " 'n_estimators': 250,\n",
       " 'n_jobs': None,\n",
       " 'oob_score': False,\n",
       " 'random_state': 40,\n",
       " 'verbose': 0,\n",
       " 'warm_start': False}"
      ]
     },
     "execution_count": 162,
     "metadata": {},
     "output_type": "execute_result"
    }
   ],
   "source": [
    "# get parameters' values for RandomForestClassifier model\n",
    "model.get_params()"
   ]
  },
  {
   "cell_type": "code",
   "execution_count": 163,
   "metadata": {},
   "outputs": [],
   "source": [
    "# RandomForestClassifier with different parameters\n",
    "model2 = RandomForestClassifier(n_estimators=250,max_depth=5, random_state=40)"
   ]
  },
  {
   "cell_type": "code",
   "execution_count": 164,
   "metadata": {},
   "outputs": [
    {
     "data": {
      "text/plain": [
       "RandomForestClassifier(max_depth=5, n_estimators=250, random_state=40)"
      ]
     },
     "execution_count": 164,
     "metadata": {},
     "output_type": "execute_result"
    }
   ],
   "source": [
    "# model fitting\n",
    "model2.fit(X_train, y_train)"
   ]
  },
  {
   "cell_type": "code",
   "execution_count": 165,
   "metadata": {},
   "outputs": [],
   "source": [
    "# model prediction\n",
    "y_pred_RFC = model2.predict_proba(X_test)[:,1]"
   ]
  },
  {
   "cell_type": "code",
   "execution_count": 311,
   "metadata": {},
   "outputs": [],
   "source": [
    "print(\"ROC score on test data: {:.4f}\".format(roc_auc_score(y_test, y_pred_RFC)))"
   ]
  },
  {
   "cell_type": "code",
   "execution_count": 308,
   "metadata": {},
   "outputs": [],
   "source": [
    "parameters = { \n",
    "                'n_estimators' :[200, 250, 500],\n",
    "                'max_depth' : [3,4,5],\n",
    "                'random_state' : [42]\n",
    "            }"
   ]
  },
  {
   "cell_type": "code",
   "execution_count": 122,
   "metadata": {
    "scrolled": true
   },
   "outputs": [],
   "source": [
    "#use GridSearchCV for hyper parameter tuning\n",
    "cv = GridSearchCV(model, param_grid=parameters)"
   ]
  },
  {
   "cell_type": "code",
   "execution_count": 123,
   "metadata": {},
   "outputs": [
    {
     "data": {
      "text/plain": [
       "GridSearchCV(estimator=RandomForestClassifier(n_estimators=200,\n",
       "                                              random_state=40),\n",
       "             param_grid={'max_depth': [3, 4, 5],\n",
       "                         'n_estimators': [200, 250, 500],\n",
       "                         'random_state': [42]})"
      ]
     },
     "execution_count": 123,
     "metadata": {},
     "output_type": "execute_result"
    }
   ],
   "source": [
    "# fitting model \n",
    "cv.fit(X_train, y_train)"
   ]
  },
  {
   "cell_type": "code",
   "execution_count": null,
   "metadata": {},
   "outputs": [],
   "source": [
    "y_pred_cv = cv.predict_proba(X_test)[:,1]"
   ]
  },
  {
   "cell_type": "code",
   "execution_count": null,
   "metadata": {},
   "outputs": [],
   "source": [
    "print(\"ROC score on test data: {:.4f}\".format(roc_auc_score(y_test, y_pred_cv)))"
   ]
  },
  {
   "cell_type": "code",
   "execution_count": 124,
   "metadata": {
    "scrolled": true
   },
   "outputs": [
    {
     "data": {
      "text/plain": [
       "{'max_depth': 3, 'n_estimators': 200, 'random_state': 42}"
      ]
     },
     "execution_count": 124,
     "metadata": {},
     "output_type": "execute_result"
    }
   ],
   "source": [
    "# get the best parameters for RandomForestClassifier model\n",
    "cv.best_params_"
   ]
  },
  {
   "cell_type": "code",
   "execution_count": 167,
   "metadata": {},
   "outputs": [],
   "source": [
    "# best parameters' set\n",
    "parameters = { \n",
    "                'n_estimators' :[200],\n",
    "                'max_depth' : [3],\n",
    "                'random_state' : [42]\n",
    "                \n",
    "             }"
   ]
  },
  {
   "cell_type": "code",
   "execution_count": 168,
   "metadata": {},
   "outputs": [],
   "source": [
    "\n",
    "cv_best = GridSearchCV(model, param_grid=parameters)"
   ]
  },
  {
   "cell_type": "code",
   "execution_count": 169,
   "metadata": {},
   "outputs": [
    {
     "data": {
      "text/plain": [
       "GridSearchCV(estimator=RandomForestClassifier(n_estimators=250,\n",
       "                                              random_state=40),\n",
       "             param_grid={'max_depth': [3], 'n_estimators': [200],\n",
       "                         'random_state': [42]})"
      ]
     },
     "execution_count": 169,
     "metadata": {},
     "output_type": "execute_result"
    }
   ],
   "source": [
    "# fitting model with the best parameter set\n",
    "cv_best.fit(X_train, y_train)"
   ]
  },
  {
   "cell_type": "code",
   "execution_count": 174,
   "metadata": {},
   "outputs": [],
   "source": [
    "# model prediction\n",
    "y_pred_cv_best = cv_best.predict_proba(X_test)[:,1]"
   ]
  },
  {
   "cell_type": "code",
   "execution_count": 310,
   "metadata": {},
   "outputs": [],
   "source": [
    "print(\"ROC score on test data: {:.4f}\".format(roc_auc_score(y_test, y_pred_cv_best)))"
   ]
  },
  {
   "cell_type": "code",
   "execution_count": 176,
   "metadata": {},
   "outputs": [],
   "source": [
    "# define GradientBoostingClassifier model\n",
    "GBC_model = GradientBoostingClassifier(random_state=40)"
   ]
  },
  {
   "cell_type": "code",
   "execution_count": 177,
   "metadata": {},
   "outputs": [
    {
     "data": {
      "text/plain": [
       "{'ccp_alpha': 0.0,\n",
       " 'criterion': 'friedman_mse',\n",
       " 'init': None,\n",
       " 'learning_rate': 0.1,\n",
       " 'loss': 'deviance',\n",
       " 'max_depth': 3,\n",
       " 'max_features': None,\n",
       " 'max_leaf_nodes': None,\n",
       " 'min_impurity_decrease': 0.0,\n",
       " 'min_samples_leaf': 1,\n",
       " 'min_samples_split': 2,\n",
       " 'min_weight_fraction_leaf': 0.0,\n",
       " 'n_estimators': 100,\n",
       " 'n_iter_no_change': None,\n",
       " 'random_state': 40,\n",
       " 'subsample': 1.0,\n",
       " 'tol': 0.0001,\n",
       " 'validation_fraction': 0.1,\n",
       " 'verbose': 0,\n",
       " 'warm_start': False}"
      ]
     },
     "execution_count": 177,
     "metadata": {},
     "output_type": "execute_result"
    }
   ],
   "source": [
    "GBC_model.get_params()"
   ]
  },
  {
   "cell_type": "code",
   "execution_count": 74,
   "metadata": {},
   "outputs": [],
   "source": [
    "# search the best parameters' set for GradientBoostingClassifier model by applying GradientBoostingClassifier\n",
    "GBC_model = BayesSearchCV(\n",
    "    estimator = GradientBoostingClassifier(),\n",
    "    \n",
    "    search_spaces = {\n",
    "        'learning_rate': [0.001, 1.0],\n",
    "        'max_depth': [3, 5],\n",
    "        'n_estimators': [200, 250, 300]\n",
    "        },    \n",
    "    scoring = 'roc_auc',\n",
    "    \n",
    "    random_state = 40\n",
    ")"
   ]
  },
  {
   "cell_type": "code",
   "execution_count": 178,
   "metadata": {},
   "outputs": [
    {
     "data": {
      "text/plain": [
       "GradientBoostingClassifier(random_state=40)"
      ]
     },
     "execution_count": 178,
     "metadata": {},
     "output_type": "execute_result"
    }
   ],
   "source": [
    "GBC_model.fit(X_train, y_train)"
   ]
  },
  {
   "cell_type": "code",
   "execution_count": 180,
   "metadata": {},
   "outputs": [],
   "source": [
    "y_pred_gbc = GBC_model.predict_proba(X_test)[:,1]"
   ]
  },
  {
   "cell_type": "code",
   "execution_count": 309,
   "metadata": {},
   "outputs": [],
   "source": [
    "print(\"ROC score on test data using GradientBoostingClassifier: {:.4f}\".format(roc_auc_score(y_test, y_pred_gbc)))"
   ]
  },
  {
   "cell_type": "code",
   "execution_count": 122,
   "metadata": {},
   "outputs": [],
   "source": [
    "# define GradientBoostingClassifier with setting parameters\n",
    "gbc_6 = GradientBoostingClassifier(\n",
    "                             \n",
    "                              learning_rate= 0.003,\n",
    "                              max_depth =6,\n",
    "                              n_estimators = 250,\n",
    "                              subsample=0.6\n",
    "\n",
    "                              )"
   ]
  },
  {
   "cell_type": "code",
   "execution_count": 114,
   "metadata": {},
   "outputs": [
    {
     "data": {
      "text/plain": [
       "GradientBoostingClassifier(learning_rate=0.003, max_depth=6, n_estimators=250,\n",
       "                           subsample=0.6)"
      ]
     },
     "execution_count": 114,
     "metadata": {},
     "output_type": "execute_result"
    }
   ],
   "source": [
    "# fitting model\n",
    "gbc_6.fit(X_train, y_train)"
   ]
  },
  {
   "cell_type": "code",
   "execution_count": 115,
   "metadata": {},
   "outputs": [],
   "source": [
    "# model prediction\n",
    "y_pred_gbc_6 = gbc_6.predict_proba(X_test)[:,1]"
   ]
  },
  {
   "cell_type": "code",
   "execution_count": 313,
   "metadata": {},
   "outputs": [],
   "source": [
    "print(\"ROC score on test data using GradientBoostingClassifier: {:.6f}\".format(roc_auc_score(y_test, y_pred_gbc_6)))"
   ]
  },
  {
   "cell_type": "code",
   "execution_count": 221,
   "metadata": {},
   "outputs": [],
   "source": [
    "# define model using BayesSearchCV to find the best parameters' set\n",
    "xgb_model = BayesSearchCV(\n",
    "    estimator = xgbc.XGBClassifier(\n",
    "        eval_metric = 'auc',\n",
    "        verbosity=1,use_label_encoder=False),\n",
    "    \n",
    "    search_spaces = {\n",
    "        'booster': ['gbtree'],\n",
    "        'learning_rate': [0.002, 0.003],\n",
    "        'max_depth': [5, 7],\n",
    "        'n_estimators': [200,250],\n",
    "        'subsample': [0.5,0.6]\n",
    "        },    \n",
    "    scoring = 'roc_auc',\n",
    "    verbose = 0,\n",
    "    refit = True,\n",
    "    random_state = 40\n",
    ")"
   ]
  },
  {
   "cell_type": "code",
   "execution_count": 223,
   "metadata": {},
   "outputs": [],
   "source": [
    "# fitting model\n",
    "xgb_model.fit(X_train, y_train)"
   ]
  },
  {
   "cell_type": "code",
   "execution_count": null,
   "metadata": {},
   "outputs": [],
   "source": [
    "#model prediction \n",
    "y_pred_xgb = xgb_model.predict_proba(X_test)[:,1]"
   ]
  },
  {
   "cell_type": "code",
   "execution_count": null,
   "metadata": {},
   "outputs": [],
   "source": [
    "roc_auc_score(y_test, y_pred_xgb)"
   ]
  },
  {
   "cell_type": "code",
   "execution_count": 225,
   "metadata": {},
   "outputs": [],
   "source": [
    "param_xgbc = {\n",
    "                'booster': ['gbtree'],\n",
    "                'learning_rate': [0.002, 0.003],\n",
    "                'max_depth': [5, 7],\n",
    "                'n_estimators': [200,250],\n",
    "                'subsample': [0.5,0.6],\n",
    "                'eval_metric': [ 'auc'],\n",
    "                'verbosity':  [1]\n",
    "}"
   ]
  },
  {
   "cell_type": "code",
   "execution_count": 226,
   "metadata": {},
   "outputs": [],
   "source": [
    "# use GridSearchCV to define model with the highest score\n",
    "cv_xgbc = GridSearchCV(xgbc.XGBClassifier(random_state=40, use_label_encoder=False), param_grid=param_xgbc)"
   ]
  },
  {
   "cell_type": "code",
   "execution_count": 228,
   "metadata": {},
   "outputs": [],
   "source": [
    "# fitting model\n",
    "cv_xgbc.fit(X_train, y_train)"
   ]
  },
  {
   "cell_type": "code",
   "execution_count": null,
   "metadata": {},
   "outputs": [],
   "source": [
    "#  model prediction\n",
    "y_pred_cv_xgbc = cv_xgbc.predict_proba(X_test)[:,1]"
   ]
  },
  {
   "cell_type": "code",
   "execution_count": null,
   "metadata": {},
   "outputs": [],
   "source": [
    "# check roc_auc_score\n",
    "roc_auc_score(y_test, y_pred_cv_xgbc)"
   ]
  },
  {
   "cell_type": "markdown",
   "metadata": {},
   "source": [
    "Below we will define and fit XGBClassifier model with different parameters."
   ]
  },
  {
   "cell_type": "code",
   "execution_count": null,
   "metadata": {},
   "outputs": [],
   "source": [
    "xgb_6 = xgbc.XGBClassifier(booster='gbtree',\n",
    "                              learning_rate=0.003,\n",
    "                              max_depth=6,\n",
    "                              n_estimators=250,\n",
    "                              subsample=0.6,\n",
    "                              eval_metric='auc',\n",
    "                              verbosity=1,\n",
    "                              use_label_encoder=False\n",
    "                              )"
   ]
  },
  {
   "cell_type": "code",
   "execution_count": null,
   "metadata": {},
   "outputs": [],
   "source": [
    "xgb_6.fit(X_train, y_train)"
   ]
  },
  {
   "cell_type": "code",
   "execution_count": null,
   "metadata": {},
   "outputs": [],
   "source": [
    "y_pred_6 = xgb_6.predict_proba(X_test)[:,1]"
   ]
  },
  {
   "cell_type": "code",
   "execution_count": null,
   "metadata": {},
   "outputs": [],
   "source": [
    "roc_auc_score(y_test, y_pred_6)"
   ]
  },
  {
   "cell_type": "code",
   "execution_count": null,
   "metadata": {},
   "outputs": [],
   "source": [
    "xgbc_5 = xgbc.XGBClassifier(booster='gbtree',\n",
    "                              learning_rate=0.003,\n",
    "                              max_depth=5,\n",
    "                              n_estimators=250,\n",
    "                              subsample=0.6,\n",
    "                              eval_metric='auc',\n",
    "                              verbosity=1,\n",
    "                              use_label_encoder=False\n",
    "                              )"
   ]
  },
  {
   "cell_type": "code",
   "execution_count": null,
   "metadata": {},
   "outputs": [],
   "source": [
    "xgbc_5.fit(X_train, y_train)"
   ]
  },
  {
   "cell_type": "code",
   "execution_count": null,
   "metadata": {},
   "outputs": [],
   "source": [
    "y_pred_xgbc_5 = xgbc_5.predict_proba(X_test)[:,1]"
   ]
  },
  {
   "cell_type": "code",
   "execution_count": null,
   "metadata": {},
   "outputs": [],
   "source": [
    "roc_auc_score(y_test, y_pred_xgbc_5)"
   ]
  },
  {
   "cell_type": "code",
   "execution_count": 315,
   "metadata": {},
   "outputs": [],
   "source": [
    "xgbc_7 = xgbc.XGBClassifier(booster='gbtree',\n",
    "                              learning_rate=0.0031,\n",
    "                              max_depth=6,\n",
    "                              n_estimators=250,\n",
    "                              subsample=0.5,\n",
    "                              eval_metric='auc',\n",
    "                              verbosity=1,\n",
    "                              use_label_encoder=False\n",
    "                              )"
   ]
  },
  {
   "cell_type": "code",
   "execution_count": 317,
   "metadata": {
    "scrolled": true
   },
   "outputs": [],
   "source": [
    "xgbc_7.fit(X_train, y_train)"
   ]
  },
  {
   "cell_type": "code",
   "execution_count": 112,
   "metadata": {},
   "outputs": [],
   "source": [
    "y_pred_xgbc_7 = xgbc_7.predict_proba(X_test)[:,1]"
   ]
  },
  {
   "cell_type": "code",
   "execution_count": 113,
   "metadata": {},
   "outputs": [
    {
     "data": {
      "text/plain": [
       "0.7760777847825032"
      ]
     },
     "execution_count": 113,
     "metadata": {},
     "output_type": "execute_result"
    }
   ],
   "source": [
    "roc_auc_score(y_test, y_pred_xgbc_7)"
   ]
  },
  {
   "cell_type": "code",
   "execution_count": 230,
   "metadata": {},
   "outputs": [],
   "source": [
    "xgbc_7 = xgbc.XGBClassifier(booster='gbtree',\n",
    "                              learning_rate=0.0031,\n",
    "                              max_depth=6,\n",
    "                              n_estimators=250,\n",
    "                              subsample=0.4,\n",
    "                              eval_metric='auc',\n",
    "                              verbosity=1,\n",
    "                              use_label_encoder=False\n",
    "                              )"
   ]
  },
  {
   "cell_type": "code",
   "execution_count": 231,
   "metadata": {},
   "outputs": [
    {
     "data": {
      "text/plain": [
       "XGBClassifier(base_score=0.5, booster='gbtree', colsample_bylevel=1,\n",
       "              colsample_bynode=1, colsample_bytree=1, enable_categorical=False,\n",
       "              eval_metric='auc', gamma=0, gpu_id=-1, importance_type=None,\n",
       "              interaction_constraints='', learning_rate=0.0031,\n",
       "              max_delta_step=0, max_depth=6, min_child_weight=1, missing=nan,\n",
       "              monotone_constraints='()', n_estimators=250, n_jobs=2,\n",
       "              num_parallel_tree=1, predictor='auto', random_state=0,\n",
       "              reg_alpha=0, reg_lambda=1, scale_pos_weight=1, subsample=0.4,\n",
       "              tree_method='exact', use_label_encoder=False,\n",
       "              validate_parameters=1, verbosity=1)"
      ]
     },
     "execution_count": 231,
     "metadata": {},
     "output_type": "execute_result"
    }
   ],
   "source": [
    "xgbc_7.fit(X_train, y_train)"
   ]
  },
  {
   "cell_type": "code",
   "execution_count": 232,
   "metadata": {},
   "outputs": [
    {
     "data": {
      "text/plain": [
       "0.7813515348431213"
      ]
     },
     "execution_count": 232,
     "metadata": {},
     "output_type": "execute_result"
    }
   ],
   "source": [
    "y_pred_xgbc_7 = xgbc_7.predict_proba(X_test)[:,1]\n",
    "roc_auc_score(y_test, y_pred_xgbc_7)"
   ]
  },
  {
   "cell_type": "code",
   "execution_count": 217,
   "metadata": {},
   "outputs": [],
   "source": [
    "xgbc_5_03_32 = xgbc.XGBClassifier(booster='gbtree',\n",
    "                              learning_rate=0.0031,\n",
    "                              max_depth=5,\n",
    "                              n_estimators=250,\n",
    "                              subsample=0.4,\n",
    "                              eval_metric='auc',\n",
    "                              verbosity=1,\n",
    "                              use_label_encoder=False\n",
    "                              )"
   ]
  },
  {
   "cell_type": "code",
   "execution_count": 219,
   "metadata": {
    "scrolled": true
   },
   "outputs": [
    {
     "data": {
      "text/plain": [
       "XGBClassifier(base_score=0.5, booster='gbtree', colsample_bylevel=1,\n",
       "              colsample_bynode=1, colsample_bytree=1, enable_categorical=False,\n",
       "              eval_metric='auc', gamma=0, gpu_id=-1, importance_type=None,\n",
       "              interaction_constraints='', learning_rate=0.0031,\n",
       "              max_delta_step=0, max_depth=5, min_child_weight=1, missing=nan,\n",
       "              monotone_constraints='()', n_estimators=250, n_jobs=2,\n",
       "              num_parallel_tree=1, predictor='auto', random_state=0,\n",
       "              reg_alpha=0, reg_lambda=1, scale_pos_weight=1, subsample=0.4,\n",
       "              tree_method='exact', use_label_encoder=False,\n",
       "              validate_parameters=1, verbosity=1)"
      ]
     },
     "execution_count": 219,
     "metadata": {},
     "output_type": "execute_result"
    }
   ],
   "source": [
    "xgbc_5_03_32.fit(X_train, y_train)"
   ]
  },
  {
   "cell_type": "code",
   "execution_count": 220,
   "metadata": {},
   "outputs": [
    {
     "data": {
      "text/plain": [
       "0.7826585704355938"
      ]
     },
     "execution_count": 220,
     "metadata": {},
     "output_type": "execute_result"
    }
   ],
   "source": [
    "y_pred_xgbc_5_03_32 = xgbc_5_03_32.predict_proba(X_test)[:,1]\n",
    "roc_auc_score(y_test, y_pred_xgbc_5_03_32)"
   ]
  },
  {
   "cell_type": "code",
   "execution_count": 272,
   "metadata": {},
   "outputs": [
    {
     "data": {
      "text/plain": [
       "['REGIOTYP',\n",
       " 'D19_TELKO_MOBILE',\n",
       " 'KBA05_SEG7',\n",
       " 'RELAT_AB',\n",
       " 'ZABEOTYP',\n",
       " 'KBA13_SEG_VAN',\n",
       " 'KBA13_TOYOTA',\n",
       " 'KBA13_MAZDA',\n",
       " 'PLZ8_ANTG2',\n",
       " 'KBA05_HERST4',\n",
       " 'D19_DROGERIEARTIKEL',\n",
       " 'KBA05_MAXSEG',\n",
       " 'SEMIO_KRIT',\n",
       " 'KBA13_KW_121',\n",
       " 'KBA13_KMH_0_140',\n",
       " 'KBA13_KW_90',\n",
       " 'KBA05_CCM1',\n",
       " 'KBA05_CCM4',\n",
       " 'KBA13_CCM_0_1400',\n",
       " 'EWDICHTE',\n",
       " 'KBA13_KW_60',\n",
       " 'KBA13_BJ_2008',\n",
       " 'KBA05_ANTG3',\n",
       " 'KBA05_KRSOBER',\n",
       " 'KBA05_CCM3',\n",
       " 'KBA13_GBZ',\n",
       " 'KBA13_KMH_180',\n",
       " 'KBA13_CCM_1401_2500',\n",
       " 'D19_BIO_OEKO',\n",
       " 'KBA05_VORB1',\n",
       " 'SEMIO_KULT',\n",
       " 'KBA05_ZUL4',\n",
       " 'KBA13_FORD',\n",
       " 'KBA13_HALTER_20',\n",
       " 'D19_WEIN_FEINKOST',\n",
       " 'KBA13_CCM_3000',\n",
       " 'KBA13_SEG_MITTELKLASSE',\n",
       " 'LP_FAMILIE_GROB',\n",
       " 'GEBAEUDETYP_RASTER',\n",
       " 'SEMIO_TRADV',\n",
       " 'D19_DIGIT_SERV',\n",
       " 'KBA13_HHZ',\n",
       " 'INNENSTADT',\n",
       " 'KBA05_ANTG1',\n",
       " 'LP_STATUS_FEIN',\n",
       " 'KBA05_FRAU',\n",
       " 'KBA13_NISSAN',\n",
       " 'KBA13_KRSSEG_OBER',\n",
       " 'D19_GESAMT_ONLINE_QUOTE_12',\n",
       " 'FINANZ_MINIMALIST',\n",
       " 'KBA13_SEG_SPORTWAGEN',\n",
       " 'VK_DHT4A',\n",
       " 'KBA13_AUDI',\n",
       " 'FINANZTYP',\n",
       " 'D19_SONSTIGE',\n",
       " 'KBA05_KW2',\n",
       " 'KBA05_SEG2',\n",
       " 'KBA05_HERST1',\n",
       " 'CAMEO_DEU_2015',\n",
       " 'KBA05_ALTER2',\n",
       " 'VHN',\n",
       " 'KBA13_SEG_WOHNMOBILE',\n",
       " 'FINANZ_UNAUFFAELLIGER',\n",
       " 'KBA05_ALTER3',\n",
       " 'KBA13_KRSAQUOT',\n",
       " 'KBA05_HERST3',\n",
       " 'D19_HANDWERK',\n",
       " 'KBA13_CCM_2500',\n",
       " 'KBA05_KRSHERST1',\n",
       " 'KBA05_ANHANG',\n",
       " 'KBA05_MOD4',\n",
       " 'SEMIO_RAT',\n",
       " 'KBA13_CCM_1400',\n",
       " 'SEMIO_FAM',\n",
       " 'KBA05_CCM2',\n",
       " 'KBA05_KW3',\n",
       " 'KBA13_FIAT',\n",
       " 'KBA13_CCM_1000',\n",
       " 'KBA13_AUTOQUOTE',\n",
       " 'KBA13_BJ_2000',\n",
       " 'KBA13_HALTER_35',\n",
       " 'KBA13_HERST_EUROPA',\n",
       " 'KBA05_SEG10',\n",
       " 'D19_BILDUNG',\n",
       " 'RT_SCHNAEPPCHEN',\n",
       " 'KBA13_KRSSEG_KLEIN',\n",
       " 'W_KEIT_KIND_HH',\n",
       " 'KBA13_KRSHERST_AUDI_VW',\n",
       " 'KBA05_ZUL3',\n",
       " 'KBA13_KRSHERST_FORD_OPEL',\n",
       " 'SEMIO_REL',\n",
       " 'SHOPPER_TYP',\n",
       " 'KBA13_KW_40',\n",
       " 'KBA13_HALTER_60',\n",
       " 'EINGEZOGENAM_HH_JAHR',\n",
       " 'LP_LEBENSPHASE_FEIN',\n",
       " 'KBA05_GBZ',\n",
       " 'D19_BANKEN_ONLINE_DATUM',\n",
       " 'FINANZ_VORSORGER',\n",
       " 'ANZ_HAUSHALTE_AKTIV',\n",
       " 'D19_VERSI_ANZ_24',\n",
       " 'KBA13_KMH_110',\n",
       " 'SEMIO_VERT',\n",
       " 'D19_VERSAND_OFFLINE_DATUM',\n",
       " 'VERDICHTUNGSRAUM',\n",
       " 'D19_VERSI_DATUM',\n",
       " 'GFK_URLAUBERTYP',\n",
       " 'D19_GESAMT_ANZ_12',\n",
       " 'KBA13_KMH_140',\n",
       " 'D19_BANKEN_ANZ_12',\n",
       " 'RT_UEBERGROESSE',\n",
       " 'SEMIO_DOM',\n",
       " 'KBA13_ANZAHL_PKW',\n",
       " 'ONLINE_AFFINITAET',\n",
       " 'ANZ_STATISTISCHE_HAUSHALTE',\n",
       " 'D19_GESAMT_DATUM',\n",
       " 'KBA05_HERST5',\n",
       " 'D19_TELKO_REST',\n",
       " 'KBA13_OPEL',\n",
       " 'KBA13_KW_61_120',\n",
       " 'VK_DISTANZ',\n",
       " 'EINGEFUEGT_AM',\n",
       " 'CJT_TYP_4',\n",
       " 'KBA05_MOD2',\n",
       " 'KBA13_KW_30',\n",
       " 'KBA13_HERST_ASIEN',\n",
       " 'KBA13_HERST_AUDI_VW',\n",
       " 'D19_VERSAND_ONLINE_DATUM',\n",
       " 'D19_BANKEN_OFFLINE_DATUM',\n",
       " 'KBA13_ANTG1',\n",
       " 'D19_BANKEN_DIREKT',\n",
       " 'KBA05_KW1',\n",
       " 'KBA13_VORB_0',\n",
       " 'D19_VERSAND_DATUM',\n",
       " 'D19_KONSUMTYP_MAX',\n",
       " 'ANZ_PERSONEN',\n",
       " 'D19_SOZIALES',\n",
       " 'D19_BEKLEIDUNG_GEH',\n",
       " 'KBA13_HALTER_66',\n",
       " 'FINANZ_SPARER',\n",
       " 'D19_BUCH_CD',\n",
       " 'CAMEO_DEUG_2015',\n",
       " 'PLZ8_GBZ',\n",
       " 'KBA05_ALTER4',\n",
       " 'KBA13_SITZE_4',\n",
       " 'MIN_GEBAEUDEJAHR',\n",
       " 'KBA13_ANTG3',\n",
       " 'KBA13_SEG_MINIWAGEN',\n",
       " 'SEMIO_PFLICHT',\n",
       " 'WOHNDAUER_2008',\n",
       " 'D19_BANKEN_ANZ_24',\n",
       " 'KBA13_KW_0_60',\n",
       " 'KBA13_KW_120',\n",
       " 'RT_KEIN_ANREIZ',\n",
       " 'KBA13_SEG_KLEINST',\n",
       " 'KBA05_KRSHERST3',\n",
       " 'D19_VERSI_ONLINE_DATUM',\n",
       " 'KBA13_KW_80',\n",
       " 'FINANZ_ANLEGER',\n",
       " 'D19_VERSICHERUNGEN',\n",
       " 'WOHNLAGE',\n",
       " 'D19_RATGEBER',\n",
       " 'KBA13_CCM_1600',\n",
       " 'KBA13_HALTER_65',\n",
       " 'KBA13_HERST_BMW_BENZ',\n",
       " 'D19_HAUS_DEKO',\n",
       " 'ANZ_TITEL',\n",
       " 'VK_ZG11',\n",
       " 'KBA05_AUTOQUOT',\n",
       " 'KBA05_MOD3',\n",
       " 'GEBURTSJAHR',\n",
       " 'D19_VERSAND_REST',\n",
       " 'HH_EINKOMMEN_SCORE',\n",
       " 'D19_GESAMT_ANZ_24',\n",
       " 'KBA05_SEG1',\n",
       " 'KONSUMZELLE',\n",
       " 'KBA13_BJ_1999',\n",
       " 'GEMEINDETYP',\n",
       " 'ANZ_HH_TITEL',\n",
       " 'ALTERSKATEGORIE_FEIN',\n",
       " 'D19_TIERARTIKEL',\n",
       " 'D19_VERSAND_ANZ_12',\n",
       " 'BALLRAUM',\n",
       " 'KBA13_ANTG2',\n",
       " 'KBA13_SEG_OBERKLASSE',\n",
       " 'CJT_TYP_3',\n",
       " 'RETOURTYP_BK_S',\n",
       " 'ORTSGR_KLS9',\n",
       " 'SEMIO_SOZ',\n",
       " 'D19_VERSI_ONLINE_QUOTE_12']"
      ]
     },
     "execution_count": 272,
     "metadata": {},
     "output_type": "execute_result"
    }
   ],
   "source": [
    "# feature importance for xgbc_5_03_32 model: XGBClassifier with max_depth=5, subsample=0.4\n",
    "feature_importance = pd.Series(xgbc_5_03_32.feature_importances_,\n",
    "                     index=mailout_train_X.columns)\n",
    "feature_importance = feature_importance.sort_values(ascending=False)\n",
    "feature_most_imp = list(feature_importance.sort_values(ascending=False)[:190].index)\n",
    "feature_most_imp"
   ]
  },
  {
   "cell_type": "code",
   "execution_count": 273,
   "metadata": {},
   "outputs": [
    {
     "data": {
      "text/plain": [
       "MinMaxScaler()"
      ]
     },
     "execution_count": 273,
     "metadata": {},
     "output_type": "execute_result"
    }
   ],
   "source": [
    "# fit mailout_train_X dataset with selected above features\n",
    "MMscaler.fit(mailout_train_X[feature_most_imp].astype(float))\n"
   ]
  },
  {
   "cell_type": "code",
   "execution_count": 274,
   "metadata": {},
   "outputs": [],
   "source": [
    "# transform scaled data with the selected features\n",
    "\n",
    "mailout_train_X_sc = MMscaler.transform(mailout_train_X[feature_most_imp])\n",
    "mailout_test_X_sc = MMscaler.transform(mailout_test_X[feature_most_imp])"
   ]
  },
  {
   "cell_type": "code",
   "execution_count": 283,
   "metadata": {},
   "outputs": [],
   "source": [
    "# splitting dataset into X_train, X_test, y_train, y_test sets\n",
    "X_train, X_test, y_train, y_test = train_test_split(mailout_train_X_sc, mailout_train_y, test_size=0.2, random_state=40)\n"
   ]
  },
  {
   "cell_type": "code",
   "execution_count": 287,
   "metadata": {},
   "outputs": [
    {
     "data": {
      "text/plain": [
       "((34369, 190), (8593, 190))"
      ]
     },
     "execution_count": 287,
     "metadata": {},
     "output_type": "execute_result"
    }
   ],
   "source": [
    "X_train.shape, X_test.shape"
   ]
  },
  {
   "cell_type": "code",
   "execution_count": 285,
   "metadata": {},
   "outputs": [
    {
     "data": {
      "text/plain": [
       "XGBClassifier(base_score=0.5, booster='gbtree', colsample_bylevel=1,\n",
       "              colsample_bynode=1, colsample_bytree=1, enable_categorical=False,\n",
       "              eval_metric='auc', gamma=0, gpu_id=-1, importance_type=None,\n",
       "              interaction_constraints='', learning_rate=0.0031,\n",
       "              max_delta_step=0, max_depth=5, min_child_weight=1, missing=nan,\n",
       "              monotone_constraints='()', n_estimators=250, n_jobs=2,\n",
       "              num_parallel_tree=1, predictor='auto', random_state=0,\n",
       "              reg_alpha=0, reg_lambda=1, scale_pos_weight=1, subsample=0.4,\n",
       "              tree_method='exact', use_label_encoder=False,\n",
       "              validate_parameters=1, verbosity=1)"
      ]
     },
     "execution_count": 285,
     "metadata": {},
     "output_type": "execute_result"
    }
   ],
   "source": [
    "xgbc_5_03_32.fit(X_train, y_train)"
   ]
  },
  {
   "cell_type": "code",
   "execution_count": 286,
   "metadata": {},
   "outputs": [
    {
     "data": {
      "text/plain": [
       "0.7847322770823086"
      ]
     },
     "execution_count": 286,
     "metadata": {},
     "output_type": "execute_result"
    }
   ],
   "source": [
    "# the highest roc auc score\n",
    "y_pred_xgbc_5_03_32 = xgbc_5_03_32.predict_proba(X_test)[:,1]\n",
    "roc_auc_score(y_test, y_pred_xgbc_5_03_32)"
   ]
  },
  {
   "cell_type": "code",
   "execution_count": 244,
   "metadata": {},
   "outputs": [],
   "source": [
    "# we need to redefine mailout_train_X_sc, mailout_test_X_sc once again to obtain all features \n",
    "#after removing some fetures above\n",
    "mailout_train_X = mailout_train.drop(['RESPONSE'], inplace=False, axis=1)\n",
    "mailout_train_y = mailout_train['RESPONSE']\n",
    "mailout_train_X = mailout_train_X.drop(['LNR'], inplace=False, axis=1)\n",
    "mailout_test_X = mailout_test.drop(['LNR'], inplace=False, axis=1)\n",
    "MMscaler = MinMaxScaler()\n",
    "MMscaler.fit(mailout_train_X.astype(float))\n",
    "mailout_train_X_sc = MMscaler.transform(mailout_train_X)\n",
    "mailout_test_X_sc = MMscaler.transform(mailout_test_X)\n",
    "X_train, X_test, y_train, y_test = train_test_split(mailout_train_X_sc, mailout_train_y, test_size=0.2, random_state=40)\n"
   ]
  },
  {
   "cell_type": "code",
   "execution_count": 245,
   "metadata": {},
   "outputs": [
    {
     "data": {
      "text/plain": [
       "((34369, 356), (8593, 356))"
      ]
     },
     "execution_count": 245,
     "metadata": {},
     "output_type": "execute_result"
    }
   ],
   "source": [
    "X_train.shape, X_test.shape"
   ]
  },
  {
   "cell_type": "code",
   "execution_count": 300,
   "metadata": {},
   "outputs": [],
   "source": [
    "reg = xgbc.XGBRegressor(booster='gbtree',\n",
    "             learning_rate=0.0032,\n",
    "             max_depth=7,\n",
    "             n_estimators=247,\n",
    "             subsample=0.7,\n",
    "             eval_metric='auc',\n",
    "             verbosity=1,\n",
    "             use_label_encoder=False,\n",
    "             random_state = 40 \n",
    "                              ) "
   ]
  },
  {
   "cell_type": "code",
   "execution_count": 301,
   "metadata": {},
   "outputs": [
    {
     "data": {
      "text/plain": [
       "XGBRegressor(base_score=0.5, booster='gbtree', colsample_bylevel=1,\n",
       "             colsample_bynode=1, colsample_bytree=1, enable_categorical=False,\n",
       "             eval_metric='auc', gamma=0, gpu_id=-1, importance_type=None,\n",
       "             interaction_constraints='', learning_rate=0.0032, max_delta_step=0,\n",
       "             max_depth=7, min_child_weight=1, missing=nan,\n",
       "             monotone_constraints='()', n_estimators=247, n_jobs=2,\n",
       "             num_parallel_tree=1, predictor='auto', random_state=40,\n",
       "             reg_alpha=0, reg_lambda=1, scale_pos_weight=1, subsample=0.7,\n",
       "             tree_method='exact', use_label_encoder=False,\n",
       "             validate_parameters=1, verbosity=1)"
      ]
     },
     "execution_count": 301,
     "metadata": {},
     "output_type": "execute_result"
    }
   ],
   "source": [
    "reg.fit(X_train, y_train)"
   ]
  },
  {
   "cell_type": "code",
   "execution_count": 302,
   "metadata": {},
   "outputs": [
    {
     "data": {
      "text/plain": [
       "0.7932256991832183"
      ]
     },
     "execution_count": 302,
     "metadata": {},
     "output_type": "execute_result"
    }
   ],
   "source": [
    "y_reg = reg.predict(X_test)\n",
    "roc_auc_score(y_test, y_reg)"
   ]
  },
  {
   "cell_type": "code",
   "execution_count": 303,
   "metadata": {},
   "outputs": [],
   "source": [
    "feature_importance = pd.Series(reg.feature_importances_,\n",
    "                     index=mailout_train_X.columns)\n",
    "feature_importance = feature_importance.sort_values(ascending=False)\n",
    "feature_most_imp = list(feature_importance.sort_values(ascending=False)[:160].index)\n",
    "feature_most_imp;"
   ]
  },
  {
   "cell_type": "code",
   "execution_count": 127,
   "metadata": {},
   "outputs": [],
   "source": [
    "reg2 = xgbc.XGBRegressor(booster='gbtree',\n",
    "             learning_rate=0.0032,\n",
    "             max_depth=6,\n",
    "             n_estimators=247,\n",
    "             subsample=0.5,\n",
    "             eval_metric='auc',\n",
    "             verbosity=1,\n",
    "             use_label_encoder=False,\n",
    "             random_state = 40\n",
    "             )\n",
    "                         "
   ]
  },
  {
   "cell_type": "code",
   "execution_count": 128,
   "metadata": {},
   "outputs": [
    {
     "data": {
      "text/plain": [
       "XGBRegressor(base_score=0.5, booster='gbtree', colsample_bylevel=1,\n",
       "             colsample_bynode=1, colsample_bytree=1, enable_categorical=False,\n",
       "             eval_metric='auc', gamma=0, gpu_id=-1, importance_type=None,\n",
       "             interaction_constraints='', learning_rate=0.0032, max_delta_step=0,\n",
       "             max_depth=6, min_child_weight=1, missing=nan,\n",
       "             monotone_constraints='()', n_estimators=247, n_jobs=2,\n",
       "             num_parallel_tree=1, predictor='auto', random_state=40,\n",
       "             reg_alpha=0, reg_lambda=1, scale_pos_weight=1, subsample=0.5,\n",
       "             tree_method='exact', use_label_encoder=False,\n",
       "             validate_parameters=1, verbosity=1)"
      ]
     },
     "execution_count": 128,
     "metadata": {},
     "output_type": "execute_result"
    }
   ],
   "source": [
    "reg2.fit(X_train, y_train)"
   ]
  },
  {
   "cell_type": "code",
   "execution_count": 129,
   "metadata": {},
   "outputs": [
    {
     "data": {
      "text/plain": [
       "0.784038347408213"
      ]
     },
     "execution_count": 129,
     "metadata": {},
     "output_type": "execute_result"
    }
   ],
   "source": [
    "y_reg2 = reg2.predict(X_test)\n",
    "roc_auc_score(y_test, y_reg2)"
   ]
  },
  {
   "cell_type": "code",
   "execution_count": 240,
   "metadata": {},
   "outputs": [],
   "source": [
    "# scal, fit and transform data for data with the most import fetures for reg model\n",
    "MMscaler.fit(mailout_train_X[feature_most_imp].astype(float))\n",
    "mailout_train_X_sc = MMscaler.transform(mailout_train_X[feature_most_imp])\n",
    "mailout_test_X_sc = MMscaler.transform(mailout_test_X[feature_most_imp])\n",
    "X_train, X_test, y_train, y_test = train_test_split(mailout_train_X_sc, mailout_train_y, test_size=0.2, random_state=40)\n"
   ]
  },
  {
   "cell_type": "code",
   "execution_count": 241,
   "metadata": {},
   "outputs": [
    {
     "data": {
      "text/plain": [
       "((34369, 160), (8593, 160))"
      ]
     },
     "execution_count": 241,
     "metadata": {},
     "output_type": "execute_result"
    }
   ],
   "source": [
    "X_train.shape, X_test.shape"
   ]
  },
  {
   "cell_type": "code",
   "execution_count": 242,
   "metadata": {},
   "outputs": [
    {
     "data": {
      "text/plain": [
       "XGBRegressor(base_score=0.5, booster='gbtree', colsample_bylevel=1,\n",
       "             colsample_bynode=1, colsample_bytree=1, enable_categorical=False,\n",
       "             eval_metric='auc', gamma=0, gpu_id=-1, importance_type=None,\n",
       "             interaction_constraints='', learning_rate=0.0032, max_delta_step=0,\n",
       "             max_depth=7, min_child_weight=1, missing=nan,\n",
       "             monotone_constraints='()', n_estimators=247, n_jobs=2,\n",
       "             num_parallel_tree=1, predictor='auto', random_state=40,\n",
       "             reg_alpha=0, reg_lambda=1, scale_pos_weight=1, subsample=0.7,\n",
       "             tree_method='exact', use_label_encoder=False,\n",
       "             validate_parameters=1, verbosity=1)"
      ]
     },
     "execution_count": 242,
     "metadata": {},
     "output_type": "execute_result"
    }
   ],
   "source": [
    "reg.fit(X_train, y_train)"
   ]
  },
  {
   "cell_type": "code",
   "execution_count": 243,
   "metadata": {},
   "outputs": [
    {
     "data": {
      "text/plain": [
       "0.7932256991832183"
      ]
     },
     "execution_count": 243,
     "metadata": {},
     "output_type": "execute_result"
    }
   ],
   "source": [
    "y_reg = reg.predict(X_test)\n",
    "roc_auc_score(y_test, y_reg)"
   ]
  },
  {
   "cell_type": "markdown",
   "metadata": {},
   "source": [
    "## Part 3: Kaggle Competition\n",
    "\n",
    "Now that you've created a model to predict which individuals are most likely to respond to a mailout campaign, it's time to test that model in competition through Kaggle. If you click on the link [here](http://www.kaggle.com/t/21e6d45d4c574c7fa2d868f0e8c83140), you'll be taken to the competition page where, if you have a Kaggle account, you can enter.\n",
    "\n",
    "Your entry to the competition should be a CSV file with two columns. The first column should be a copy of \"LNR\", which acts as an ID number for each individual in the \"TEST\" partition. The second column, \"RESPONSE\", should be some measure of how likely each individual became a customer – this might not be a straightforward probability. As you should have found in Part 2, there is a large output class imbalance, where most individuals did not respond to the mailout. Thus, predicting individual classes and using accuracy does not seem to be an appropriate performance evaluation method. Instead, the competition will be using AUC to evaluate performance. The exact values of the \"RESPONSE\" column do not matter as much: only that the higher values try to capture as many of the actual customers as possible, early in the ROC curve sweep."
   ]
  },
  {
   "cell_type": "markdown",
   "metadata": {},
   "source": [
    "For Kaggle Competion the below XGBClassifier model has been chosen with the tuned paremeter giving best roc_auc score with 190 selected features (feature selection has been done based on feature importances for the best performing XGBClassifier model). The same model has been applied with those 190 features to get the best score for the Kaggle submission."
   ]
  },
  {
   "cell_type": "code",
   "execution_count": 304,
   "metadata": {},
   "outputs": [],
   "source": [
    "xgbc_best = xgbc.XGBRegressor(booster='gbtree',\n",
    "             learning_rate=0.0032,\n",
    "             max_depth=7,\n",
    "             n_estimators=247,\n",
    "             subsample=0.7,\n",
    "             eval_metric='auc',\n",
    "             verbosity=1,\n",
    "             use_label_encoder=False,\n",
    "             random_state = 40 \n",
    "                              ) "
   ]
  },
  {
   "cell_type": "code",
   "execution_count": 305,
   "metadata": {},
   "outputs": [
    {
     "data": {
      "text/plain": [
       "((42962, 356), (42833, 356))"
      ]
     },
     "execution_count": 305,
     "metadata": {},
     "output_type": "execute_result"
    }
   ],
   "source": [
    "mailout_train_X_sc.shape, mailout_test_X_sc.shape"
   ]
  },
  {
   "cell_type": "code",
   "execution_count": 306,
   "metadata": {},
   "outputs": [
    {
     "data": {
      "text/plain": [
       "XGBRegressor(base_score=0.5, booster='gbtree', colsample_bylevel=1,\n",
       "             colsample_bynode=1, colsample_bytree=1, enable_categorical=False,\n",
       "             eval_metric='auc', gamma=0, gpu_id=-1, importance_type=None,\n",
       "             interaction_constraints='', learning_rate=0.0032, max_delta_step=0,\n",
       "             max_depth=7, min_child_weight=1, missing=nan,\n",
       "             monotone_constraints='()', n_estimators=247, n_jobs=2,\n",
       "             num_parallel_tree=1, predictor='auto', random_state=40,\n",
       "             reg_alpha=0, reg_lambda=1, scale_pos_weight=1, subsample=0.7,\n",
       "             tree_method='exact', use_label_encoder=False,\n",
       "             validate_parameters=1, verbosity=1)"
      ]
     },
     "execution_count": 306,
     "metadata": {},
     "output_type": "execute_result"
    }
   ],
   "source": [
    "xgbc_best.fit(mailout_train_X_sc, mailout_train_y)"
   ]
  },
  {
   "cell_type": "code",
   "execution_count": 307,
   "metadata": {},
   "outputs": [],
   "source": [
    "feature_importance = pd.Series(xgbc_best.feature_importances_,\n",
    "                     index=mailout_train_X.columns)\n",
    "feature_importance = feature_importance.sort_values(ascending=False)"
   ]
  },
  {
   "cell_type": "code",
   "execution_count": 308,
   "metadata": {
    "scrolled": true
   },
   "outputs": [
    {
     "data": {
      "text/plain": [
       "['KBA13_HALTER_40',\n",
       " 'KBA13_RENAULT',\n",
       " 'PLZ8_HHZ',\n",
       " 'D19_VERSAND_ONLINE_QUOTE_12',\n",
       " 'KBA13_HALTER_20',\n",
       " 'SEMIO_RAT',\n",
       " 'KBA05_VORB2',\n",
       " 'UMFELD_ALT',\n",
       " 'KBA05_ANTG3',\n",
       " 'D19_VERSAND_DATUM',\n",
       " 'KBA13_SEG_SPORTWAGEN',\n",
       " 'KBA05_VORB1',\n",
       " 'CJT_KATALOGNUTZER',\n",
       " 'D19_BEKLEIDUNG_REST',\n",
       " 'SEMIO_TRADV',\n",
       " 'KBA05_SEG4',\n",
       " 'D19_FREIZEIT',\n",
       " 'KBA05_ALTER4',\n",
       " 'LP_FAMILIE_FEIN',\n",
       " 'KBA13_CCM_3001']"
      ]
     },
     "execution_count": 308,
     "metadata": {},
     "output_type": "execute_result"
    }
   ],
   "source": [
    "# the top 20 most significant features for the model\n",
    "feature_most_imp = list(feature_importance.sort_values(ascending=False)[:20].index)\n",
    "feature_most_imp"
   ]
  },
  {
   "cell_type": "code",
   "execution_count": 309,
   "metadata": {},
   "outputs": [],
   "source": [
    "feature_importance_top = feature_importance.sort_values(ascending=False)[:20]\n",
    "feature_importance_df = pd.DataFrame(feature_importance_top,columns =['value'])"
   ]
  },
  {
   "cell_type": "code",
   "execution_count": 310,
   "metadata": {},
   "outputs": [
    {
     "data": {
      "text/plain": [
       "<Figure size 936x360 with 0 Axes>"
      ]
     },
     "metadata": {},
     "output_type": "display_data"
    },
    {
     "data": {
      "image/png": "[encoded data removed]",
      "text/plain": [
       "<Figure size 432x288 with 1 Axes>"
      ]
     },
     "metadata": {
      "needs_background": "light"
     },
     "output_type": "display_data"
    }
   ],
   "source": [
    "plt.figure(figsize=(13,5))\n",
    "feature_importance_df[:10].plot(kind='bar')\n",
    "plt.xlabel('Feature name') \n",
    "plt.ylabel('Value')\n",
    "plt.title(('Model Feature Importance'))\n",
    "plt.show()"
   ]
  },
  {
   "cell_type": "code",
   "execution_count": 313,
   "metadata": {},
   "outputs": [
    {
     "data": {
      "text/html": [
       "<div>\n",
       "<style scoped>\n",
       "    .dataframe tbody tr th:only-of-type {\n",
       "        vertical-align: middle;\n",
       "    }\n",
       "\n",
       "    .dataframe tbody tr th {\n",
       "        vertical-align: top;\n",
       "    }\n",
       "\n",
       "    .dataframe thead th {\n",
       "        text-align: right;\n",
       "    }\n",
       "</style>\n",
       "<table border=\"1\" class=\"dataframe\">\n",
       "  <thead>\n",
       "    <tr style=\"text-align: right;\">\n",
       "      <th></th>\n",
       "      <th>value</th>\n",
       "    </tr>\n",
       "  </thead>\n",
       "  <tbody>\n",
       "    <tr>\n",
       "      <th>KBA13_HALTER_40</th>\n",
       "      <td>0.008278</td>\n",
       "    </tr>\n",
       "    <tr>\n",
       "      <th>KBA13_RENAULT</th>\n",
       "      <td>0.007507</td>\n",
       "    </tr>\n",
       "    <tr>\n",
       "      <th>PLZ8_HHZ</th>\n",
       "      <td>0.007411</td>\n",
       "    </tr>\n",
       "    <tr>\n",
       "      <th>D19_VERSAND_ONLINE_QUOTE_12</th>\n",
       "      <td>0.007031</td>\n",
       "    </tr>\n",
       "    <tr>\n",
       "      <th>KBA13_HALTER_20</th>\n",
       "      <td>0.007017</td>\n",
       "    </tr>\n",
       "    <tr>\n",
       "      <th>SEMIO_RAT</th>\n",
       "      <td>0.006891</td>\n",
       "    </tr>\n",
       "    <tr>\n",
       "      <th>KBA05_VORB2</th>\n",
       "      <td>0.006803</td>\n",
       "    </tr>\n",
       "    <tr>\n",
       "      <th>UMFELD_ALT</th>\n",
       "      <td>0.006618</td>\n",
       "    </tr>\n",
       "    <tr>\n",
       "      <th>KBA05_ANTG3</th>\n",
       "      <td>0.006394</td>\n",
       "    </tr>\n",
       "    <tr>\n",
       "      <th>D19_VERSAND_DATUM</th>\n",
       "      <td>0.006309</td>\n",
       "    </tr>\n",
       "    <tr>\n",
       "      <th>KBA13_SEG_SPORTWAGEN</th>\n",
       "      <td>0.006246</td>\n",
       "    </tr>\n",
       "    <tr>\n",
       "      <th>KBA05_VORB1</th>\n",
       "      <td>0.006237</td>\n",
       "    </tr>\n",
       "    <tr>\n",
       "      <th>CJT_KATALOGNUTZER</th>\n",
       "      <td>0.006188</td>\n",
       "    </tr>\n",
       "    <tr>\n",
       "      <th>D19_BEKLEIDUNG_REST</th>\n",
       "      <td>0.006136</td>\n",
       "    </tr>\n",
       "    <tr>\n",
       "      <th>SEMIO_TRADV</th>\n",
       "      <td>0.006087</td>\n",
       "    </tr>\n",
       "    <tr>\n",
       "      <th>KBA05_SEG4</th>\n",
       "      <td>0.006045</td>\n",
       "    </tr>\n",
       "    <tr>\n",
       "      <th>D19_FREIZEIT</th>\n",
       "      <td>0.005800</td>\n",
       "    </tr>\n",
       "    <tr>\n",
       "      <th>KBA05_ALTER4</th>\n",
       "      <td>0.005756</td>\n",
       "    </tr>\n",
       "    <tr>\n",
       "      <th>LP_FAMILIE_FEIN</th>\n",
       "      <td>0.005727</td>\n",
       "    </tr>\n",
       "    <tr>\n",
       "      <th>KBA13_CCM_3001</th>\n",
       "      <td>0.005677</td>\n",
       "    </tr>\n",
       "  </tbody>\n",
       "</table>\n",
       "</div>"
      ],
      "text/plain": [
       "                                value\n",
       "KBA13_HALTER_40              0.008278\n",
       "KBA13_RENAULT                0.007507\n",
       "PLZ8_HHZ                     0.007411\n",
       "D19_VERSAND_ONLINE_QUOTE_12  0.007031\n",
       "KBA13_HALTER_20              0.007017\n",
       "SEMIO_RAT                    0.006891\n",
       "KBA05_VORB2                  0.006803\n",
       "UMFELD_ALT                   0.006618\n",
       "KBA05_ANTG3                  0.006394\n",
       "D19_VERSAND_DATUM            0.006309\n",
       "KBA13_SEG_SPORTWAGEN         0.006246\n",
       "KBA05_VORB1                  0.006237\n",
       "CJT_KATALOGNUTZER            0.006188\n",
       "D19_BEKLEIDUNG_REST          0.006136\n",
       "SEMIO_TRADV                  0.006087\n",
       "KBA05_SEG4                   0.006045\n",
       "D19_FREIZEIT                 0.005800\n",
       "KBA05_ALTER4                 0.005756\n",
       "LP_FAMILIE_FEIN              0.005727\n",
       "KBA13_CCM_3001               0.005677"
      ]
     },
     "execution_count": 313,
     "metadata": {},
     "output_type": "execute_result"
    }
   ],
   "source": [
    "feature_importance_df"
   ]
  },
  {
   "cell_type": "code",
   "execution_count": 262,
   "metadata": {
    "scrolled": false
   },
   "outputs": [],
   "source": [
    "y_pred_proba = xgbc_best.predict(mailout_test_X_sc)\n"
   ]
  },
  {
   "cell_type": "code",
   "execution_count": 263,
   "metadata": {},
   "outputs": [],
   "source": [
    "y_pred_proba = pd.DataFrame(y_pred_proba)"
   ]
  },
  {
   "cell_type": "code",
   "execution_count": 264,
   "metadata": {},
   "outputs": [],
   "source": [
    "LNR = pd.DataFrame(mailout_test['LNR'])"
   ]
  },
  {
   "cell_type": "code",
   "execution_count": 265,
   "metadata": {},
   "outputs": [],
   "source": [
    "result = pd.concat([LNR,y_pred_proba], axis=1)\n",
    "result = result.loc[~np.isnan(result['LNR'])]\n",
    "\n"
   ]
  },
  {
   "cell_type": "code",
   "execution_count": 266,
   "metadata": {},
   "outputs": [],
   "source": [
    "#change LNR column type from float to int\n",
    "result['LNR'] = result['LNR'].astype(int)\n",
    "result = result.rename(columns={0: \"RESPONSE\"})\n",
    "result.set_index('LNR', inplace = True)\n",
    "\n"
   ]
  },
  {
   "cell_type": "code",
   "execution_count": 267,
   "metadata": {},
   "outputs": [
    {
     "data": {
      "text/html": [
       "<div>\n",
       "<style scoped>\n",
       "    .dataframe tbody tr th:only-of-type {\n",
       "        vertical-align: middle;\n",
       "    }\n",
       "\n",
       "    .dataframe tbody tr th {\n",
       "        vertical-align: top;\n",
       "    }\n",
       "\n",
       "    .dataframe thead th {\n",
       "        text-align: right;\n",
       "    }\n",
       "</style>\n",
       "<table border=\"1\" class=\"dataframe\">\n",
       "  <thead>\n",
       "    <tr style=\"text-align: right;\">\n",
       "      <th></th>\n",
       "      <th>RESPONSE</th>\n",
       "    </tr>\n",
       "    <tr>\n",
       "      <th>LNR</th>\n",
       "      <th></th>\n",
       "    </tr>\n",
       "  </thead>\n",
       "  <tbody>\n",
       "    <tr>\n",
       "      <th>1754</th>\n",
       "      <td>0.250130</td>\n",
       "    </tr>\n",
       "    <tr>\n",
       "      <th>1770</th>\n",
       "      <td>0.247364</td>\n",
       "    </tr>\n",
       "    <tr>\n",
       "      <th>1465</th>\n",
       "      <td>0.233720</td>\n",
       "    </tr>\n",
       "    <tr>\n",
       "      <th>1470</th>\n",
       "      <td>0.233795</td>\n",
       "    </tr>\n",
       "    <tr>\n",
       "      <th>1478</th>\n",
       "      <td>0.233797</td>\n",
       "    </tr>\n",
       "  </tbody>\n",
       "</table>\n",
       "</div>"
      ],
      "text/plain": [
       "      RESPONSE\n",
       "LNR           \n",
       "1754  0.250130\n",
       "1770  0.247364\n",
       "1465  0.233720\n",
       "1470  0.233795\n",
       "1478  0.233797"
      ]
     },
     "execution_count": 267,
     "metadata": {},
     "output_type": "execute_result"
    }
   ],
   "source": [
    "result.head()"
   ]
  },
  {
   "cell_type": "code",
   "execution_count": 268,
   "metadata": {},
   "outputs": [],
   "source": [
    "result.to_csv('submission5.csv')"
   ]
  },
  {
   "cell_type": "code",
   "execution_count": 269,
   "metadata": {},
   "outputs": [
    {
     "data": {
      "text/plain": [
       "(0.2336878478527069, 0.42628100514411926)"
      ]
     },
     "execution_count": 269,
     "metadata": {},
     "output_type": "execute_result"
    }
   ],
   "source": [
    "result.RESPONSE.min(),result.RESPONSE.max()"
   ]
  },
  {
   "cell_type": "code",
   "execution_count": null,
   "metadata": {},
   "outputs": [],
   "source": []
  }
 ],
 "metadata": {
  "kernelspec": {
   "display_name": "Python 3",
   "language": "python",
   "name": "python3"
  },
  "language_info": {
   "codemirror_mode": {
    "name": "ipython",
    "version": 3
   },
   "file_extension": ".py",
   "mimetype": "text/x-python",
   "name": "python",
   "nbconvert_exporter": "python",
   "pygments_lexer": "ipython3",
   "version": "3.7.3"
  }
 },
 "nbformat": 4,
 "nbformat_minor": 2
}
